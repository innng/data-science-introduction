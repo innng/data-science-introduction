{
 "cells": [
  {
   "cell_type": "markdown",
   "metadata": {
    "deletable": false,
    "editable": false,
    "nbgrader": {
     "checksum": "56e37e144108392dff4306bd23ba5e8d",
     "grade": false,
     "grade_id": "cellc-a00",
     "locked": true,
     "schema_version": 1,
     "solution": false
    }
   },
   "source": [
    "# Aula 00 - Python Básico"
   ]
  },
  {
   "cell_type": "markdown",
   "metadata": {
    "deletable": false,
    "editable": false,
    "nbgrader": {
     "checksum": "6bece173742afc0789cd6067d5425a1a",
     "grade": false,
     "grade_id": "cell1c-a00",
     "locked": true,
     "schema_version": 1,
     "solution": false
    }
   },
   "source": [
    "# Exercício 01:\n",
    "\n",
    "Crie uma função que, dado dois textos, retorne uma __lista__ (que pode ser vazia) em ordem lexicográfica com as palavras que ocorrem em ambos. A função não deve ser case sensitive, nesse caso, transforme todo o texto reescrevendo as palavras em letra minúscula. Para testar sua função, você pode utilizar os dois poemas abaixo, cuja saída esperada é: ['and', 'are', 'is'] \n",
    "\n",
    "_The rose is a rose,  \n",
    "And was always a rose.  \n",
    "But the theory now goes  \n",
    "That the apple’s a rose,  \n",
    "And the pear is, and so’s  \n",
    "The plum, I suppose.  \n",
    "The dear only knows  \n",
    "What will next prove a rose.  \n",
    "You, of course, are a rose –  \n",
    "But were always a rose._  \n",
    "\n",
    "_Roses are red,  \n",
    "Violets are blue,  \n",
    "sugar is sweet,  \n",
    "And so are you._  \n",
    "\n",
    "\n",
    "\n",
    "__Dicas:__  \n",
    "não se preocupe em remover a pontuação do texto.  \n",
    "a função sorted(lista) ordena em ordem crescente (ou lexicográfica) uma lista qualquer.  \n",
    "a função string.lower() tranforma todos os caracteres da string em letra minúscula.  \n"
   ]
  },
  {
   "cell_type": "code",
   "execution_count": 1,
   "metadata": {
    "deletable": false,
    "nbgrader": {
     "checksum": "31312d48986a1958e6530f89395ef427",
     "grade": false,
     "grade_id": "cell1-a00",
     "locked": false,
     "schema_version": 1,
     "solution": true
    }
   },
   "outputs": [],
   "source": [
    "#Exemplo:\n",
    "poem1 = \"\"\"The rose is a rose,\n",
    "And was always a rose.\n",
    "But the theory now goes\n",
    "That the apple’s a rose,\n",
    "And the pear is, and so’s\n",
    "The plum, I suppose.\n",
    "The dear only knows\n",
    "What will next prove a rose.\n",
    "You, of course, are a rose –\n",
    "But were always a rose.\"\"\"\n",
    "\n",
    "poem2 = \"\"\"Roses are red,\n",
    "Violets are blue,\n",
    "sugar is sweet,\n",
    "And so are you.\"\"\"\n",
    "\n",
    "\n",
    "def common_words(text1, text2):\n",
    "    \n",
    "    some_set = sorted({x for x in text1.split() for y in text2.split() if x == y and x is not '\\n'})\n",
    "    some_list = [x.lower() for x in some_set]\n",
    "    return some_list\n"
   ]
  },
  {
   "cell_type": "code",
   "execution_count": 2,
   "metadata": {
    "deletable": false,
    "editable": false,
    "nbgrader": {
     "checksum": "ead340f7abefc68e591f930dff122f66",
     "grade": true,
     "grade_id": "cell1t1-a00",
     "locked": true,
     "points": 1,
     "schema_version": 1,
     "solution": false
    }
   },
   "outputs": [],
   "source": [
    "from nose.tools import assert_equal\n",
    "\"\"\"Check that common_words returns the correct output for several inputs\"\"\"\n",
    "\n",
    "poem1 = \"\"\"The rose is a rose,\n",
    "And was always a rose.\n",
    "But the theory now goes\n",
    "That the apple’s a rose,\n",
    "And the pear is, and so’s\n",
    "The plum, I suppose.\n",
    "The dear only knows\n",
    "What will next prove a rose.\n",
    "You, of course, are a rose –\n",
    "But were always a rose.\"\"\"\n",
    "\n",
    "poem2 = \"\"\"Roses are red,\n",
    "Violets are blue,\n",
    "sugar is sweet,\n",
    "And so are you.\"\"\"\n",
    "\n",
    "assert_equal(common_words(poem1, poem2), ['and', 'are', 'is'])"
   ]
  },
  {
   "cell_type": "code",
   "execution_count": null,
   "metadata": {
    "deletable": false,
    "editable": false,
    "nbgrader": {
     "checksum": "4297cd4bcc9ae7a6c29c46f0aad69b7c",
     "grade": true,
     "grade_id": "cell1t2-a00",
     "locked": true,
     "points": 1,
     "schema_version": 1,
     "solution": false
    }
   },
   "outputs": [],
   "source": []
  },
  {
   "cell_type": "markdown",
   "metadata": {
    "deletable": false,
    "editable": false,
    "nbgrader": {
     "checksum": "241febddd43752538fd9329bc282ccfc",
     "grade": false,
     "grade_id": "cell2c-a00",
     "locked": true,
     "schema_version": 1,
     "solution": false
    }
   },
   "source": [
    "# Exercício 02:\n",
    "\n",
    "Crie uma função que, dado uma lista de tuplas representando pares de palavras com sua respectiva traduação e uma frase, retorne a frase traduzida. As palavras que não possuem uma tradução devem ser impressas como aparecem na frase de entrada. Para testar sua função, você pode utilizar a entrada abaixo, cuja saída esperada é: o cara tossiu.\n",
    "\n",
    "Lista de tuplas: [(\"galaxy\", \"cara tossiu\"), (\"kagayaku\", \"canalha do\"), (\"atsuki\", \"alto que\"), (\"yuushi\", \"util\")]  \n",
    "Frase: \"o galaxy\"\n",
    "\n",
    "\n",
    "__Observação:__  \n",
    "Esse problema, conhecido como O Fantástico Jaspion! foi adaptado de https://br.spoj.com/problems/JASPION/.\n"
   ]
  },
  {
   "cell_type": "code",
   "execution_count": 3,
   "metadata": {
    "deletable": false,
    "nbgrader": {
     "checksum": "b31eaa4b7a92a849522714cb059b7c1c",
     "grade": false,
     "grade_id": "cell2-a00",
     "locked": false,
     "schema_version": 1,
     "solution": true
    }
   },
   "outputs": [],
   "source": [
    "#Exemplo:\n",
    "lista_de_tuplas = [(\"galaxy\", \"cara tossiu\"), (\"kagayaku\", \"canalha do\"), (\"atsuki\", \"alto que\"), (\"yuushi\", \"util\")]\n",
    "frase = \"o galaxy\"\n",
    "\n",
    "\n",
    "def jaspion(tuples_list, sentence):\n",
    "    \n",
    "    list_words = sentence.split()\n",
    "    finalSentence = \"\"\n",
    "    \n",
    "    for word in list_words:\n",
    "        for tupl in tuples_list:\n",
    "            if word in tupl:\n",
    "                if word == tupl[0]:\n",
    "                    finalSentence += tupl[1] + \" \"\n",
    "                elif word == tupl[1]: \n",
    "                    finalSentence += tupl[0] + \" \"\n",
    "                break\n",
    "        else:\n",
    "            finalSentence += word + \" \"\n",
    "    \n",
    "    return finalSentence.strip()\n",
    "    \n",
    "    \n"
   ]
  },
  {
   "cell_type": "code",
   "execution_count": 4,
   "metadata": {
    "deletable": false,
    "editable": false,
    "nbgrader": {
     "checksum": "a60db5d4171d2c70d160803778a83e5e",
     "grade": true,
     "grade_id": "cell2t1-a00",
     "locked": true,
     "points": 1,
     "schema_version": 1,
     "solution": false
    }
   },
   "outputs": [],
   "source": [
    "from nose.tools import assert_equal\n",
    "\"\"\"Check that jaspion returns the correct output for several inputs\"\"\"\n",
    "\n",
    "tl1 = [(\"galaxy\", \"cara tossiu\"), (\"kagayaku\", \"canalha do\"), (\"atsuki\", \"alto que\"), (\"yuushi\", \"util\")]\n",
    "s1 = \"o galaxy\"\n",
    "\n",
    "assert_equal(jaspion(tl1, s1), \"o cara tossiu\")"
   ]
  },
  {
   "cell_type": "code",
   "execution_count": null,
   "metadata": {
    "deletable": false,
    "editable": false,
    "nbgrader": {
     "checksum": "e442d470d44ac2197891cfae0bebb0e8",
     "grade": true,
     "grade_id": "cell2t2-a00",
     "locked": true,
     "points": 1,
     "schema_version": 1,
     "solution": false
    }
   },
   "outputs": [],
   "source": []
  }
 ],
 "metadata": {
  "kernelspec": {
   "display_name": "Python 3",
   "language": "python",
   "name": "python3"
  },
  "language_info": {
   "codemirror_mode": {
    "name": "ipython",
    "version": 3
   },
   "file_extension": ".py",
   "mimetype": "text/x-python",
   "name": "python",
   "nbconvert_exporter": "python",
   "pygments_lexer": "ipython3",
   "version": "3.6.5"
  }
 },
 "nbformat": 4,
 "nbformat_minor": 2
}
