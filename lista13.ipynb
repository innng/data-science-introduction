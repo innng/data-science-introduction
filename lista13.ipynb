{
 "cells": [
  {
   "cell_type": "markdown",
   "metadata": {
    "deletable": false,
    "editable": false,
    "nbgrader": {
     "checksum": "2d5b2f1cfaf794b31104d5a8c18b0bbc",
     "grade": false,
     "grade_id": "cellc-a00",
     "locked": true,
     "schema_version": 1,
     "solution": false
    }
   },
   "source": [
    "# Aula 13 - Regressão Linear Simples"
   ]
  },
  {
   "cell_type": "markdown",
   "metadata": {
    "deletable": false,
    "editable": false,
    "nbgrader": {
     "checksum": "e5a32bad6011ae22c0f4c28d0412a437",
     "grade": false,
     "grade_id": "cell1c-a00",
     "locked": true,
     "schema_version": 1,
     "solution": false
    }
   },
   "source": [
    "# Exercício 01:\n",
    "\n",
    "A regressão linear simples não serve apenas para modelarmos relações lineares entre variáveis. Abaixo estão listados algumas conjuntos de dados contendo relações exponenciais entre variáveis:\n",
    "\n",
    "* [Raging River Discharge](http://resources.seattlecentral.edu/qelp/sets/071/071.html): Os dados mostram a descarga como uma função do tempo na estação de medição #12145500 no rio Raging no final de novembro de 1998, um período tipicamente chuvoso no oeste de Washington, quando o solo está quase totalmente saturado. Apenas parte do hidrograma é mostrada. Os dados começam no pico de descarga de cerca de 2500 cfs após uma intensa tempestade e ilustram a diminuição na descarga quando a água é descarregada do sistema. A tempestade que gerou esta hidrografia despejou muita água na bacia e depois passou rapidamente. Assim, o hidrograma está mostrando a resposta do Rio Raging a um evento de tempestade muito discreto. \n",
    "\n",
    "* [Earth's Atmosphere](http://resources.seattlecentral.edu/qelp/sets/026/026.html): a variação da umidade específica da saturação em função da temperatura (e implicitamente, altitude) para a atmosfera padrão. Estes valores não são \"dados\", eles foram gerados a partir de um modelo (função) da atmosfera padrão. A umidade específica da saturação aumenta com o aumento da temperatura, consistente com a experiência pessoal! E como sentido e observado, um pequeno aumento na temperatura em altas temperaturas produz uma grande mudança na umidade máxima possível. O relacionamento parece exponencial; quão bem um modelo exponencial se encaixa nesses números?\n",
    "\n",
    "* [Rainbow Trout](http://resources.seattlecentral.edu/qelp/sets/023/023.html): A truta arco-íris mostra uma relação exponencial entre comprimento e peso. Peixes menores (mais jovens) são relativamente longos e magros, enquanto peixes maiores (mais velhos) são muito mais robustos. Este tipo de sequência de crescimento é muito comum entre muitas plantas e animais; os humanos mostram o mesmo tipo de comportamento de crescimento. O bom ajuste de um modelo exponencial aos dados poderia ser utilizado para eliminar a pesagem do peixe; basta medir o comprimento e calcular o peso da função.\n",
    "\n",
    "* [Patient recovery](https://onlinecourses.science.psu.edu/stat501/sites/onlinecourses.science.psu.edu.stat501/files/data/recovery/index.txt): O exemplo da recuperação a longo prazo após a alta hospitalar da página 514 do livro *Applied Linear Regression Models (4th ed) by Kutner, Nachtsheim, and Neter*. A variável resposta, Y, é o índice prognóstico para recuperação em longo prazo e a variável preditora, X, é o número de dias de internação. \n",
    "\n",
    "Use o modelo de regressão linear simples para explicar *pelo menos uma* das relações acima. Plote o gráfico com os dados e com a curva de regressão. Indique também a qualidade do ajuste através do $R^2$."
   ]
  },
  {
   "cell_type": "code",
   "execution_count": null,
   "metadata": {
    "deletable": false,
    "nbgrader": {
     "checksum": "ba4949b957469f59aeba4021627f2a9b",
     "grade": true,
     "grade_id": "cell1-a00",
     "locked": false,
     "points": 1,
     "schema_version": 1,
     "solution": true
    }
   },
   "outputs": [],
   "source": [
    "# YOUR CODE HERE\n",
    "raise NotImplementedError()\n"
   ]
  }
 ],
 "metadata": {
  "kernelspec": {
   "display_name": "Python 3",
   "language": "python",
   "name": "python3"
  },
  "language_info": {
   "codemirror_mode": {
    "name": "ipython",
    "version": 3
   },
   "file_extension": ".py",
   "mimetype": "text/x-python",
   "name": "python",
   "nbconvert_exporter": "python",
   "pygments_lexer": "ipython3",
   "version": "3.6.5"
  }
 },
 "nbformat": 4,
 "nbformat_minor": 2
}
