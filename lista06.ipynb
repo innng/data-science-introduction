{
 "cells": [
  {
   "cell_type": "markdown",
   "metadata": {
    "deletable": false,
    "editable": false,
    "nbgrader": {
     "checksum": "4ab843dcfa4341bf7295b620cf74bd71",
     "grade": false,
     "grade_id": "cellc-a00",
     "locked": true,
     "schema_version": 1,
     "solution": false
    }
   },
   "source": [
    "# Aula 06 - Hipótese e Inferência"
   ]
  },
  {
   "cell_type": "markdown",
   "metadata": {
    "deletable": false,
    "editable": false,
    "nbgrader": {
     "checksum": "6dd03065087cc8a49df1828a5b568d87",
     "grade": false,
     "grade_id": "cell1c1-a00",
     "locked": true,
     "schema_version": 1,
     "solution": false
    }
   },
   "source": [
    "# Exercício 01:\n",
    "\n",
    "Joãozinho fez a prova do POSCOMP, que tem 70 questões de múltipla escolha com 4 opções por questão, e tirou 35. Incomodado com a sua nota, e a fim de irritar os seus colegas, ele disse que \"chutou todas as questões\", ou seja, escolheu aleatoriamente todas as respostas dadas. Sabendo disso, responda:"
   ]
  },
  {
   "cell_type": "markdown",
   "metadata": {
    "deletable": false,
    "editable": false,
    "nbgrader": {
     "checksum": "50c8b90746de8ba4931fbc13317b15ce",
     "grade": false,
     "grade_id": "cell1c2-a00",
     "locked": true,
     "schema_version": 1,
     "solution": false
    }
   },
   "source": [
    "(a) Qual é a média de acertos esperados no POSCOMP para pessoas que escolhem aleatoriamente as respostas? Indique o intervalo de notas ao redor da média que representa 95% das notas.\n",
    "\n",
    "__Importante:__  \n",
    "Para responder à essa questão, crie uma função _a()_ que retorna uma lista de três elementos, sendo que o __segundo__ é a __média__ e o primeiro e o terceiro correspondem aos limites do intervalo ao redor da média que representa 95% das notas. Os valores da lista devem ter uma precisão de 4 casas decimais.  \n",
    "_Exemplo de saída: [1.2345, 2.0, 3.2345]_, onde 2.0 é o valor da média e o intervalo é (1.2345, 3.2345).\n",
    "\n",
    "\n",
    "__Dica:__  \n",
    "a função _round(var, n)_ retorna o valor da variável var com uma precisão de n casas decimais."
   ]
  },
  {
   "cell_type": "code",
   "execution_count": 11,
   "metadata": {
    "deletable": false,
    "nbgrader": {
     "checksum": "32946be5374caab52b74e5b860763142",
     "grade": false,
     "grade_id": "cell11-a00",
     "locked": false,
     "schema_version": 1,
     "solution": true
    }
   },
   "outputs": [
    {
     "data": {
      "text/plain": [
       "[11.541, 17.5, 23.459]"
      ]
     },
     "execution_count": 11,
     "metadata": {},
     "output_type": "execute_result"
    }
   ],
   "source": [
    "# YOUR CODE HERE\n",
    "from scipy.stats import norm\n",
    "import math\n",
    "\n",
    "def normal_approximation_to_binomial(n, p):\n",
    "    mu = p * n\n",
    "    sigma = math.sqrt(p * (1 - p) * n)\n",
    "    return mu, sigma\n",
    "\n",
    "def normal_upper_bound(probability, mu=0, sigma=1):\n",
    "    return norm.isf(1-probability, mu, sigma)\n",
    "    \n",
    "def normal_lower_bound(probability, mu=0, sigma=1):\n",
    "    return norm.isf(probability, mu, sigma)\n",
    "\n",
    "def a():\n",
    "        mu, sigma = normal_approximation_to_binomial(70,0.25)\n",
    "        ub = normal_upper_bound(0.95, mu, sigma)\n",
    "        lb = normal_lower_bound(0.95, mu, sigma)\n",
    "        \n",
    "        return [round(lb, 4), round(mu,4), round(ub, 4)]\n",
    "a()\n",
    "    \n",
    "    "
   ]
  },
  {
   "cell_type": "code",
   "execution_count": null,
   "metadata": {
    "deletable": false,
    "editable": false,
    "nbgrader": {
     "checksum": "8849930a699d63ef4a2c9c5ac368271e",
     "grade": true,
     "grade_id": "cell1t1-a00",
     "locked": true,
     "points": 1,
     "schema_version": 1,
     "solution": false
    }
   },
   "outputs": [],
   "source": []
  },
  {
   "cell_type": "markdown",
   "metadata": {
    "deletable": false,
    "editable": false,
    "nbgrader": {
     "checksum": "88be40ed45ea6f7dd6366c2f5946cdec",
     "grade": false,
     "grade_id": "cell1c3-a00",
     "locked": true,
     "schema_version": 1,
     "solution": false
    }
   },
   "source": [
    "(b) Qual a probabilidade de Joãozinho ter acertado um valor tão alto quanto 35 em escolhas aleatórias de respostas? \n",
    "\n",
    "__Importante:__  \n",
    "Para responder à essa questão, crie uma função _b()_ que retorna esse valor de probabilidade com uma precisão de 10 casas decimais.\n",
    "\n",
    "__Dica:__  \n",
    "calcule o *p-valor* para 35.  \n",
    "a função _round(var, n)_ retorna o valor da variável var com uma precisão de n casas decimais."
   ]
  },
  {
   "cell_type": "code",
   "execution_count": 15,
   "metadata": {
    "deletable": false,
    "nbgrader": {
     "checksum": "6f6fb60960a46b5e964ddfce4d0aefd6",
     "grade": false,
     "grade_id": "cell12-a00",
     "locked": false,
     "schema_version": 1,
     "solution": true
    }
   },
   "outputs": [
    {
     "data": {
      "text/plain": [
       "6.811e-07"
      ]
     },
     "execution_count": 15,
     "metadata": {},
     "output_type": "execute_result"
    }
   ],
   "source": [
    "# YOUR CODE HERE\n",
    "from scipy.stats import norm\n",
    "import math\n",
    "\n",
    "def normal_approximation_to_binomial(n, p):\n",
    "    mu = p * n\n",
    "    sigma = math.sqrt(p * (1 - p) * n)\n",
    "    return mu, sigma\n",
    "\n",
    "normal_probability_below = norm.cdf\n",
    "\n",
    "def normal_probability_above(lo, mu=0, sigma=1):\n",
    "    return 1 - norm.cdf(lo, mu, sigma)\n",
    "\n",
    "def two_sided_p_value(x, mu=0, sigma=1):\n",
    "    if x >= mu:\n",
    "        return 2 * normal_probability_above(x, mu, sigma)\n",
    "    else:\n",
    "        return 2 * normal_probability_below(x, mu, sigma)\n",
    "\n",
    "def b():\n",
    "    mu, sigma = normal_approximation_to_binomial(70,0.25)\n",
    "    return round(two_sided_p_value(35, mu, sigma)/2, 10)\n",
    "\n",
    "b()"
   ]
  },
  {
   "cell_type": "code",
   "execution_count": null,
   "metadata": {
    "deletable": false,
    "editable": false,
    "nbgrader": {
     "checksum": "4297cd4bcc9ae7a6c29c46f0aad69b7c",
     "grade": true,
     "grade_id": "cell1t2-a00",
     "locked": true,
     "points": 1,
     "schema_version": 1,
     "solution": false
    }
   },
   "outputs": [],
   "source": []
  },
  {
   "cell_type": "markdown",
   "metadata": {
    "deletable": false,
    "editable": false,
    "nbgrader": {
     "checksum": "2b4349d98e3f6c59e09fadb006c68465",
     "grade": false,
     "grade_id": "cell2c1-a00",
     "locked": true,
     "schema_version": 1,
     "solution": false
    }
   },
   "source": [
    "# Exercício 02:\n",
    "\n",
    "\n",
    "Você quer verificar se uma moeda é justa. Você assume inicialmente que ela é justa e define que a probabilidade $p$ de dar \"cara\" vem de uma distribuição a priori __Beta($\\alpha=4, \\beta=4$)__. Imprima os parâmetros $\\alpha$ e $\\beta$ e plote a PDF distribuição a posteriori de $p$ logo depois de observar os seguintes lançamentos de moeda:\n",
    "\n",
    "(a) 4 \"caras\" e 8 \"coroas\"\n",
    "\n",
    "(b) 23 \"caras\" e 27 \"coroas\"\n",
    "\n",
    "(c) 33 \"caras\" e 17 \"coroas\"\n",
    "\n",
    "\n",
    "__Importante:__  \n",
    "Use todo o histórico de lançamentos para plotar a posteriori da distribuição de $p$, isto é, a posteriori do último lançamento (letra \"c\") deve considerar os lançamentos feitos na letra \"a\" e na letra \"b\".\n"
   ]
  },
  {
   "cell_type": "code",
   "execution_count": null,
   "metadata": {
    "deletable": false,
    "editable": false,
    "nbgrader": {
     "checksum": "d1d48f3e3812dcd4b529a261414cabc0",
     "grade": false,
     "grade_id": "cell2c2-a00",
     "locked": true,
     "schema_version": 1,
     "solution": false
    }
   },
   "outputs": [],
   "source": [
    "matplotlib inline"
   ]
  },
  {
   "cell_type": "code",
   "execution_count": null,
   "metadata": {
    "deletable": false,
    "editable": false,
    "nbgrader": {
     "checksum": "4eb9d90e1d67b6a7b82412c899955920",
     "grade": false,
     "grade_id": "cell2c3-a00",
     "locked": true,
     "schema_version": 1,
     "solution": false
    }
   },
   "outputs": [],
   "source": [
    "priori = np.array([4, 4])\n",
    "lancamentos = np.array([[4, 8],\n",
    "                        [23, 27],\n",
    "                        [33, 17]])"
   ]
  },
  {
   "cell_type": "code",
   "execution_count": 34,
   "metadata": {
    "deletable": false,
    "nbgrader": {
     "checksum": "f0229a994a7af1659976852a311103e5",
     "grade": true,
     "grade_id": "cell2-a00",
     "locked": false,
     "points": 1,
     "schema_version": 1,
     "solution": true
    }
   },
   "outputs": [
    {
     "name": "stdout",
     "output_type": "stream",
     "text": [
      "4 4\n",
      "8 12\n",
      "31 39\n",
      "64 56\n"
     ]
    }
   ],
   "source": [
    "# YOUR CODE HERE\n",
    "from matplotlib import pyplot as plt\n",
    "import numpy as np\n",
    "import math\n",
    "\n",
    "\n",
    "def B(alpha, beta):\n",
    "    return math.gamma(alpha) * math.gamma(beta) / math.gamma(alpha + beta)\n",
    "\n",
    "def beta_pdf(x, alpha, beta):\n",
    "    if x < 0 or x > 1:\n",
    "        # no weight outside of [0, 1]\n",
    "        return 0\n",
    "    return x ** (alpha - 1) * (1 - x) ** (beta - 1) / B(alpha, beta)\n",
    "\n",
    "x = [round(x, 4) for x in np.arange(0, 1, 0.001)]\n",
    "y = []\n",
    "\n",
    "alpha = 4\n",
    "beta = 4\n",
    "print(alpha,beta)\n",
    "\n",
    "# primeiro lançamento\n",
    "alpha += 4\n",
    "beta += 8\n",
    "# y.append(beta_pdf(x, alpha, beta))\n",
    "print(alpha, beta)\n",
    "\n",
    "# segundo lançamento\n",
    "alpha += 23\n",
    "beta += 27\n",
    "# y.append(beta_pdf(x, alpha, beta))\n",
    "print(alpha, beta)\n",
    "\n",
    "# terceiro lançamento\n",
    "alpha += 33\n",
    "beta += 17\n",
    "# y.append(beta_pdf(x, alpha, beta))\n",
    "print(alpha, beta)\n",
    "\n"
   ]
  },
  {
   "cell_type": "markdown",
   "metadata": {
    "deletable": false,
    "editable": false,
    "nbgrader": {
     "checksum": "a87edf40101f00f40bcc09c08d64b514",
     "grade": false,
     "grade_id": "cell3c1-a00",
     "locked": true,
     "schema_version": 1,
     "solution": false
    }
   },
   "source": [
    "# Exercício 03:\n",
    "\n",
    "\n",
    "Considere a função `sample_from_binomial_100`, que retorna o número de sucessos gerados em 100 testes de Bernoulli. \n"
   ]
  },
  {
   "cell_type": "code",
   "execution_count": null,
   "metadata": {
    "deletable": false,
    "editable": false,
    "nbgrader": {
     "checksum": "184bdafa049bb8a7b250fe98de945a07",
     "grade": false,
     "grade_id": "cell3c2-a00",
     "locked": true,
     "schema_version": 1,
     "solution": false
    }
   },
   "outputs": [],
   "source": [
    "def sample_from_binomial_100():\n",
    "    return np.random.binomial(100, 0.42)"
   ]
  },
  {
   "cell_type": "markdown",
   "metadata": {
    "deletable": false,
    "editable": false,
    "nbgrader": {
     "checksum": "daaa0f7176e81b4d76d5fe16d163fc85",
     "grade": false,
     "grade_id": "cellc3-a00",
     "locked": true,
     "schema_version": 1,
     "solution": false
    }
   },
   "source": [
    "Apesar de estar escrito na função, assuma você não sabe o valor do parâmetro $p$. Escreva um programa para estimar o valor do parâmetro $p$ usando inferência Bayesiana. \n",
    "\n",
    "Para lhe ajudar, use a função abaixo, que retorna os hiperparâmetros da posteriori a partir do número de caras e de coroas observado e dos hiperparâmetros da priori."
   ]
  },
  {
   "cell_type": "code",
   "execution_count": null,
   "metadata": {
    "deletable": false,
    "editable": false,
    "nbgrader": {
     "checksum": "4d04591b3d1a5b25a4fc06f747ee8c9a",
     "grade": false,
     "grade_id": "cellc4-a00",
     "locked": true,
     "schema_version": 1,
     "solution": false
    }
   },
   "outputs": [],
   "source": [
    "def get_posterior(n_caras, n_coroas, alpha_priori, beta_priori):\n",
    "    return (n_caras+alpha_priori, n_coroas+beta_priori)"
   ]
  },
  {
   "cell_type": "markdown",
   "metadata": {
    "deletable": false,
    "editable": false,
    "nbgrader": {
     "checksum": "4f0df3fdaa354f1fd575cebb85bd4fc6",
     "grade": false,
     "grade_id": "cellc5-a00",
     "locked": true,
     "schema_version": 1,
     "solution": false
    }
   },
   "source": [
    "Assim, defina uma priori Beta para o parâmetro $p$ e faça a amostragem de \"caras\" e \"coroas\" a partir da função `sample_from_binomial_100`. Com essas informações, calcule a distribuição posteriori de $p$ e amostre um valor de $p$ dessa distribuição. Salve esse valor de $p$ em uma lista. Troque os hiperparâmetros da priori pelos da posteriori e repita todo o processo. Quando os últimos $5$ valores de $p$ registrados tiverem uma variância menor que `0.0001`, interrompa o processo e imprima:\n",
    "\n",
    "(a) a média desses últimos $5$ valores de $p$;\n",
    "\n",
    "(b) a última distribuição a posteriori que você calculou (plot). "
   ]
  },
  {
   "cell_type": "code",
   "execution_count": null,
   "metadata": {
    "deletable": false,
    "nbgrader": {
     "checksum": "50d5a5e94ca4e9a6b25fe11dd5462853",
     "grade": true,
     "grade_id": "cell3-a00",
     "locked": false,
     "points": 2,
     "schema_version": 1,
     "solution": true
    }
   },
   "outputs": [],
   "source": [
    "# YOUR CODE HERE\n",
    "raise NotImplementedError()\n"
   ]
  }
 ],
 "metadata": {
  "kernelspec": {
   "display_name": "Python 3",
   "language": "python",
   "name": "python3"
  },
  "language_info": {
   "codemirror_mode": {
    "name": "ipython",
    "version": 3
   },
   "file_extension": ".py",
   "mimetype": "text/x-python",
   "name": "python",
   "nbconvert_exporter": "python",
   "pygments_lexer": "ipython3",
   "version": "3.6.5"
  }
 },
 "nbformat": 4,
 "nbformat_minor": 2
}
