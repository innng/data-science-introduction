{
 "cells": [
  {
   "cell_type": "markdown",
   "metadata": {
    "deletable": false,
    "editable": false,
    "nbgrader": {
     "checksum": "9c983dec3e57eb20a12fd4050a061733",
     "grade": false,
     "grade_id": "cellc-a00",
     "locked": true,
     "schema_version": 1,
     "solution": false
    }
   },
   "source": [
    "# Aula 16 - Árvores de Decisão"
   ]
  },
  {
   "cell_type": "markdown",
   "metadata": {
    "deletable": false,
    "editable": false,
    "nbgrader": {
     "checksum": "0ae8ced68f42970371fde4c64ec15c48",
     "grade": false,
     "grade_id": "cell1c-a00",
     "locked": true,
     "schema_version": 1,
     "solution": false
    }
   },
   "source": [
    "# Exercício 01:\n",
    "\n",
    "Deputados legislam no Congresso a partir de votações associadas a proposições (ex: [PEC 241](https://www.camara.gov.br/proposicoesWeb/fichadetramitacao?idProposicao=2088351)). Os deputados têm quatro opções: \"sim\", \"não\", \"obstrução\" (tenta obstruir a votação) e \"abstenção\" (não vota). Idealmente, essas votações podem separar grupos ideológicos no Congresso, que por sua vez, deveriam estar associados aos partidos políticos. Assim, construa uma árvore de decisão sobre [os dados históricos das votações dos deputados no Brasil](https://www.dropbox.com/s/iu5nlu7ta853voc/votes.zip?dl=0), considerando que as classes são os partidos políticos. Quantas votações são necessárias para separar perfeitamente todos os deputados brasileiros em seus respectivos partidos? \n",
    "\n",
    "**EXTRA:** E nos EUA? Para os EUA, você precisará coletar os [dados](https://www.govtrack.us/developers/data), mas isso é [muito fácil](https://www.govtrack.us/data/congress/113/votes/2014/h108/data.json).\n",
    "\n"
   ]
  },
  {
   "cell_type": "code",
   "execution_count": null,
   "metadata": {
    "deletable": false,
    "nbgrader": {
     "checksum": "ba4949b957469f59aeba4021627f2a9b",
     "grade": true,
     "grade_id": "cell1-a00",
     "locked": false,
     "points": 1,
     "schema_version": 1,
     "solution": true
    }
   },
   "outputs": [],
   "source": [
    "# YOUR CODE HERE\n",
    "raise NotImplementedError()\n"
   ]
  },
  {
   "cell_type": "markdown",
   "metadata": {
    "deletable": false,
    "editable": false,
    "nbgrader": {
     "checksum": "bb72e652eb33920cbb61e34199fc21dd",
     "grade": false,
     "grade_id": "cell2c-a00",
     "locked": true,
     "schema_version": 1,
     "solution": false
    }
   },
   "source": [
    "# Exercício 02:\n",
    "\n",
    "Na Aula 14, foi pedido que você desenvolvesse um modelo linear que explique a habilidade *overall* dos jogadores do FIFA a partir das suas outras habilidades. Neste exercício, você vai resolver este mesmo problema, mas agora usando florestas aleatórias. Compare os resultados obtidos com florestas aleatórias com aqueles obtidos pelo modelo linear. [A planilha](https://www.dropbox.com/s/a48tvfd3xyusyek/skills_and_overall_sample_20k.csv?dl=0) contendo as habilidades de 20 mil jogadores é mesma. Se você quiser saber qual jogador está descrito, basta acessar o site `https://sofifa.com/player/ID`, em que `ID` é um dos campos da planilha."
   ]
  },
  {
   "cell_type": "code",
   "execution_count": null,
   "metadata": {
    "deletable": false,
    "nbgrader": {
     "checksum": "f0229a994a7af1659976852a311103e5",
     "grade": true,
     "grade_id": "cell2-a00",
     "locked": false,
     "points": 1,
     "schema_version": 1,
     "solution": true
    }
   },
   "outputs": [],
   "source": [
    "# YOUR CODE HERE\n",
    "raise NotImplementedError()\n"
   ]
  }
 ],
 "metadata": {
  "kernelspec": {
   "display_name": "Python 3",
   "language": "python",
   "name": "python3"
  },
  "language_info": {
   "codemirror_mode": {
    "name": "ipython",
    "version": 3
   },
   "file_extension": ".py",
   "mimetype": "text/x-python",
   "name": "python",
   "nbconvert_exporter": "python",
   "pygments_lexer": "ipython3",
   "version": "3.6.5"
  }
 },
 "nbformat": 4,
 "nbformat_minor": 2
}
