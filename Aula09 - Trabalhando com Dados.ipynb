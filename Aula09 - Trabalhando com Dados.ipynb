{
 "cells": [
  {
   "cell_type": "markdown",
   "metadata": {},
   "source": [
    "# Trabalhando com Dados\n",
    "\n",
    "Trabalhar com dados é uma arte e uma ciência. Nós falamos principalmente sobre a parte da ciência, mas nesta aula vamos ver algumas das artes.\n",
    "\n",
    "## Explorando seus dados\n",
    "\n",
    "Depois de identificar as perguntas que você está tentando responder e de colocar suas mãos em alguns dados, você pode se sentir tentado a mergulhar e começar imediatamente a criar modelos e obter respostas. Mas você deve resistir a esse desejo. Seu primeiro passo deve ser explorar seus dados.\n",
    "\n",
    "## Explorando dados unidimensionais\n",
    "\n",
    "O caso mais simples é quando você tem um conjunto de dados unidimensional, que é apenas uma coleção de números. Por exemplo, pode ser o número médio diário de minutos que cada usuário gasta em seu site, o número de vezes que cada um de uma coleção de vídeos tutoriais de ciência de dados foi assistido ou o número de páginas de cada um dos livros de ciência de dados de uma dada editora.\n",
    "\n",
    "Um primeiro passo óbvio é calcular algumas estatísticas descritivas. Você gostaria de saber quantos pontos de dados você tem, o menor, o maior, a média e o desvio padrão. \n",
    "\n",
    "Mas mesmo isso não significa necessariamente um grande entendimento. Um bom próximo passo é criar um histograma, no qual você agrupa seus dados em intervalos discretos e conta quantos pontos estão em cada intervalo:"
   ]
  },
  {
   "cell_type": "code",
   "execution_count": 22,
   "metadata": {},
   "outputs": [],
   "source": [
    "matplotlib inline"
   ]
  },
  {
   "cell_type": "code",
   "execution_count": 23,
   "metadata": {},
   "outputs": [],
   "source": [
    "from collections import Counter, defaultdict\n",
    "from matplotlib import pyplot as plt\n",
    "from scipy.stats import norm\n",
    "import random\n",
    "import numpy.random as rnd\n",
    "import math\n",
    "import numpy as np\n",
    "import dateutil.parser\n",
    "import csv\n",
    "import functools\n",
    "import pandas as pd\n",
    "from scipy.spatial import distance\n",
    "import scipy.optimize as so\n",
    "from functools import partial\n",
    "# from modules.gradient_descent import maximize_batch, maximize_stochastic\n",
    "from statsmodels.distributions.empirical_distribution import ECDF\n",
    "# from modules.linear_algebra import shape, get_row, get_column, make_matrix, \\\n",
    "# vector_mean, vector_sum, dot, magnitude, vector_subtract, scalar_multiply\n",
    "\n",
    "savefigs = False\n",
    "\n",
    "def step(v, direction, step_size):\n",
    "    \"\"\"move step_size in the direction from v\"\"\"\n",
    "    return [v_i + step_size * direction_i\n",
    "            for v_i, direction_i in zip(v, direction)]\n",
    "\n",
    "def safe(f):\n",
    "    \"\"\"return a new function that's the same as f,\n",
    "    except that it outputs infinity whenever f produces an error\"\"\"\n",
    "    def safe_f(*args, **kwargs):\n",
    "        try:\n",
    "            return f(*args, **kwargs)\n",
    "        except:\n",
    "            print(\"oops: \", args, \"-\", kwargs)\n",
    "            return float('inf') # this means \"infinity\" in Python\n",
    "    return safe_f\n",
    "\n",
    "def in_random_order(data):\n",
    "    \"\"\"generator that returns the elements of data in random order\"\"\"\n",
    "    indexes = [i for i, _ in enumerate(data)]  # create a list of indexes\n",
    "    random.shuffle(indexes)                    # shuffle them\n",
    "    for i in indexes:                          # return the data in that order\n",
    "        yield data[i]\n",
    "\n",
    "def minimize_batch(target_fn, gradient_fn, theta_0, tolerance=0.000001):\n",
    "    \"\"\"use gradient descent to find theta that minimizes target function\"\"\"\n",
    "\n",
    "    step_sizes = [100, 10, 1, 0.1, 0.01, 0.001, 0.0001, 0.00001, 0.000001, 0.0000001, 0.00000001]\n",
    "    #step_sizes = [0.00001, 0.000001, 0.0000001, 0.00000001]\n",
    "\n",
    "    theta = theta_0                 # set theta to initial value\n",
    "    target_fn = safe(target_fn)     # safe version of target_fn\n",
    "    value = target_fn(theta)        # value we're minimizing\n",
    "\n",
    "    while True:\n",
    "        gradient = gradient_fn(theta)\n",
    "        print('gradient:', gradient)\n",
    "        next_thetas = [step(theta, gradient, -step_size)\n",
    "                       for step_size in step_sizes]\n",
    "     \n",
    "        # choose the one that minimizes the error function\n",
    "        next_theta = min(next_thetas, key=target_fn)\n",
    "        next_value = target_fn(next_theta)\n",
    "        print('theta and value:', next_theta, next_value)\n",
    "\n",
    "        # stop if we're \"converging\"\n",
    "        if abs(value - next_value) < tolerance:\n",
    "            return theta\n",
    "        else:\n",
    "            theta, value = next_theta, next_value\n",
    "\n",
    "def negate(f):\n",
    "    \"\"\"return a function that for any input x returns -f(x)\"\"\"\n",
    "    return lambda *args, **kwargs: -f(*args, **kwargs)\n",
    "\n",
    "def negate_all(f):\n",
    "    \"\"\"the same when f returns a list of numbers\"\"\"\n",
    "    return lambda *args, **kwargs: [-y for y in f(*args, **kwargs)]\n",
    "\n",
    "def maximize_batch(target_fn, gradient_fn, theta_0, tolerance=0.000001):\n",
    "    return minimize_batch(negate(target_fn),\n",
    "                          negate_all(gradient_fn),\n",
    "                          theta_0,tolerance)\n",
    "\n",
    "def minimize_stochastic(target_fn, gradient_fn, x, y, theta_0, alpha_0=0.000001):\n",
    "\n",
    "    data = list(zip(x, y))\n",
    "    theta = theta_0                             # initial guess\n",
    "    alpha = alpha_0                             # initial step size\n",
    "    min_theta, min_value = None, float(\"inf\")   # the minimum so far\n",
    "    iterations_with_no_improvement = 0\n",
    "\n",
    "    # if we ever go 100 iterations with no improvement, stop\n",
    "    while iterations_with_no_improvement < 100:\n",
    "        value = sum( target_fn(x_i, y_i, theta) for x_i, y_i in data )\n",
    "        \n",
    "        if value < min_value:\n",
    "            # if we've found a new minimum, remember it\n",
    "            # and go back to the original step size\n",
    "            min_theta, min_value = theta, value\n",
    "            iterations_with_no_improvement = 0\n",
    "            alpha = alpha_0\n",
    "        else:\n",
    "            # otherwise we're not improving, so try shrinking the step size\n",
    "            iterations_with_no_improvement += 1\n",
    "            alpha *= 0.9\n",
    "\n",
    "        # and take a gradient step for each of the data points\n",
    "        for x_i, y_i in in_random_order(data):\n",
    "            gradient_i = gradient_fn(x_i, y_i, theta)\n",
    "            theta = np.subtract(theta, np.multiply(alpha, gradient_i))\n",
    "            #theta = vector_subtract(theta, scalar_multiply(alpha, gradient_i))\n",
    "\n",
    "    return min_theta\n",
    "\n",
    "def maximize_stochastic(target_fn, gradient_fn, x, y, theta_0, alpha_0=0.01):\n",
    "    return minimize_stochastic(negate(target_fn),\n",
    "                               negate_all(gradient_fn),\n",
    "                               x, y, theta_0, alpha_0)"
   ]
  },
  {
   "cell_type": "code",
   "execution_count": 24,
   "metadata": {},
   "outputs": [],
   "source": [
    "def bucketize(point, bucket_size):\n",
    "    \"\"\"floor the point to the next lower multiple of bucket_size\"\"\"\n",
    "    return bucket_size * math.floor(point / bucket_size)\n",
    "\n",
    "\n",
    "def make_histogram(points, bucket_size):\n",
    "    \"\"\"buckets the points and counts how many in each bucket\"\"\"\n",
    "    return Counter(bucketize(point, bucket_size) for point in points)\n",
    "\n",
    "def plot_histogram(points, bucket_size, title=\"\", filename=None):\n",
    "    histogram = make_histogram(points, bucket_size)\n",
    "    plt.bar(histogram.keys(), histogram.values(), width=bucket_size)\n",
    "    plt.title(title)\n",
    "    plt.show()"
   ]
  },
  {
   "cell_type": "markdown",
   "metadata": {},
   "source": [
    "Por exemplo, considere os seguintes conjuntos de dados:"
   ]
  },
  {
   "cell_type": "code",
   "execution_count": 25,
   "metadata": {},
   "outputs": [],
   "source": [
    "random.seed(0)\n",
    "\n",
    "# uniform between -100 and 100\n",
    "uniform = [200 * random.random() - 100 for _ in range(10000)]\n",
    "\n",
    "# normal distribution with mean 0, standard deviation 57\n",
    "normal = [57 * norm.isf(1-random.random()) for _ in range(10000)]"
   ]
  },
  {
   "cell_type": "markdown",
   "metadata": {},
   "source": [
    "Ambos possuem médias próximas a 0 e desvios-padrão próximos a 58. No entanto, eles têm distribuições muito diferentes. O histograma da distribuição do uniforme é:"
   ]
  },
  {
   "cell_type": "code",
   "execution_count": 26,
   "metadata": {},
   "outputs": [
    {
     "data": {
      "image/png": "[encoded data removed]",
      "text/plain": [
       "<Figure size 432x288 with 1 Axes>"
      ]
     },
     "metadata": {},
     "output_type": "display_data"
    }
   ],
   "source": [
    "plot_histogram(uniform, 10, \"Uniform Histogram\")"
   ]
  },
  {
   "cell_type": "markdown",
   "metadata": {},
   "source": [
    "Enquanto isso, o histograma da distribuição normal é:"
   ]
  },
  {
   "cell_type": "code",
   "execution_count": 27,
   "metadata": {},
   "outputs": [
    {
     "data": {
      "image/png": "[encoded data removed]",
      "text/plain": [
       "<Figure size 432x288 with 1 Axes>"
      ]
     },
     "metadata": {},
     "output_type": "display_data"
    }
   ],
   "source": [
    "plot_histogram(normal, 10, \"Normal Histogram\")"
   ]
  },
  {
   "cell_type": "markdown",
   "metadata": {},
   "source": [
    "Nesse caso, as duas distribuições têm um máximo e um mínimo bem diferentes, mas mesmo sabendo disso não basta para entender como elas se distinguem."
   ]
  },
  {
   "cell_type": "markdown",
   "metadata": {},
   "source": [
    "**Observação:** o código acima serve muito bem para fins didáticos, mas no seu dia-a-dia você deve se acostumar a usar funções prontas:"
   ]
  },
  {
   "cell_type": "code",
   "execution_count": 28,
   "metadata": {},
   "outputs": [],
   "source": [
    "# uniform between -100 and 100\n",
    "uniform_sample = rnd.uniform(-100, 100, 10000);\n",
    "\n",
    "# normal distribution with mean 0, standard deviation 57\n",
    "normal_sample = rnd.normal(0, 57, 10000);"
   ]
  },
  {
   "cell_type": "code",
   "execution_count": 29,
   "metadata": {},
   "outputs": [
    {
     "data": {
      "image/png": "[encoded data removed]",
      "text/plain": [
       "<Figure size 432x288 with 1 Axes>"
      ]
     },
     "metadata": {},
     "output_type": "display_data"
    }
   ],
   "source": [
    "fig = plt.figure()\n",
    "plt.hist(uniform_sample, bins=20);\n",
    "# if savefigs:\n",
    "#     fig.savefig('aula09-uniform_hist.png')"
   ]
  },
  {
   "cell_type": "code",
   "execution_count": 30,
   "metadata": {
    "scrolled": false
   },
   "outputs": [
    {
     "data": {
      "image/png": "[encoded data removed]",
      "text/plain": [
       "<Figure size 432x288 with 1 Axes>"
      ]
     },
     "metadata": {},
     "output_type": "display_data"
    }
   ],
   "source": [
    "fig = plt.figure()\n",
    "plt.hist(normal_sample, bins=40);\n",
    "# if savefigs:\n",
    "#     fig.savefig('aula09-nromal_hist.png')"
   ]
  },
  {
   "cell_type": "markdown",
   "metadata": {},
   "source": [
    "Histogramas não são as únicas formas de visualizar como os dados estão distribuídos, até mesmo porque eles podem ser enganosos. Você pode usar a CDF:"
   ]
  },
  {
   "cell_type": "code",
   "execution_count": 31,
   "metadata": {},
   "outputs": [],
   "source": [
    "def plotECDF(data, scale_x=\"linear\", scale_y=\"linear\", filename=None):\n",
    "    ecdf = ECDF(data)\n",
    "    x, y = ecdf.x, ecdf.y\n",
    "    fig = plt.figure()\n",
    "    plt.plot(x, y, 'o-')\n",
    "    plt.ylabel(\"Pr(X $\\leq$ x)\")\n",
    "    plt.xlabel(\"x\")\n",
    "    plt.xscale(scale_x)\n",
    "    plt.yscale(scale_y)    \n",
    "    plt.show()\n",
    "    if filename:\n",
    "        fig.savefig(filename, dpi=150)\n",
    "    "
   ]
  },
  {
   "cell_type": "markdown",
   "metadata": {},
   "source": [
    "Ou a CCDF:"
   ]
  },
  {
   "cell_type": "code",
   "execution_count": 32,
   "metadata": {},
   "outputs": [],
   "source": [
    "def plotECCDF(data, scale_x=\"linear\", scale_y=\"linear\", filename=None):\n",
    "    ecdf = ECDF(data)\n",
    "    x, y = ecdf.x, 1-ecdf.y\n",
    "    fig = plt.figure()    \n",
    "    plt.plot(x, y, 'o-')\n",
    "    plt.ylabel(\"Pr(X > x)\")\n",
    "    plt.xlabel(\"x\")\n",
    "    plt.xscale(scale_x)\n",
    "    plt.yscale(scale_y)\n",
    "    plt.show()\n",
    "    if filename:\n",
    "        fig.savefig(filename, dpi=150)\n",
    "    "
   ]
  },
  {
   "cell_type": "markdown",
   "metadata": {},
   "source": [
    "Ou a função *Odds Ratio*, que é igual a:\n",
    "\n",
    "$$OR(x) = \\frac{CDF(x)}{CCDF(x)} = \\frac{CDF(x)}{1-CDF(x)}$$"
   ]
  },
  {
   "cell_type": "code",
   "execution_count": 33,
   "metadata": {},
   "outputs": [],
   "source": [
    "def plotEOR(data, scale_x=\"linear\", scale_y=\"linear\", filename=None):\n",
    "    ecdf = ECDF(data)\n",
    "    x, y = ecdf.x[:-1], ecdf.y[:-1]   \n",
    "    y = y/(1-y)\n",
    "    fig = plt.figure()     \n",
    "    plt.plot(x, y, 'o-')\n",
    "    plt.ylabel(\"Odds Ratio\")\n",
    "    plt.xlabel(\"x\")\n",
    "    plt.xscale(scale_x)\n",
    "    plt.yscale(scale_y)\n",
    "    plt.show()\n",
    "    if filename:\n",
    "        fig.savefig(filename, dpi=150)    \n",
    "    "
   ]
  },
  {
   "cell_type": "code",
   "execution_count": 34,
   "metadata": {},
   "outputs": [
    {
     "data": {
      "image/png": "[encoded data removed]",
      "text/plain": [
       "<Figure size 432x288 with 1 Axes>"
      ]
     },
     "metadata": {},
     "output_type": "display_data"
    }
   ],
   "source": [
    "from scipy.stats import fisk\n",
    "c = 3.09\n",
    "#lld = fisk.rvs(c, size=1000)\n",
    "lld = fisk.rvs(2, loc=0, scale=100, size=4000, random_state=None)\n",
    "plotEOR(lld, \"log\", \"log\")"
   ]
  },
  {
   "cell_type": "code",
   "execution_count": 35,
   "metadata": {
    "scrolled": true
   },
   "outputs": [
    {
     "data": {
      "image/png": "[encoded data removed]",
      "text/plain": [
       "<Figure size 432x288 with 1 Axes>"
      ]
     },
     "metadata": {},
     "output_type": "display_data"
    }
   ],
   "source": [
    "ed = np.random.exponential(10,4000)\n",
    "plotECCDF(ed, \"linear\", \"log\")"
   ]
  },
  {
   "cell_type": "code",
   "execution_count": 36,
   "metadata": {
    "scrolled": true
   },
   "outputs": [
    {
     "data": {
      "image/png": "[encoded data removed]",
      "text/plain": [
       "<Figure size 432x288 with 1 Axes>"
      ]
     },
     "metadata": {},
     "output_type": "display_data"
    }
   ],
   "source": [
    "a, m = 3., 2.  # shape and mode\n",
    "pd = (np.random.pareto(a, 4000) + 1) * m\n",
    "plotECCDF(pd, \"log\", \"log\")"
   ]
  },
  {
   "cell_type": "code",
   "execution_count": 37,
   "metadata": {
    "scrolled": true
   },
   "outputs": [
    {
     "data": {
      "image/png": "[encoded data removed]",
      "text/plain": [
       "<Figure size 432x288 with 1 Axes>"
      ]
     },
     "metadata": {},
     "output_type": "display_data"
    }
   ],
   "source": [
    "nd = np.random.normal(100, 25, 4000)\n",
    "plotECDF(nd, \"linear\", \"linear\")"
   ]
  },
  {
   "cell_type": "code",
   "execution_count": 38,
   "metadata": {
    "scrolled": false
   },
   "outputs": [
    {
     "data": {
      "image/png": "[encoded data removed]",
      "text/plain": [
       "<Figure size 432x288 with 1 Axes>"
      ]
     },
     "metadata": {},
     "output_type": "display_data"
    }
   ],
   "source": [
    "mu, sigma = np.log10(np.mean(lld)), np.log10(np.std(lld)) # mean and standard deviation\n",
    "lnd = np.random.lognormal(mu, sigma, 4000)\n",
    "plotEOR(lnd, \"log\", \"log\")"
   ]
  },
  {
   "cell_type": "code",
   "execution_count": 39,
   "metadata": {
    "scrolled": true
   },
   "outputs": [
    {
     "ename": "FileNotFoundError",
     "evalue": "File b'./data/metatalk/meta/15547.dat' does not exist",
     "output_type": "error",
     "traceback": [
      "\u001b[0;31m---------------------------------------------------------------------------\u001b[0m",
      "\u001b[0;31mFileNotFoundError\u001b[0m                         Traceback (most recent call last)",
      "\u001b[0;32m<ipython-input-39-6cede32bf846>\u001b[0m in \u001b[0;36m<module>\u001b[0;34m()\u001b[0m\n\u001b[1;32m      1\u001b[0m \u001b[0;32mimport\u001b[0m \u001b[0mpandas\u001b[0m \u001b[0;32mas\u001b[0m \u001b[0mpd\u001b[0m\u001b[0;34m\u001b[0m\u001b[0m\n\u001b[0;32m----> 2\u001b[0;31m \u001b[0mdf\u001b[0m \u001b[0;34m=\u001b[0m \u001b[0mpd\u001b[0m\u001b[0;34m.\u001b[0m\u001b[0mread_table\u001b[0m\u001b[0;34m(\u001b[0m\u001b[0;34m'./data/metatalk/meta/15547.dat'\u001b[0m\u001b[0;34m,\u001b[0m \u001b[0mheader\u001b[0m\u001b[0;34m=\u001b[0m\u001b[0;32mNone\u001b[0m\u001b[0;34m,\u001b[0m \u001b[0mdtype\u001b[0m\u001b[0;34m=\u001b[0m\u001b[0mint\u001b[0m\u001b[0;34m)\u001b[0m\u001b[0;34m\u001b[0m\u001b[0m\n\u001b[0m\u001b[1;32m      3\u001b[0m \u001b[0mdf\u001b[0m\u001b[0;34m\u001b[0m\u001b[0m\n",
      "\u001b[0;32m~/anaconda3/lib/python3.6/site-packages/pandas/io/parsers.py\u001b[0m in \u001b[0;36mparser_f\u001b[0;34m(filepath_or_buffer, sep, delimiter, header, names, index_col, usecols, squeeze, prefix, mangle_dupe_cols, dtype, engine, converters, true_values, false_values, skipinitialspace, skiprows, nrows, na_values, keep_default_na, na_filter, verbose, skip_blank_lines, parse_dates, infer_datetime_format, keep_date_col, date_parser, dayfirst, iterator, chunksize, compression, thousands, decimal, lineterminator, quotechar, quoting, escapechar, comment, encoding, dialect, tupleize_cols, error_bad_lines, warn_bad_lines, skipfooter, doublequote, delim_whitespace, low_memory, memory_map, float_precision)\u001b[0m\n\u001b[1;32m    676\u001b[0m                     skip_blank_lines=skip_blank_lines)\n\u001b[1;32m    677\u001b[0m \u001b[0;34m\u001b[0m\u001b[0m\n\u001b[0;32m--> 678\u001b[0;31m         \u001b[0;32mreturn\u001b[0m \u001b[0m_read\u001b[0m\u001b[0;34m(\u001b[0m\u001b[0mfilepath_or_buffer\u001b[0m\u001b[0;34m,\u001b[0m \u001b[0mkwds\u001b[0m\u001b[0;34m)\u001b[0m\u001b[0;34m\u001b[0m\u001b[0m\n\u001b[0m\u001b[1;32m    679\u001b[0m \u001b[0;34m\u001b[0m\u001b[0m\n\u001b[1;32m    680\u001b[0m     \u001b[0mparser_f\u001b[0m\u001b[0;34m.\u001b[0m\u001b[0m__name__\u001b[0m \u001b[0;34m=\u001b[0m \u001b[0mname\u001b[0m\u001b[0;34m\u001b[0m\u001b[0m\n",
      "\u001b[0;32m~/anaconda3/lib/python3.6/site-packages/pandas/io/parsers.py\u001b[0m in \u001b[0;36m_read\u001b[0;34m(filepath_or_buffer, kwds)\u001b[0m\n\u001b[1;32m    438\u001b[0m \u001b[0;34m\u001b[0m\u001b[0m\n\u001b[1;32m    439\u001b[0m     \u001b[0;31m# Create the parser.\u001b[0m\u001b[0;34m\u001b[0m\u001b[0;34m\u001b[0m\u001b[0m\n\u001b[0;32m--> 440\u001b[0;31m     \u001b[0mparser\u001b[0m \u001b[0;34m=\u001b[0m \u001b[0mTextFileReader\u001b[0m\u001b[0;34m(\u001b[0m\u001b[0mfilepath_or_buffer\u001b[0m\u001b[0;34m,\u001b[0m \u001b[0;34m**\u001b[0m\u001b[0mkwds\u001b[0m\u001b[0;34m)\u001b[0m\u001b[0;34m\u001b[0m\u001b[0m\n\u001b[0m\u001b[1;32m    441\u001b[0m \u001b[0;34m\u001b[0m\u001b[0m\n\u001b[1;32m    442\u001b[0m     \u001b[0;32mif\u001b[0m \u001b[0mchunksize\u001b[0m \u001b[0;32mor\u001b[0m \u001b[0miterator\u001b[0m\u001b[0;34m:\u001b[0m\u001b[0;34m\u001b[0m\u001b[0m\n",
      "\u001b[0;32m~/anaconda3/lib/python3.6/site-packages/pandas/io/parsers.py\u001b[0m in \u001b[0;36m__init__\u001b[0;34m(self, f, engine, **kwds)\u001b[0m\n\u001b[1;32m    785\u001b[0m             \u001b[0mself\u001b[0m\u001b[0;34m.\u001b[0m\u001b[0moptions\u001b[0m\u001b[0;34m[\u001b[0m\u001b[0;34m'has_index_names'\u001b[0m\u001b[0;34m]\u001b[0m \u001b[0;34m=\u001b[0m \u001b[0mkwds\u001b[0m\u001b[0;34m[\u001b[0m\u001b[0;34m'has_index_names'\u001b[0m\u001b[0;34m]\u001b[0m\u001b[0;34m\u001b[0m\u001b[0m\n\u001b[1;32m    786\u001b[0m \u001b[0;34m\u001b[0m\u001b[0m\n\u001b[0;32m--> 787\u001b[0;31m         \u001b[0mself\u001b[0m\u001b[0;34m.\u001b[0m\u001b[0m_make_engine\u001b[0m\u001b[0;34m(\u001b[0m\u001b[0mself\u001b[0m\u001b[0;34m.\u001b[0m\u001b[0mengine\u001b[0m\u001b[0;34m)\u001b[0m\u001b[0;34m\u001b[0m\u001b[0m\n\u001b[0m\u001b[1;32m    788\u001b[0m \u001b[0;34m\u001b[0m\u001b[0m\n\u001b[1;32m    789\u001b[0m     \u001b[0;32mdef\u001b[0m \u001b[0mclose\u001b[0m\u001b[0;34m(\u001b[0m\u001b[0mself\u001b[0m\u001b[0;34m)\u001b[0m\u001b[0;34m:\u001b[0m\u001b[0;34m\u001b[0m\u001b[0m\n",
      "\u001b[0;32m~/anaconda3/lib/python3.6/site-packages/pandas/io/parsers.py\u001b[0m in \u001b[0;36m_make_engine\u001b[0;34m(self, engine)\u001b[0m\n\u001b[1;32m   1012\u001b[0m     \u001b[0;32mdef\u001b[0m \u001b[0m_make_engine\u001b[0m\u001b[0;34m(\u001b[0m\u001b[0mself\u001b[0m\u001b[0;34m,\u001b[0m \u001b[0mengine\u001b[0m\u001b[0;34m=\u001b[0m\u001b[0;34m'c'\u001b[0m\u001b[0;34m)\u001b[0m\u001b[0;34m:\u001b[0m\u001b[0;34m\u001b[0m\u001b[0m\n\u001b[1;32m   1013\u001b[0m         \u001b[0;32mif\u001b[0m \u001b[0mengine\u001b[0m \u001b[0;34m==\u001b[0m \u001b[0;34m'c'\u001b[0m\u001b[0;34m:\u001b[0m\u001b[0;34m\u001b[0m\u001b[0m\n\u001b[0;32m-> 1014\u001b[0;31m             \u001b[0mself\u001b[0m\u001b[0;34m.\u001b[0m\u001b[0m_engine\u001b[0m \u001b[0;34m=\u001b[0m \u001b[0mCParserWrapper\u001b[0m\u001b[0;34m(\u001b[0m\u001b[0mself\u001b[0m\u001b[0;34m.\u001b[0m\u001b[0mf\u001b[0m\u001b[0;34m,\u001b[0m \u001b[0;34m**\u001b[0m\u001b[0mself\u001b[0m\u001b[0;34m.\u001b[0m\u001b[0moptions\u001b[0m\u001b[0;34m)\u001b[0m\u001b[0;34m\u001b[0m\u001b[0m\n\u001b[0m\u001b[1;32m   1015\u001b[0m         \u001b[0;32melse\u001b[0m\u001b[0;34m:\u001b[0m\u001b[0;34m\u001b[0m\u001b[0m\n\u001b[1;32m   1016\u001b[0m             \u001b[0;32mif\u001b[0m \u001b[0mengine\u001b[0m \u001b[0;34m==\u001b[0m \u001b[0;34m'python'\u001b[0m\u001b[0;34m:\u001b[0m\u001b[0;34m\u001b[0m\u001b[0m\n",
      "\u001b[0;32m~/anaconda3/lib/python3.6/site-packages/pandas/io/parsers.py\u001b[0m in \u001b[0;36m__init__\u001b[0;34m(self, src, **kwds)\u001b[0m\n\u001b[1;32m   1706\u001b[0m         \u001b[0mkwds\u001b[0m\u001b[0;34m[\u001b[0m\u001b[0;34m'usecols'\u001b[0m\u001b[0;34m]\u001b[0m \u001b[0;34m=\u001b[0m \u001b[0mself\u001b[0m\u001b[0;34m.\u001b[0m\u001b[0musecols\u001b[0m\u001b[0;34m\u001b[0m\u001b[0m\n\u001b[1;32m   1707\u001b[0m \u001b[0;34m\u001b[0m\u001b[0m\n\u001b[0;32m-> 1708\u001b[0;31m         \u001b[0mself\u001b[0m\u001b[0;34m.\u001b[0m\u001b[0m_reader\u001b[0m \u001b[0;34m=\u001b[0m \u001b[0mparsers\u001b[0m\u001b[0;34m.\u001b[0m\u001b[0mTextReader\u001b[0m\u001b[0;34m(\u001b[0m\u001b[0msrc\u001b[0m\u001b[0;34m,\u001b[0m \u001b[0;34m**\u001b[0m\u001b[0mkwds\u001b[0m\u001b[0;34m)\u001b[0m\u001b[0;34m\u001b[0m\u001b[0m\n\u001b[0m\u001b[1;32m   1709\u001b[0m \u001b[0;34m\u001b[0m\u001b[0m\n\u001b[1;32m   1710\u001b[0m         \u001b[0mpassed_names\u001b[0m \u001b[0;34m=\u001b[0m \u001b[0mself\u001b[0m\u001b[0;34m.\u001b[0m\u001b[0mnames\u001b[0m \u001b[0;32mis\u001b[0m \u001b[0;32mNone\u001b[0m\u001b[0;34m\u001b[0m\u001b[0m\n",
      "\u001b[0;32mpandas/_libs/parsers.pyx\u001b[0m in \u001b[0;36mpandas._libs.parsers.TextReader.__cinit__\u001b[0;34m()\u001b[0m\n",
      "\u001b[0;32mpandas/_libs/parsers.pyx\u001b[0m in \u001b[0;36mpandas._libs.parsers.TextReader._setup_parser_source\u001b[0;34m()\u001b[0m\n",
      "\u001b[0;31mFileNotFoundError\u001b[0m: File b'./data/metatalk/meta/15547.dat' does not exist"
     ]
    }
   ],
   "source": [
    "import pandas as pd\n",
    "df = pd.read_table('./data/metatalk/meta/15547.dat', header=None, dtype=int)\n",
    "df"
   ]
  },
  {
   "cell_type": "code",
   "execution_count": null,
   "metadata": {
    "scrolled": true
   },
   "outputs": [],
   "source": [
    "data = df.values\n",
    "data = np.reshape(data, len(data))\n",
    "print(data.shape)\n",
    "print(np.mean(data))\n",
    "plotEOR(data, \"log\", \"log\")"
   ]
  },
  {
   "cell_type": "markdown",
   "metadata": {},
   "source": [
    "## Duas Dimensões\n",
    "\n",
    "Agora imagine que você tenha um conjunto de dados com duas dimensões. Talvez, além dos minutos diários, você tenha anos de experiência em ciência de dados. Claro que você gostaria de entender cada dimensão individualmente. Mas você provavelmente também quer espalhar os dados e ver como as dimensões se relacionam.\n",
    "\n",
    "Por exemplo, considere outro conjunto de dados falso:"
   ]
  },
  {
   "cell_type": "code",
   "execution_count": null,
   "metadata": {},
   "outputs": [],
   "source": [
    "def random_normal():\n",
    "    \"\"\"returns a random draw from a standard normal distribution\"\"\"\n",
    "    return norm.isf(1-random.random())\n",
    "    #return inverse_normal_cdf(random.random())\n",
    "\n",
    "\n",
    "xs = [random_normal() for _ in range(1000)]\n",
    "#para cada valor de xs, vamos gerar um valor distribuido normalmente com localidade opostas\n",
    "ys1 = [ x + random_normal() / 2 for x in xs]\n",
    "ys2 = [-x + random_normal() / 2 for x in xs]"
   ]
  },
  {
   "cell_type": "markdown",
   "metadata": {},
   "source": [
    "Se você plotar o histograma de `ys1` e `ys2`, teria gráficos de aparência muito parecidos (na verdade, ambos são normalmente distribuídos com a mesma média e desvio padrão)."
   ]
  },
  {
   "cell_type": "code",
   "execution_count": null,
   "metadata": {},
   "outputs": [],
   "source": [
    "fig = plt.figure()\n",
    "\n",
    "plt.subplot(1, 2, 1) # (rows, columns, panel number)\n",
    "plt.hist(ys1, 10)\n",
    "plt.title(\"ys1\")\n",
    "plt.subplot(1, 2, 2) # (rows, columns, panel number)\n",
    "plt.title(\"ys2\")\n",
    "plt.hist(ys2, 10)\n",
    "\n",
    "#fig, ax = plt.subplots(1, 2)\n",
    "#ax[0].hist(ys1, 20)\n",
    "#ax[0].title('ys1')\n",
    "#ax[1].hist(ys2, 20)\n",
    "plt.show()\n",
    "if savefigs:\n",
    "    fig.savefig('aula09-twohists.png')"
   ]
  },
  {
   "cell_type": "markdown",
   "metadata": {},
   "source": [
    "Mas cada um tem uma distribuição conjunta muito diferente com `xs`, como pode ser visto a seguir:"
   ]
  },
  {
   "cell_type": "code",
   "execution_count": null,
   "metadata": {},
   "outputs": [],
   "source": [
    "fig = plt.figure()\n",
    "plt.scatter(xs, ys1, marker='.', color='black', label='ys1')\n",
    "plt.scatter(xs, ys2, marker='.', color='gray', label='ys2')\n",
    "plt.xlabel('xs')\n",
    "plt.ylabel('ys')\n",
    "plt.legend(loc=9)\n",
    "plt.title(\"Very Different Joint Distributions\")\n",
    "plt.show()\n",
    "\n",
    "if savefigs:\n",
    "    fig.savefig('aula09-scatter.png')"
   ]
  },
  {
   "cell_type": "markdown",
   "metadata": {},
   "source": [
    "A diferença também seria clara se você calcular as correlações:"
   ]
  },
  {
   "cell_type": "code",
   "execution_count": null,
   "metadata": {},
   "outputs": [],
   "source": [
    "from numpy import corrcoef as correlation\n",
    "\n",
    "print(correlation(xs, ys1)[1,0])\n",
    "print(correlation(xs, ys2)[1,0])"
   ]
  },
  {
   "cell_type": "markdown",
   "metadata": {},
   "source": [
    "## Muitas dimensões\n",
    "\n",
    "Com muitas dimensões, você gostaria de saber como todas as dimensões se relacionam umas com as outras. Uma abordagem simples é examinar a matriz de correlação, na qual a entrada na linha `i` e coluna `j` é a correlação entre a dimensão `i` e a dimensão `j` dos dados. Essa foi a razão pela qual usamos os índices `[1,0]` no código anterior, pois a função `corrcoef` do `numpy` já retorna a matriz de correlação de um conjunto de dados com muitas dimensões:"
   ]
  },
  {
   "cell_type": "code",
   "execution_count": null,
   "metadata": {},
   "outputs": [],
   "source": [
    "#um vetor de valores normalmente distribuidos e sem correlacao com os demais\n",
    "xsrnd = [random_normal() for _ in range(1000)]\n",
    "\n",
    "#cria uma matriz em que cada linha contem um dos vetores\n",
    "data = np.stack((xsrnd,xs,ys1,ys2))\n",
    "\n",
    "print(correlation(data))"
   ]
  },
  {
   "cell_type": "markdown",
   "metadata": {},
   "source": [
    "Uma abordagem mais visual (se você não tiver muitas dimensões) é criar uma matriz de gráficos de dispersão mostrando todos os gráficos de dispersão em pares. Para isso, usaremos `plt.subplots()`, que nos permite criar *sub-gráficos* em nosso gráfico. Damos a ele o número de linhas e o número de colunas, e ele retorna um objeto de figura (que não usaremos) e uma matriz bidimensional de objetos de eixos (que nós plotaremos):"
   ]
  },
  {
   "cell_type": "code",
   "execution_count": null,
   "metadata": {},
   "outputs": [],
   "source": [
    "def make_scatterplot_matrix(data):\n",
    "\n",
    "    #_, num_columns = shape(data)\n",
    "    _, num_columns = data.shape\n",
    "    \n",
    "    fig, ax = plt.subplots(num_columns, num_columns)\n",
    "\n",
    "    for i in range(num_columns):\n",
    "        for j in range(num_columns):\n",
    "\n",
    "            # scatter column_j on the x-axis vs column_i on the y-axis\n",
    "            #if i != j: ax[i][j].scatter(get_column(data, j), get_column(data, i))\n",
    "            if i != j: ax[i][j].scatter(data[:,j], data[:,i])\n",
    "\n",
    "            # unless i == j, in which case show the series name\n",
    "            else: ax[i][j].annotate(\"series \" + str(i), (0.5, 0.5),\n",
    "                                    xycoords='axes fraction',\n",
    "                                    ha=\"center\", va=\"center\")\n",
    "\n",
    "            # then hide axis labels except left and bottom charts\n",
    "            if i < num_columns - 1: ax[i][j].xaxis.set_visible(False)\n",
    "            if j > 0: ax[i][j].yaxis.set_visible(False)\n",
    "\n",
    "    # fix the bottom right and top left axis labels, which are wrong because\n",
    "    # their charts only have text in them\n",
    "    ax[-1][-1].set_xlim(ax[0][-1].get_xlim())\n",
    "    ax[0][0].set_ylim(ax[0][1].get_ylim())\n",
    "    if savefigs:\n",
    "        fig.savefig('aula09-multiscatter.png')\n",
    "\n",
    "plt.show()\n"
   ]
  },
  {
   "cell_type": "markdown",
   "metadata": {},
   "source": [
    "Agora, vamos gerar alguns dados aleatórios:"
   ]
  },
  {
   "cell_type": "code",
   "execution_count": null,
   "metadata": {},
   "outputs": [],
   "source": [
    "# first, generate some random data\n",
    "\n",
    "num_points = 100\n",
    "\n",
    "def random_row():\n",
    "    row = [None, None, None, None]\n",
    "    row[0] = random_normal()\n",
    "    row[1] = -5 * row[0] + random_normal()\n",
    "    row[2] = row[0] + row[1] + 5 * random_normal()\n",
    "    row[3] = 6 if row[2] > -2 else 0\n",
    "    return row\n",
    "\n",
    "random.seed(0)\n",
    "data = [random_row()\n",
    "        for _ in range(num_points)]\n",
    "\n",
    "#vamos usar numpy, muito mais facil!\n",
    "data = np.array(data)"
   ]
  },
  {
   "cell_type": "markdown",
   "metadata": {},
   "source": [
    "Agora, podemos plotar os gráficos de dispersão:"
   ]
  },
  {
   "cell_type": "code",
   "execution_count": null,
   "metadata": {},
   "outputs": [],
   "source": [
    "make_scatterplot_matrix(data)"
   ]
  },
  {
   "cell_type": "markdown",
   "metadata": {},
   "source": [
    "Olhando para os gráficos de dispersão, você pode ver que a série 1 é muito negativamente correlacionada com a série 0, a série 2 é positivamente correlacionada com a série 1, e a série 3 assume apenas os valores 0 e 6, com 0 correspondendo a pequenos valores da série 2 e 6 correspondendo a grandes valores.\n",
    "\n",
    "Essa é uma maneira rápida de ter uma noção aproximada de quais de suas variáveis estão correlacionadas (a menos que você gaste horas ajustando o `matplotlib` para exibir as coisas exatamente da maneira que você quer, o que pode ser um desperdício de horas de trabalho)."
   ]
  },
  {
   "cell_type": "markdown",
   "metadata": {},
   "source": [
    "## Limpeza e Formatação\n",
    "\n",
    "Dados do mundo real estão sujos. Muitas vezes você terá que fazer algum trabalho antes de poder usá-los. Vimos exemplos disso nas aulas passadas. Precisamos converter *strings* em *floats* ou *ints* antes de usá-las. Anteriormente, fizemos isso antes de usar os dados:\n",
    "\n",
    "`closing_price = float(row[2])`\n",
    "\n",
    "No entanto, provavelmente estamos menos propensos se fizermos a análise (ou *parser*) dos dados antes de manipulá-los, o que podemos fazer criando uma função que envolva o `csv.reader`. Vamos dar uma lista de analisadores (*parsers*), cada um especificando como analisar uma das colunas. E nós usaremos `None` para representar \"não faça nada a esta coluna\":"
   ]
  },
  {
   "cell_type": "code",
   "execution_count": null,
   "metadata": {},
   "outputs": [],
   "source": [
    "def parse_row(input_row, parsers):\n",
    "    \"\"\"given a list of parsers (some of which may be None)\n",
    "    apply the appropriate one to each element of the input_row\"\"\"\n",
    "    \n",
    "    return [parser(value) if parser is not None else value\n",
    "            for value, parser in zip(input_row, parsers)]\n",
    "\n",
    "def parse_rows_with(reader, parsers):\n",
    "    \"\"\"wrap a reader to apply the parsers to each of its rows\"\"\"\n",
    "    \n",
    "    for row in reader:\n",
    "        yield parse_row(row, parsers)"
   ]
  },
  {
   "cell_type": "markdown",
   "metadata": {},
   "source": [
    "E se houver dados incorretos? Um valor \"float\" que na verdade não representa um número? Normalmente, preferimos ter um `None` do que travar nosso programa. Podemos fazer isso com uma função auxiliar:"
   ]
  },
  {
   "cell_type": "code",
   "execution_count": null,
   "metadata": {},
   "outputs": [],
   "source": [
    "def try_or_none(f):\n",
    "    \"\"\"wraps f to return None if f raises an exception\n",
    "    assumes f takes only one input\"\"\"\n",
    "    def f_or_none(x):\n",
    "        try: return f(x)\n",
    "        except: return None\n",
    "    return f_or_none"
   ]
  },
  {
   "cell_type": "markdown",
   "metadata": {},
   "source": [
    "Depois podemos reescrever a função `parse_row` para usá-la:"
   ]
  },
  {
   "cell_type": "code",
   "execution_count": null,
   "metadata": {},
   "outputs": [],
   "source": [
    "def parse_row(input_row, parsers):\n",
    "    return [try_or_none(parser)(value) if parser is not None else value \n",
    "            for value, parser in zip(input_row, parsers)]"
   ]
  },
  {
   "cell_type": "markdown",
   "metadata": {},
   "source": [
    "Por exemplo, se tivermos [preços de ações](https://www.dropbox.com/s/ipqg7m12gsx8ot2/comma_delimited_stock_prices.csv?dl=0) delimitados por vírgulas com dados inválidos:\n",
    "\n",
    "`6/20/2014,AAPL,90.91\n",
    "6/20/2014,MSFT,41.68\n",
    "6/20/3014,FB,64.5\n",
    "6/19/2014,AAPL,91.86\n",
    "6/19/2014,MSFT,n/a\n",
    "6/19/2014,FB,64.34`\n",
    "\n",
    "A gente pode ler e processar os dados em um passo único:"
   ]
  },
  {
   "cell_type": "code",
   "execution_count": null,
   "metadata": {},
   "outputs": [],
   "source": [
    "data = []\n",
    "\n",
    "with open(\"./data/comma_delimited_stock_prices.csv\", \"r\") as f:\n",
    "    reader = csv.reader(f)\n",
    "    for line in parse_rows_with(reader, [dateutil.parser.parse, None, float]):\n",
    "        data.append(line)"
   ]
  },
  {
   "cell_type": "markdown",
   "metadata": {},
   "source": [
    "E depois, a gente apenas precisa verificar se existem linhas com `None`"
   ]
  },
  {
   "cell_type": "code",
   "execution_count": null,
   "metadata": {},
   "outputs": [],
   "source": [
    "for row in data:\n",
    "    if any(x is None for x in row):\n",
    "        print(row)"
   ]
  },
  {
   "cell_type": "markdown",
   "metadata": {},
   "source": [
    "e decidir o que queremos fazer com elas. Em geral, as três opções são:\n",
    "\n",
    "* livrar-se delas\n",
    "* voltar à fonte e tentar corrigir os dados errados/ausentes\n",
    "* não fazer nada e cruzar os dedos.\n",
    "\n",
    "Poderíamos criar ajudantes semelhantes para o `csv.DictReader`. Nesse caso, você provavelmente desejaria fornecer um `dict` de *parsers* por nome do campo. Por exemplo:"
   ]
  },
  {
   "cell_type": "code",
   "execution_count": null,
   "metadata": {},
   "outputs": [],
   "source": [
    "def try_parse_field(field_name, value, parser_dict):\n",
    "    \"\"\"try to parse value using the appropriate function from parser_dict\"\"\"\n",
    "    parser = parser_dict.get(field_name) # None if no such entry\n",
    "    if parser is not None:\n",
    "        return try_or_none(parser)(value)\n",
    "    else:\n",
    "        return value\n",
    "\n",
    "def parse_dict(input_dict, parser_dict):\n",
    "    return { field_name : try_parse_field(field_name, value, parser_dict)\n",
    "            for field_name, value in input_dict.items() }"
   ]
  },
  {
   "cell_type": "code",
   "execution_count": null,
   "metadata": {},
   "outputs": [],
   "source": [
    "import pandas as pd\n",
    "df = pd.read_csv(\"./data/nba_players_season_stats.csv\")\n",
    "df"
   ]
  },
  {
   "cell_type": "markdown",
   "metadata": {},
   "source": [
    "A função `parse_dict` processa o dicionário criado a partir de uma linha do arquivo `csv` usando o dicionário de *parsers* que você deve criar. Para cada campo problemático, ou seja, que merece o seu próprio *parser*, a função `try_parse_field` executa o *parser* correspondente.\n",
    "\n",
    "Por exemplo, ao processar o arquivo [`./data/nba_players_season_stats.csv`](https://www.dropbox.com/s/tkgxwud89ygx7dv/nba_players_season_stats.csv?dl=0), que contém informações históricas sobre o desempenho de jogadores da NBA, verificamos que há nomes com um caractere `*` ao seu final e posições múltiplas no campo `Pos`, como as posições `F-C` (ala e pivô, ou *forward* e *center*) e `G-F` (armador e ala, ou *guard* e *forward*). Decidimos tratar essas duas situações da seguinte forma:\n",
    "\n",
    "1) No caso do nome, vamos usar a função `parse_name` para simplesmente remover o `*` do nome:"
   ]
  },
  {
   "cell_type": "code",
   "execution_count": null,
   "metadata": {},
   "outputs": [],
   "source": [
    "def parse_name(name):\n",
    "    if name[-1] == '*':\n",
    "        return name[:-1]\n",
    "    else:\n",
    "        return name"
   ]
  },
  {
   "cell_type": "markdown",
   "metadata": {},
   "source": [
    "2) No caso das posições, converteremos `F-C` para `PF` (ala de força, ou *power forward*, que é uma posição que achamos adequada para esse jogador) e `G-F` para `SF` (ala pequeno, ou *small forward*, que também consideramos uma posição adequada para o jogador que joga nessas duas posições). Assim, criamos a função `parse_pos` para tratar esses dois casos:"
   ]
  },
  {
   "cell_type": "code",
   "execution_count": null,
   "metadata": {},
   "outputs": [],
   "source": [
    "def parse_pos(pos):\n",
    "    if pos == 'F-C':\n",
    "        return 'PF'\n",
    "    elif pos == 'G-F':\n",
    "        return 'SF'\n",
    "    else:\n",
    "        return pos\n",
    "    "
   ]
  },
  {
   "cell_type": "markdown",
   "metadata": {},
   "source": [
    "Agora podemos criar o nosso dicionário de *parsers*"
   ]
  },
  {
   "cell_type": "code",
   "execution_count": null,
   "metadata": {},
   "outputs": [],
   "source": [
    "parser_nba_player = dict()\n",
    "parser_nba_player['Pos'] = parse_pos\n",
    "parser_nba_player['Player'] = parse_name"
   ]
  },
  {
   "cell_type": "markdown",
   "metadata": {},
   "source": [
    "e processar o arquivo com ele:"
   ]
  },
  {
   "cell_type": "code",
   "execution_count": null,
   "metadata": {
    "scrolled": true
   },
   "outputs": [],
   "source": [
    "input_file = csv.DictReader(open(\"./data/nba_players_season_stats.csv\"))\n",
    "data = []\n",
    "id_row = 0\n",
    "for row in input_file:\n",
    "    parsed_row = parse_dict(row, parser_nba_player)\n",
    "    data.append(parsed_row)\n",
    "    if id_row == 71:\n",
    "        print(\"Uma linha com os dois problemas:\")\n",
    "        print(row) \n",
    "    id_row = id_row + 1"
   ]
  },
  {
   "cell_type": "markdown",
   "metadata": {},
   "source": [
    "Ao processar o arquivo, eu imprimi uma linha problemática, a linha `71`. Para verificar se o *parser* funcionou corretamente, vamos imprimir a mesma linha, só que agora nos dados tratados, que estão em `data`:"
   ]
  },
  {
   "cell_type": "code",
   "execution_count": null,
   "metadata": {},
   "outputs": [],
   "source": [
    "print(\"Problema resolvido:\")\n",
    "print(data[71])"
   ]
  },
  {
   "cell_type": "markdown",
   "metadata": {},
   "source": [
    "Um bom próximo passo é verificar se há valores discrepantes (*outliers*), usando técnicas vistas anteriormente neste curso, ou investigando de forma *ad hoc*. Por exemplo, você notou que uma das datas no arquivo de ações tinha o ano 3014? Isso não lhe dará (necessariamente) um erro, mas está completamente errado, e você obterá resultados malucos se não consertar. Conjuntos de dados do mundo real têm pontos decimais ausentes, zeros extras, erros tipográficos e inúmeros outros problemas que você deve capturar. (Talvez não seja oficialmente seu trabalho, mas quem mais vai fazer isso?)"
   ]
  },
  {
   "cell_type": "markdown",
   "metadata": {},
   "source": [
    "## Manipulando Dados\n",
    "\n",
    "Uma das habilidades mais importantes de um cientista de dados é manipular dados. É mais uma abordagem geral do que uma técnica específica, por isso vamos trabalhar apenas com alguns exemplos para lhe dar o sabor disso.\n",
    "\n",
    "Imagine que estamos trabalhando com `dict`s de preços de ações que se parecem com:\n",
    "\n",
    "```\n",
    "data = [\n",
    "{'closing_price': 102.06,\n",
    "'date': datetime.datetime(2014, 8, 29, 0, 0),\n",
    "'symbol': 'AAPL'},\n",
    "# ...\n",
    "]\n",
    "```\n",
    "Conceitualmente, pensamos neles como linhas (como em uma planilha).\n",
    "\n",
    "Na aula passada, foi pedido que você criasse um arquivo `historical_prices.csv`, contendo o histórico de preços de algumas ações. Vamos usar esse arquivo a partir de agora. Se você não tem esse arquivo, pode baixar o meu [aqui](https://www.dropbox.com/s/eofdd0t0x9kyhhz/historical_prices.csv?dl=0). Então, vamos carregar esse arquivo como uma lista de dicionários, fazendo o *parse* de cada campo de acordo com o seu valor:"
   ]
  },
  {
   "cell_type": "code",
   "execution_count": null,
   "metadata": {},
   "outputs": [],
   "source": [
    "def parse_float(price):\n",
    "    return float(price)\n",
    "\n",
    "def parse_date(date):\n",
    "    return dateutil.parser.parse(date)"
   ]
  },
  {
   "cell_type": "code",
   "execution_count": null,
   "metadata": {},
   "outputs": [],
   "source": [
    "parser_hprices = dict()\n",
    "parser_hprices['opening_price'] = parse_float\n",
    "parser_hprices['high_price'] = parse_float\n",
    "parser_hprices['low_price'] = parse_float\n",
    "parser_hprices['closing_price'] = parse_float\n",
    "parser_hprices['adj_close'] = parse_float\n",
    "parser_hprices['volume'] = parse_float\n",
    "parser_hprices['date'] = parse_date\n",
    "input_file = csv.DictReader(open(\"./data/historical_prices.csv\"))\n",
    "data = []\n",
    "for row in input_file:\n",
    "    parsed_row = parse_dict(row, parser_hprices)\n",
    "    data.append(parsed_row)"
   ]
  },
  {
   "cell_type": "code",
   "execution_count": null,
   "metadata": {},
   "outputs": [],
   "source": [
    "print(data[0]['closing_price']/data[0]['opening_price'])"
   ]
  },
  {
   "cell_type": "markdown",
   "metadata": {},
   "source": [
    "Vamos começar a fazer perguntas sobre esses dados. Ao longo do caminho, tentaremos perceber padrões no que estamos fazendo e abstrair algumas ferramentas para facilitar a manipulação dos dados.\n",
    "\n",
    "Por exemplo, suponha que queremos saber o preço de fechamento mais alto para a AAPL. Vamos dividir isso em etapas concretas:\n",
    "\n",
    "1. Restringir-nos às linhas AAPL.\n",
    "\n",
    "2. Pegamos o `closing_price` de cada linha.\n",
    "\n",
    "3. Tiramos o máximo desses preços.\n",
    "\n",
    "Podemos fazer todos os três ao mesmo tempo usando uma compreensão de lista:"
   ]
  },
  {
   "cell_type": "code",
   "execution_count": null,
   "metadata": {},
   "outputs": [],
   "source": [
    "max_aapl_price = max(row[\"closing_price\"]\n",
    "                     for row in data\n",
    "                     if row[\"symbol\"] == \"AAPL\")\n",
    "\n",
    "print(\"Maior preço da ação AAPL: \", max_aapl_price)"
   ]
  },
  {
   "cell_type": "markdown",
   "metadata": {},
   "source": [
    "Mais genericamente, podemos querer saber o preço de fechamento mais alto de todos os estoques em nosso conjunto de dados. Uma maneira de fazer isso é:\n",
    "1. Agrupe todas as linhas com o mesmo símbolo.\n",
    "2. Dentro de cada grupo, faça o mesmo que antes:"
   ]
  },
  {
   "cell_type": "code",
   "execution_count": null,
   "metadata": {},
   "outputs": [],
   "source": [
    "# group rows by symbol\n",
    "by_symbol = defaultdict(list)\n",
    "for row in data:\n",
    "    by_symbol[row[\"symbol\"]].append(row)\n",
    "\n",
    "        \n",
    "# use a dict comprehension to find the max for each symbol\n",
    "max_price_by_symbol = { symbol : max(row[\"closing_price\"]\n",
    "                                     for row in grouped_rows)\n",
    "                       for symbol, grouped_rows in by_symbol.items() }"
   ]
  },
  {
   "cell_type": "code",
   "execution_count": null,
   "metadata": {},
   "outputs": [],
   "source": [
    "print(max_price_by_symbol)"
   ]
  },
  {
   "cell_type": "markdown",
   "metadata": {},
   "source": [
    "Existem alguns padrões aqui já. Nos dois exemplos, precisávamos extrair o valor de `closing_price` de cada `dict`. Então, vamos criar uma função para escolher um campo fora de um `dict` e outra função para extrair o mesmo campo de uma coleção de `dict`s:"
   ]
  },
  {
   "cell_type": "code",
   "execution_count": null,
   "metadata": {},
   "outputs": [],
   "source": [
    "def picker(field_name):\n",
    "    \"\"\"returns a function that picks a field out of a dict\"\"\"\n",
    "    return lambda row: row[field_name]\n",
    "\n",
    "def pluck(field_name, rows):\n",
    "    \"\"\"turn a list of dicts into the list of field_name values\"\"\"\n",
    "    return map(picker(field_name), rows)"
   ]
  },
  {
   "cell_type": "markdown",
   "metadata": {},
   "source": [
    "Vamos testar a função `picker`:"
   ]
  },
  {
   "cell_type": "code",
   "execution_count": null,
   "metadata": {},
   "outputs": [],
   "source": [
    "first_row = data[0]\n",
    "picksymbol = picker(\"symbol\")\n",
    "print(picksymbol(first_row))"
   ]
  },
  {
   "cell_type": "markdown",
   "metadata": {},
   "source": [
    "Agora vamos testar a função `pluck`:"
   ]
  },
  {
   "cell_type": "code",
   "execution_count": null,
   "metadata": {},
   "outputs": [],
   "source": [
    "all_dates = set(pluck(\"date\", data))\n",
    "sorted_dates = sorted(list(all_dates))\n",
    "print(sorted_dates)"
   ]
  },
  {
   "cell_type": "code",
   "execution_count": null,
   "metadata": {},
   "outputs": [],
   "source": [
    "all_closing_prices = list(pluck(\"closing_price\", data))\n",
    "sorted_closing_prices = sorted((all_closing_prices), reverse=True)\n",
    "print(sorted_closing_prices[:5])"
   ]
  },
  {
   "cell_type": "markdown",
   "metadata": {},
   "source": [
    "Agora vamos criar uma função para agrupar linhas pelo resultado de uma função agrupadora (*grouper*) e, opcionalmente, aplicar algum tipo de transformador de valor (`value_transform`) a cada grupo:"
   ]
  },
  {
   "cell_type": "code",
   "execution_count": null,
   "metadata": {},
   "outputs": [],
   "source": [
    "def group_by(grouper, rows, value_transform=None):\n",
    "    # key is output of grouper, value is list of rows\n",
    "    grouped = defaultdict(list)\n",
    "    for row in rows:\n",
    "        grouped[grouper(row)].append(row)\n",
    "    if value_transform is None:\n",
    "        return grouped\n",
    "    else:\n",
    "        return { key : value_transform(rows)\n",
    "                for key, rows in grouped.items() }"
   ]
  },
  {
   "cell_type": "markdown",
   "metadata": {},
   "source": [
    "Isso nos permite reescrever nossos exemplos anteriores de forma bastante simples. Por exemplo:"
   ]
  },
  {
   "cell_type": "code",
   "execution_count": null,
   "metadata": {},
   "outputs": [],
   "source": [
    "max_price_by_symbol = group_by(picker(\"symbol\"),\n",
    "                               data,\n",
    "                               lambda rows: max(pluck(\"closing_price\", rows)))\n",
    "\n",
    "print(max_price_by_symbol)"
   ]
  },
  {
   "cell_type": "markdown",
   "metadata": {},
   "source": [
    "Agora podemos começar a fazer perguntas mais complicadas, como quais são as maiores e menores alterações percentuais de um dia em nosso conjunto de dados. A alteração percentual é `price_today / price_yesterday - 1`, o que significa que precisamos de alguma forma de associar o preço de hoje e o preço de ontem. Uma abordagem é agrupar os preços por símbolo e, em seguida, dentro de cada grupo:\n",
    "1. Ordene os preços por data.\n",
    "2. Use `zip` para obter pares (anterior, atual).\n",
    "3. Transforme os pares em novas linhas de “alteração percentual”.\n",
    "\n",
    "Começaremos escrevendo uma função para fazer todo o trabalho dentro de cada grupo:"
   ]
  },
  {
   "cell_type": "code",
   "execution_count": null,
   "metadata": {},
   "outputs": [],
   "source": [
    "def percent_price_change(yesterday, today):\n",
    "    return today[\"closing_price\"] / yesterday[\"closing_price\"] - 1\n",
    "\n",
    "def day_over_day_changes(grouped_rows):\n",
    "    # sort the rows by date\n",
    "    ordered = sorted(grouped_rows, key=picker(\"date\"))\n",
    "    # zip with an offset to get pairs of consecutive days\n",
    "    return [{ \"symbol\" : today[\"symbol\"],\n",
    "              \"date\" : today[\"date\"],\n",
    "              \"change\" : percent_price_change(yesterday, today) }\n",
    "             for yesterday, today in zip(ordered, ordered[1:])]\n"
   ]
  },
  {
   "cell_type": "markdown",
   "metadata": {},
   "source": [
    "Depois, vamos apenas usar isso como o `value_transform` em um `group_by`:"
   ]
  },
  {
   "cell_type": "code",
   "execution_count": null,
   "metadata": {},
   "outputs": [],
   "source": [
    "# key is symbol, value is list of \"change\" dicts\n",
    "changes_by_symbol = group_by(picker(\"symbol\"), data, day_over_day_changes)\n",
    "\n",
    "# collect all \"change\" dicts into one big list\n",
    "all_changes = [change \n",
    "               for changes in changes_by_symbol.values()\n",
    "               for change in changes]"
   ]
  },
  {
   "cell_type": "markdown",
   "metadata": {},
   "source": [
    "Neste ponto, é fácil encontrar o maior e o menor valor:"
   ]
  },
  {
   "cell_type": "code",
   "execution_count": null,
   "metadata": {},
   "outputs": [],
   "source": [
    "max_change = max(all_changes, key=picker(\"change\"))\n",
    "print(max_change)"
   ]
  },
  {
   "cell_type": "markdown",
   "metadata": {},
   "source": [
    "Agora podemos usar esse novo conjunto de dados `all_changes` para descobrir qual mês é o melhor para investir em ações de tecnologia. Primeiro agrupamos as mudanças por mês; então calculamos a mudança geral dentro de cada grupo.\n",
    "\n",
    "Mais uma vez, escrevemos uma `value_transform` apropriada e, depois, usamos `group_by`:"
   ]
  },
  {
   "cell_type": "code",
   "execution_count": null,
   "metadata": {},
   "outputs": [],
   "source": [
    "# to combine percent changes, we add 1 to each, multiply them, and subtract 1\n",
    "# for instance, if we combine +10% and -20%, the overall change is\n",
    "# (1 + 10%) * (1 - 20%) - 1 = 1.1 * .8 - 1 = 0.88 - 1 = -12%\n",
    "def combine_pct_changes(pct_change1, pct_change2):\n",
    "    return (1 + pct_change1) * (1 + pct_change2) - 1\n",
    "\n",
    "def overall_change(changes):\n",
    "    return functools.reduce(combine_pct_changes, pluck(\"change\", changes))\n",
    "\n",
    "overall_change_by_month = group_by(lambda row: row['date'].month,\n",
    "                                   all_changes,\n",
    "                                   overall_change)\n",
    "print(overall_change_by_month)"
   ]
  },
  {
   "cell_type": "markdown",
   "metadata": {},
   "source": [
    "Iremos usar muito esses tipos de manipulação ao longo do curso, então você precisa entender muito bem o que foi ensinado até aqui."
   ]
  },
  {
   "cell_type": "markdown",
   "metadata": {},
   "source": [
    "## Redimensionamento\n",
    "\n",
    "Muitas técnicas são sensíveis à escala dos seus dados. Por exemplo, imagine que você tenha um conjunto de dados que consiste nas alturas e pesos de centenas de pessoas e que você está tentando identificar grupos de tamanhos corporais.\n",
    "\n",
    "Intuitivamente, gostaríamos que os clusters representassem pontos próximos uns dos outros, o que significa que precisamos de alguma noção de distância entre os pontos. Nós já temos uma função de distância euclidiana, então uma abordagem natural pode ser tratar pares (altura, peso) como pontos no espaço bidimensional. Considere as [pessoas](https://www.dropbox.com/s/9g7nuca3ednouk0/sample_people_ht_wt.csv?dl=0) listadas abaixo:"
   ]
  },
  {
   "cell_type": "code",
   "execution_count": null,
   "metadata": {
    "scrolled": true
   },
   "outputs": [],
   "source": [
    "df = pd.read_csv('data/sample_people_ht_wt.csv')\n",
    "df"
   ]
  },
  {
   "cell_type": "markdown",
   "metadata": {},
   "source": [
    "Aqui estamos usando a biblioteca `pandas` para carregar um csv e o exibir em um formato amigável. Para converter os dados que carregou, que estão em formato `DataFrame` para uma lista de vetores `numpy`, faça:"
   ]
  },
  {
   "cell_type": "code",
   "execution_count": null,
   "metadata": {},
   "outputs": [],
   "source": [
    "people = df.values\n",
    "print(people)"
   ]
  },
  {
   "cell_type": "markdown",
   "metadata": {},
   "source": [
    "Para essas pessoas, se a gente medir as alturas em polegadas (*inches*), então a pessoa mais similar de `B` é `A`:"
   ]
  },
  {
   "cell_type": "code",
   "execution_count": null,
   "metadata": {},
   "outputs": [],
   "source": [
    "def dadosPessoa(people, idx,alturaidx=1):\n",
    "    return [people[idx][alturaidx],people[idx][3]]\n",
    "\n",
    "print(\"B para A:\", distance.euclidean(dadosPessoa(people,1),dadosPessoa(people,0)))\n",
    "print(\"B para C:\", distance.euclidean(dadosPessoa(people,1),dadosPessoa(people,2)))"
   ]
  },
  {
   "cell_type": "markdown",
   "metadata": {},
   "source": [
    "No entanto, se medirmos a altura em centímetros, então a pessoa mais parecida com B passa a ser C:"
   ]
  },
  {
   "cell_type": "code",
   "execution_count": null,
   "metadata": {},
   "outputs": [],
   "source": [
    "print(\"B para A:\", distance.euclidean(dadosPessoa(people,1,2),dadosPessoa(people,0,2)))\n",
    "print(\"B para C:\", distance.euclidean(dadosPessoa(people,1,2),dadosPessoa(people,2,2)))"
   ]
  },
  {
   "cell_type": "markdown",
   "metadata": {},
   "source": [
    "Obviamente, é problemático se as unidades de medida puderem alterar resultados como este. Por esse motivo, quando as dimensões não são comparáveis entre si, às vezes redimensionamos nossos dados para que cada dimensão tenha média 0 e desvio padrão 1. Isso efetivamente elimina as unidades, convertendo cada dimensão em \"desvios-padrão da média\".\n",
    "\n",
    "Para começar, precisamos calcular a média e o desvio padrão para cada coluna:"
   ]
  },
  {
   "cell_type": "code",
   "execution_count": null,
   "metadata": {},
   "outputs": [],
   "source": [
    "def scale(data_matrix):\n",
    "    num_rows, num_cols = data_matrix.shape\n",
    "    means = [np.mean(data_matrix[:,j])\n",
    "             for j in range(num_cols)]\n",
    "    stdevs = [np.std(data_matrix[:,j])\n",
    "              for j in range(num_cols)]\n",
    "    return means, stdevs"
   ]
  },
  {
   "cell_type": "markdown",
   "metadata": {},
   "source": [
    "Depois, usamos esse método para criar uma nova matriz de dados:"
   ]
  },
  {
   "cell_type": "code",
   "execution_count": null,
   "metadata": {},
   "outputs": [],
   "source": [
    "def rescale(data_matrix):\n",
    "    \"\"\"rescales the input data so that each column\n",
    "    has mean 0 and standard deviation 1\n",
    "    ignores columns with no deviation\"\"\"\n",
    "    means, stdevs = scale(data_matrix)\n",
    "\n",
    "\n",
    "    num_rows, num_cols = data_matrix.shape\n",
    "\n",
    "    for i in range(0,num_cols):\n",
    "        if stdevs[i] > 0:\n",
    "            data_matrix[:,i] = (data_matrix[:,i] - means[i]) / stdevs[i]\n",
    "\n",
    "\n",
    "    return data_matrix"
   ]
  },
  {
   "cell_type": "code",
   "execution_count": null,
   "metadata": {},
   "outputs": [],
   "source": [
    "data_people = rescale(people[:,1:4])\n",
    "rescaled_people = people\n",
    "rescaled_people[:,1:4] = data_people\n",
    "print(rescaled_people)"
   ]
  },
  {
   "cell_type": "markdown",
   "metadata": {},
   "source": [
    "Agora podemos verificar que pessoa é de fato a mais próxima de B:"
   ]
  },
  {
   "cell_type": "code",
   "execution_count": null,
   "metadata": {},
   "outputs": [],
   "source": [
    "print(\"Usando a coluna 1 (polegadas) redimensionada:\")\n",
    "print(\"B para A:\", distance.euclidean(dadosPessoa(rescaled_people,1),dadosPessoa(rescaled_people,0)))\n",
    "print(\"B para C:\", distance.euclidean(dadosPessoa(rescaled_people,1),dadosPessoa(rescaled_people,2)))\n",
    "\n",
    "print(\"Usando a coluna 2 (centímetros) redimensionada:\")\n",
    "print(\"B para A:\", distance.euclidean(dadosPessoa(rescaled_people,1,2),dadosPessoa(rescaled_people,0,2)))\n",
    "print(\"B para C:\", distance.euclidean(dadosPessoa(rescaled_people,1,2),dadosPessoa(rescaled_people,2,2)))"
   ]
  },
  {
   "cell_type": "markdown",
   "metadata": {},
   "source": [
    "\n",
    "Como sempre, você precisa usar seu julgamento. Se você pegasse um enorme conjunto de dados de alturas e pesos e filtrasse as pessoas com alturas entre 69,5 e 70,5 polegadas, é bastante provável (dependendo da pergunta que você está tentando responder) que a variação restante seja bem menor, e você pode não querer colocar seu desvio padrão em pé de igualdade com os desvios de outras dimensões."
   ]
  },
  {
   "cell_type": "markdown",
   "metadata": {},
   "source": [
    "## Redução de dimensionalidade\n",
    "\n",
    "Às vezes, as dimensões \"reais\" (ou úteis) dos dados podem não corresponder às dimensões que temos. Por exemplo, vamos carregar as alturas e os pesos de uma coleção de [jogadores da NBA](https://www.dropbox.com/s/yyxr30xpr6o0hk4/nba_ht_wt.csv?dl=0):"
   ]
  },
  {
   "cell_type": "code",
   "execution_count": null,
   "metadata": {},
   "outputs": [],
   "source": [
    "parser_people = dict()\n",
    "parser_people['Height'] = parse_float\n",
    "parser_people['Weight'] = parse_float\n",
    "parser_people['Age'] = int #poderiamos usar apenas float para as Height and Weight\n",
    "input_file = csv.DictReader(open(\"./data/nba_ht_wt.csv\"))\n",
    "data = []\n",
    "for row in input_file:\n",
    "    parsed_row = parse_dict(row, parser_people)\n",
    "    data.append(parsed_row)"
   ]
  },
  {
   "cell_type": "code",
   "execution_count": null,
   "metadata": {},
   "outputs": [],
   "source": [
    "data[0]"
   ]
  },
  {
   "cell_type": "markdown",
   "metadata": {},
   "source": [
    "Vamos ver como a relação de peso e altura dos jogadores:"
   ]
  },
  {
   "cell_type": "code",
   "execution_count": null,
   "metadata": {},
   "outputs": [],
   "source": [
    "alturas = list(pluck(\"Height\", data))\n",
    "pesos = list(pluck(\"Weight\", data))\n",
    "names = list(pluck(\"Player\", data))\n",
    "\n",
    "print(names[0], pesos[0], alturas[0])\n",
    "\n",
    "fig = plt.figure()\n",
    "plt.scatter(alturas, pesos)\n",
    "plt.title(\"Altura vs. Peso de jogadores da NBA\")\n",
    "plt.xlabel(\"Altura (polegadas)\")\n",
    "plt.ylabel(\"Peso (libras)\")\n",
    "plt.show()\n",
    "\n",
    "if savefigs:\n",
    "    fig.savefig('aula09-pesoaltura-nba.png')"
   ]
  },
  {
   "cell_type": "markdown",
   "metadata": {},
   "source": [
    "A maior parte da variação nos dados parece estar ao longo de uma única dimensão que não corresponde ao eixo x ou ao eixo y.\n",
    "\n",
    "Quando esse é o caso, podemos usar uma técnica chamada análise de componente principal (*principal component analysis*, ou PCA) para extrair uma ou mais dimensões que capturam o máximo possível da variação nos dados.\n",
    "\n",
    "Na prática, você não usaria essa técnica em um conjunto de dados com tão poucas dimensões. A redução de dimensionalidade é mais útil quando seu conjunto de dados tem um grande número de dimensões e você deseja encontrar um pequeno subconjunto que capture a maior parte da variação. \n",
    "\n",
    "Como primeiro passo, precisamos traduzir os dados para que cada dimensão tenha média zero:"
   ]
  },
  {
   "cell_type": "code",
   "execution_count": 40,
   "metadata": {},
   "outputs": [],
   "source": [
    "def de_mean_matrix(A):\n",
    "    \"\"\"returns the result of subtracting from every value in A the mean\n",
    "    value of its column. the resulting matrix has mean 0 in every column\"\"\"\n",
    "    num_rows, num_cols = A.shape\n",
    "    dA = np.zeros(A.shape)\n",
    "    for i in range(0,num_cols):\n",
    "        dA[:,i] = A[:,i] - np.mean(A[:,i])\n",
    "    return dA"
   ]
  },
  {
   "cell_type": "code",
   "execution_count": null,
   "metadata": {},
   "outputs": [],
   "source": [
    "data_matrix = np.transpose(np.stack((alturas, pesos)))\n",
    "d_data_matrix = de_mean_matrix(data_matrix)\n",
    "\n",
    "print(\"antes: \", data_matrix[0])\n",
    "print(\"depois: \", d_data_matrix[0])"
   ]
  },
  {
   "cell_type": "markdown",
   "metadata": {},
   "source": [
    "Se não fizermos isso, nossas técnicas provavelmente identificarão a média em si e não a variação nos dados. A partir de agora chamaremos de matriz *de-meaned* uma matriz que teve as suas colunas subtraídas de suas médias.\n",
    "\n",
    "Abaixo vemos os dados do exemplo após o subtrair a média:"
   ]
  },
  {
   "cell_type": "code",
   "execution_count": null,
   "metadata": {},
   "outputs": [],
   "source": [
    "fig = plt.figure()\n",
    "plt.scatter(d_data_matrix[:,0], d_data_matrix[:,1])\n",
    "plt.title(\"Altura vs. Peso depois de subtrair a média\")\n",
    "plt.xlabel(\"Altura (polegadas) - média\")\n",
    "plt.ylabel(\"Peso (libras) - média\")\n",
    "plt.show()\n",
    "if savefigs:\n",
    "    fig.savefig('aula09-demeaned-nba.png')"
   ]
  },
  {
   "cell_type": "markdown",
   "metadata": {},
   "source": [
    "Agora, dada uma matriz *de-meaned* X, podemos perguntar qual é a direção que captura a maior variação nos dados.\n",
    "\n",
    "Especificamente, dada uma direção $d$ (um vetor de magnitude $1$), cada linha $x$ na matriz estende `dot(x, d)` na direção $d$. E cada vetor não-zero $w$ determina uma direção se o reescalonarmos para ter magnitude $1$:"
   ]
  },
  {
   "cell_type": "code",
   "execution_count": null,
   "metadata": {},
   "outputs": [],
   "source": [
    "def direction(w):\n",
    "    mag = np.linalg.norm(w)\n",
    "    return [w_i / mag for w_i in w]"
   ]
  },
  {
   "cell_type": "markdown",
   "metadata": {},
   "source": [
    "Portanto, dado um vetor diferente de zero $w$, podemos calcular a variância de nosso conjunto de dados na direção determinada por $w$:"
   ]
  },
  {
   "cell_type": "code",
   "execution_count": null,
   "metadata": {},
   "outputs": [],
   "source": [
    "def directional_variance_i(x_i, w):\n",
    "    \"\"\"the variance of the row x_i in the direction w\"\"\"\n",
    "    return np.dot(x_i, direction(w)) ** 2\n",
    "\n",
    "def directional_variance(X, w):\n",
    "    \"\"\"the variance of the data in the direction w\"\"\"\n",
    "    return sum(directional_variance_i(x_i, w) for x_i in X)"
   ]
  },
  {
   "cell_type": "markdown",
   "metadata": {},
   "source": [
    "Ou, para cada linha $\\mathbf{x_i} = \\{\\mathbf{x_1}, \\cdots, \\mathbf{x_n}\\}$ dos nossos dados de dimensão $m$:\n",
    "\n",
    "$\\mathcal{V} = \\sum_i^n{(\\mathbf{x_i} \\cdot \\mathbf{w})^2 } = \\sum_i^n{(x_{i1}\\times w_1 + \\cdots + x_{im}\\times w_m)^2 }$"
   ]
  },
  {
   "cell_type": "markdown",
   "metadata": {},
   "source": [
    "Gostaríamos de encontrar a direção $w$ que maximiza essa variação. Então, dado um $w_0$ inicial, para onde devemos mover $w_0$ para que a variação aumente? Podemos fazer isso usando gradiente descendente, assim que tivermos a função gradiente, que calcula onde a variância aumenta mais para cada uma das $m$ dimensões:\n",
    "\n",
    "$\\nabla \\mathcal{V} = \\sum_i^n{[2(\\mathbf{x_i} \\cdot \\mathbf{w})x_{i1}~\\mathbf{e_{w_1}} + \\cdots + 2(\\mathbf{x_i} \\cdot \\mathbf{w})x_{im}~\\mathbf{e_{w_m}}]}$"
   ]
  },
  {
   "cell_type": "code",
   "execution_count": null,
   "metadata": {},
   "outputs": [],
   "source": [
    "def directional_variance_gradient_i(x_i, w):\n",
    "    \"\"\"the contribution of row x_i to the gradient of\n",
    "    the direction-w variance\"\"\"\n",
    "    projection_length = np.dot(x_i, direction(w))\n",
    "    return [2 * projection_length * x_ij for x_ij in x_i]\n",
    "\n",
    "def directional_variance_gradient(X, w):\n",
    "    ncols = len(w)\n",
    "    g = np.array([directional_variance_gradient_i(x_i,w) for x_i in X])\n",
    "    s = [sum(g[:,i]) for i in range(ncols)]\n",
    "    return s\n",
    "    #return vector_sum(directional_variance_gradient_i(x_i,w) for x_i in X)"
   ]
  },
  {
   "cell_type": "markdown",
   "metadata": {},
   "source": [
    "O primeiro componente principal é apenas a direção que maximiza a função `directional_variance`:"
   ]
  },
  {
   "cell_type": "code",
   "execution_count": null,
   "metadata": {},
   "outputs": [],
   "source": [
    "def first_principal_component(X):\n",
    "    guess = [1 for _ in X[0]]\n",
    "    unscaled_maximizer = maximize_batch(\n",
    "        partial(directional_variance, X),          \n",
    "        partial(directional_variance_gradient, X), \n",
    "        guess)\n",
    "    return direction(unscaled_maximizer)"
   ]
  },
  {
   "cell_type": "markdown",
   "metadata": {},
   "source": [
    "Ou você pode também usar o método *gradiente descendente estocástico*:"
   ]
  },
  {
   "cell_type": "code",
   "execution_count": null,
   "metadata": {},
   "outputs": [],
   "source": [
    "def first_principal_component_sgd(X):\n",
    "    guess = [1 for _ in X[0]]\n",
    "    unscaled_maximizer = maximize_stochastic(\n",
    "        lambda x, _, w: directional_variance_i(x, w),\n",
    "        lambda x, _, w: directional_variance_gradient_i(x, w),\n",
    "        X, [None for _ in X], guess)\n",
    "    return direction(unscaled_maximizer)"
   ]
  },
  {
   "cell_type": "markdown",
   "metadata": {},
   "source": [
    "Observe abaixo que a direção $w$ que maximiza a variância nesse caso é o vetor `[0.106, 0.994]`, que parece capturar o eixo principal no qual nossos dados variam:"
   ]
  },
  {
   "cell_type": "code",
   "execution_count": null,
   "metadata": {
    "scrolled": false
   },
   "outputs": [],
   "source": [
    "PC1 = first_principal_component_sgd(d_data_matrix)\n",
    "print(\"componente principal: \", PC1)\n",
    "\n",
    "fig = plt.figure()\n",
    "ax = plt.axes()\n",
    "plt.scatter(d_data_matrix[:,0], d_data_matrix[:,1])\n",
    "plt.title(\"Primeiro componente principal\")\n",
    "plt.xlabel(\"Altura (polegadas) - média\")\n",
    "plt.ylabel(\"Peso (libras) - média\")\n",
    "\n",
    "\n",
    "\n",
    "ax.arrow(0, 0, *np.dot(PC1,20), head_width=1, head_length=2, color='r')\n",
    "\n",
    "plt.show()\n",
    "if savefigs:\n",
    "    fig.savefig('aula09-demeaned-nba2.png')"
   ]
  },
  {
   "cell_type": "markdown",
   "metadata": {},
   "source": [
    "Uma vez que encontramos a direção que representa o primeiro componente principal, a gente pode projetá-la nos nossos dados para encontrar os valores dos mesmos nesse componente:"
   ]
  },
  {
   "cell_type": "code",
   "execution_count": null,
   "metadata": {},
   "outputs": [],
   "source": [
    "def project(v, w):\n",
    "    \"\"\"return the projection of v onto w\"\"\"\n",
    "    coefficient = np.dot(v, w)\n",
    "    return np.dot(coefficient, w)"
   ]
  },
  {
   "cell_type": "markdown",
   "metadata": {},
   "source": [
    "Se quisermos encontrar outros componentes, primeiro teremos que remover as projeções dos dados:"
   ]
  },
  {
   "cell_type": "code",
   "execution_count": null,
   "metadata": {},
   "outputs": [],
   "source": [
    "def remove_projection_from_vector(v, w):\n",
    "    \"\"\"projects v onto w and subtracts the result from v\"\"\"\n",
    "    return v - project(v, w)\n",
    "\n",
    "def remove_projection(X, w):\n",
    "    \"\"\"for each row of X\n",
    "    projects the row onto w, and subtracts the result from the row\"\"\"\n",
    "    return [remove_projection_from_vector(x_i, w) for x_i in X]"
   ]
  },
  {
   "cell_type": "markdown",
   "metadata": {},
   "source": [
    "Como neste exemplo o conjunto de dados é apenas bidimensional, depois de removermos o primeiro componente, o que resta será efetivamente unidimensional: "
   ]
  },
  {
   "cell_type": "code",
   "execution_count": null,
   "metadata": {
    "scrolled": false
   },
   "outputs": [],
   "source": [
    "new_data_matrix = np.array(remove_projection(d_data_matrix, PC1))\n",
    "\n",
    "fig = plt.figure()\n",
    "ax = plt.axes()\n",
    "plt.scatter(new_data_matrix[:,0], new_data_matrix[:,1])\n",
    "plt.title(\"Os dados depois de removermos o primeiro componente principal\")\n",
    "ax.arrow(0, 0, *np.dot(PC1,3), head_width=0.2, head_length=0.5, color='r')\n",
    "plt.axis(\"equal\")\n",
    "plt.show()\n",
    "if savefigs:\n",
    "    fig.savefig('aula09-pca-nba1.png', dpi=150)"
   ]
  },
  {
   "cell_type": "markdown",
   "metadata": {},
   "source": [
    "**Observação importante:** usamos o comando `plt.axis(\"equal\")` para fazer com que o espaçamento seja idêntico entre as unidades de ambos os eixos. Apenas assim conseguimos visualizar que o primeiro componente principal, representado pela seta vermelha, é ortogonal ao restante dos dados. Isso faz sentido, uma vez que \"removemos\" essa dimensão dos dados restantes.\n",
    "\n",
    "Nesse ponto, podemos encontrar o próximo componente principal repetindo o processo no resultado de `remove_projection`. Melhor que isso, pode generalizar o processo para um conjunto de dados dimensionais maiores, encontrando iterativamente quantos componentes desejarmos:"
   ]
  },
  {
   "cell_type": "code",
   "execution_count": null,
   "metadata": {},
   "outputs": [],
   "source": [
    "def principal_component_analysis(X, num_components):\n",
    "    components = []\n",
    "    for _ in range(num_components):\n",
    "        component = first_principal_component(X)\n",
    "        print(component)\n",
    "        components.append(component)\n",
    "        X = remove_projection(X, component)\n",
    "\n",
    "    return components"
   ]
  },
  {
   "cell_type": "code",
   "execution_count": null,
   "metadata": {},
   "outputs": [],
   "source": [
    "PCS = principal_component_analysis(d_data_matrix, 2)"
   ]
  },
  {
   "cell_type": "code",
   "execution_count": null,
   "metadata": {
    "scrolled": false
   },
   "outputs": [],
   "source": [
    "fig = plt.figure()\n",
    "ax = plt.axes()\n",
    "plt.scatter(d_data_matrix[:,0], d_data_matrix[:,1])\n",
    "plt.title(\"Componentes Principais\")\n",
    "plt.xlabel(\"Altura (polegadas) - média\")\n",
    "plt.ylabel(\"Peso (libras) - média\")\n",
    "\n",
    "ax.arrow(0, 0, *np.dot(PCS[0],20), head_width=1, head_length=2, color='r')\n",
    "ax.arrow(0, 0, *np.dot(PCS[1],2), head_width=4, head_length=0.5, color='r')\n",
    "#plt.axis('equal') #rode novamente com essa linha\n",
    "\n",
    "plt.show()\n",
    "if savefigs:\n",
    "    fig.savefig('aula09-pca-nba2.png', dpi=150)"
   ]
  },
  {
   "cell_type": "markdown",
   "metadata": {},
   "source": [
    "Essa técnica é valiosa por alguns motivos. Primeiro, pode nos ajudar a limpar nossos dados, eliminando as dimensões de ruído e consolidando as dimensões altamente correlacionadas.\n",
    "\n",
    "Em segundo lugar, depois de extrair uma representação de baixa dimensão de nossos dados, podemos usar uma variedade de técnicas que não funcionam tão bem em dados de alta dimensão. Vamos ver exemplos de tais técnicas ao longo do curso.\n",
    "\n",
    "Ao mesmo tempo, embora possa ajudar a construir modelos melhores, também pode tornar esses modelos mais difíceis de interpretar. É fácil entender conclusões como \"cada ano a mais de experiência adiciona uma média de US\\\\$ 10 mil em salário\". É muito mais difícil entender que \"cada aumento de 0,1 no terceiro componente principal adiciona uma média de US\\\\$ 10 mil em salário\"."
   ]
  },
  {
   "cell_type": "markdown",
   "metadata": {},
   "source": [
    "## Para explorar\n",
    "\n",
    "* Como mencionamos ao longo deste curso, `pandas` é provavelmente a ferramenta Python primária para limpeza, munging, manipulação e processamento de dados. Todos os exemplos que fizemos com a mão nesta aula poderia ser feito de forma muito mais simples com `pandas`.\n",
    "\n",
    "* O `scikit-learn` possui uma ampla variedade de funções de decomposição de matriz, incluindo PCA."
   ]
  },
  {
   "cell_type": "markdown",
   "metadata": {},
   "source": [
    "## Exercício 1\n",
    "\n",
    "O método PCA que implementamos apenas nos diz, de forma iterativa, quais são as direções que maximizam a variação dos dados. Outro atributo importante do PCA é que, para cada dimensão, é possível saber o quanto que ela explica da variação (e.g. 80% da variação). Crie uma função `pct_variance_explained` que recebe a matriz de dados e os seus respectivos componentes principais e retorna um vetor contendo a porcentagem da variância expliacada por cada componente."
   ]
  },
  {
   "cell_type": "code",
   "execution_count": null,
   "metadata": {},
   "outputs": [],
   "source": [
    "def pct_variance_explained(X, PCS):\n",
    "    raise NotImplementedError "
   ]
  },
  {
   "cell_type": "code",
   "execution_count": null,
   "metadata": {},
   "outputs": [],
   "source": [
    "var_explained = pct_variance_explained(d_data_matrix, PCS)\n",
    "var1=np.cumsum(np.round(var_explained, decimals=4)*100)\n",
    "\n",
    "plt.title(\"% da variância explicada\")\n",
    "plt.xlabel(\"Componente Principal\")\n",
    "plt.ylabel(\"% explicado acumulado\")\n",
    "plt.plot(np.arange(1,len(PCS)+1), var1)\n",
    "plt.xticks(np.arange(1,len(PCS)+1))\n",
    "plt.show()"
   ]
  },
  {
   "cell_type": "markdown",
   "metadata": {},
   "source": [
    "## Exercício 2\n",
    "\n",
    "Desenhe o gráfico de dispersão em que todos os pontos estão projetados nos dois primeiros componentes principais gerados pelo PCA."
   ]
  },
  {
   "cell_type": "code",
   "execution_count": null,
   "metadata": {},
   "outputs": [],
   "source": [
    "data_proj = np.zeros(d_data_matrix.shape)\n",
    "ndim = len(PCS[0])\n",
    "for i in range(0,len(d_data_matrix)):\n",
    "    for j in range(0,ndim):\n",
    "        data_proj[i][j] = 0 #FIX THIS!"
   ]
  },
  {
   "cell_type": "code",
   "execution_count": null,
   "metadata": {
    "scrolled": false
   },
   "outputs": [],
   "source": [
    "plt.scatter(data_proj[:,0], data_proj[:,1])\n",
    "plt.xlabel('PC1')\n",
    "plt.ylabel('PC2')\n",
    "plt.title('Cartesian coordinate PCA')\n",
    "plt.show()"
   ]
  }
 ],
 "metadata": {
  "kernelspec": {
   "display_name": "Python 3",
   "language": "python",
   "name": "python3"
  },
  "language_info": {
   "codemirror_mode": {
    "name": "ipython",
    "version": 3
   },
   "file_extension": ".py",
   "mimetype": "text/x-python",
   "name": "python",
   "nbconvert_exporter": "python",
   "pygments_lexer": "ipython3",
   "version": "3.6.5"
  }
 },
 "nbformat": 4,
 "nbformat_minor": 2
}
