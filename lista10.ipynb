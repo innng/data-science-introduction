{
 "cells": [
  {
   "cell_type": "markdown",
   "metadata": {
    "deletable": false,
    "editable": false,
    "nbgrader": {
     "checksum": "fbbe004c6d8d1bc6823f45ee807b6633",
     "grade": false,
     "grade_id": "cellc-a00",
     "locked": true,
     "schema_version": 1,
     "solution": false
    }
   },
   "source": [
    "# Aula 10 - Aprendizado de Máquina"
   ]
  },
  {
   "cell_type": "markdown",
   "metadata": {
    "deletable": false,
    "editable": false,
    "nbgrader": {
     "checksum": "6e9217ab115653ebd893fe41f87c9e76",
     "grade": false,
     "grade_id": "cell1c1-a00",
     "locked": true,
     "schema_version": 1,
     "solution": false
    }
   },
   "source": [
    "# Exercício 01:\n",
    "\n",
    "Na aula 10 vimos o `PosModel`, um modelo simples para prever em qual posição uma pessoa jogaria na NBA dado o seu peso e altura. Os exercícios abaixo referem-se a esse modelo.\n"
   ]
  },
  {
   "cell_type": "code",
   "execution_count": null,
   "metadata": {
    "deletable": false,
    "editable": false,
    "nbgrader": {
     "checksum": "bd538d92f32d035ee5d901f70c5fb986",
     "grade": false,
     "grade_id": "cell1c1code-a00",
     "locked": true,
     "schema_version": 1,
     "solution": false
    }
   },
   "outputs": [],
   "source": [
    "class PosModel:\n",
    "\n",
    "    def __init__(self):\n",
    "        self.tG = 0\n",
    "        self.tC = 0\n",
    "        self.n_train = 0\n",
    "        self.hits_train = 0\n",
    "        self.n_test = 0\n",
    "        self.hits_test = 0\n",
    "        \n",
    "    def getSize(self, features):\n",
    "        return features[0]*features[1]\n",
    "    \n",
    "    def getMinSize(self, x):\n",
    "        return min([self.getSize(xi) for xi in x])\n",
    "    \n",
    "    def getMaxSize(self, x):\n",
    "        return max([self.getSize(xi) for xi in x])    \n",
    "\n",
    "    def getNumberOfHits(self, tG, tC, x, y):\n",
    "        hits = 0\n",
    "        n = len(y)\n",
    "        for i in np.arange(n):\n",
    "            pos = 'F'\n",
    "            size = self.getSize(x[i])\n",
    "            if size < tG:\n",
    "                pos = 'G'\n",
    "            elif size > tC:\n",
    "                pos = 'C'\n",
    "            if(pos == y[i]):\n",
    "                hits = hits + 1\n",
    "        return hits\n",
    "\n",
    "    def train(self, x_train, y_train):\n",
    "        self.n_train = len(y_train)\n",
    "        minvalue = self.getMinSize(x_train)\n",
    "        maxvalue = self.getMaxSize(x_train)\n",
    "        #grid search   \n",
    "        #for tg in np.arange(60*150,90*300,100):\n",
    "        for tG in np.linspace(minvalue, maxvalue, 100):\n",
    "            for tC in np.linspace(tG,maxvalue,100):\n",
    "                hits = self.getNumberOfHits(tG, tC, x_train, y_train)\n",
    "                if hits > self.hits_train:\n",
    "                    self.hits_train = hits\n",
    "                    self.tG = tG\n",
    "                    self.tC = tC\n",
    "                    \n",
    "    def test(self, x_test, y_test): \n",
    "        self.n_test = len(y_test)\n",
    "        self.hits_test = self.getNumberOfHits(self.tG, self.tC, x_test, y_test)\n",
    "        return self.hits_test/self.n_test"
   ]
  },
  {
   "cell_type": "markdown",
   "metadata": {
    "deletable": false,
    "editable": false,
    "nbgrader": {
     "checksum": "311d1753c54a8b571a94f263cbd06f7c",
     "grade": false,
     "grade_id": "cell1c2-a00",
     "locked": true,
     "schema_version": 1,
     "solution": false
    }
   },
   "source": [
    "__a)__ O modelo foi avaliado usando a acurácia simples. Modifique-o para que ele também possa exibir resultados referentes a:\n",
    "\n",
    "- Matriz de confusão;\n",
    "- Precisão;\n",
    "- Revocação;\n",
    "- F1 *score*;\n",
    "    "
   ]
  },
  {
   "cell_type": "code",
   "execution_count": null,
   "metadata": {
    "deletable": false,
    "nbgrader": {
     "checksum": "d5b17dfe5dbb5f5f796319a5a5ae73ec",
     "grade": true,
     "grade_id": "cell11-a00",
     "locked": false,
     "points": 4,
     "schema_version": 1,
     "solution": true
    }
   },
   "outputs": [],
   "source": [
    "# YOUR CODE HERE\n",
    "raise NotImplementedError()\n"
   ]
  },
  {
   "cell_type": "markdown",
   "metadata": {
    "deletable": false,
    "editable": false,
    "nbgrader": {
     "checksum": "9068a8d6e14ba77f6871b84433e5eed1",
     "grade": false,
     "grade_id": "cell1c3-a00",
     "locked": true,
     "schema_version": 1,
     "solution": false
    }
   },
   "source": [
    "__b)__ (**opcional**) Talvez você tenha pensado em uma maneira melhor de prever as posições dos jogadores a partir da sua altura e peso. Caso isso seja verdade, crie o seu próprio modelo e o compare com o `PosModel`.\n",
    "\n"
   ]
  },
  {
   "cell_type": "code",
   "execution_count": null,
   "metadata": {
    "deletable": false,
    "nbgrader": {
     "checksum": "d2fe3f273d262ea4fdc26fb213497f83",
     "grade": true,
     "grade_id": "cell12-a00",
     "locked": false,
     "points": 0,
     "schema_version": 1,
     "solution": true
    }
   },
   "outputs": [],
   "source": [
    "# YOUR CODE HERE\n",
    "raise NotImplementedError()\n"
   ]
  },
  {
   "cell_type": "markdown",
   "metadata": {
    "deletable": false,
    "editable": false,
    "nbgrader": {
     "checksum": "e9637b4c27c5923916ea05239ff7b928",
     "grade": false,
     "grade_id": "cell1c4-a00",
     "locked": true,
     "schema_version": 1,
     "solution": false
    }
   },
   "source": [
    "__c)__ Considerando que o seu modelo é preciso o suficiente, aplique-o sobre outros conjuntos de dados para descobrir em quais posições as pessoas jogariam na NBA, ou seja, dado um conjunto de pessoas, com as suas respectivas alturas e pesos, quantos seriam armadores, alas e pivôs? Responda a essa pergunta para os seguintes conjuntos de dados:\n",
    "\n",
    "- [Jogadores de hockey da NHL](https://www.dropbox.com/s/mbqrji2376qz6v8/nhl_ht_wt.csv?dl=0);\n",
    "- [Jogadores de futebol da Premier League (liga inglesa)](https://www.dropbox.com/s/i5ysl5lhqlgsxv7/epl_2015_ht_wt.csv?dl=0);\n",
    "- [Pessoas do conjunto de dados `Davis`](https://www.dropbox.com/s/xtexorbiu23wxlo/Davis.csv?dl=0).\n",
    "\n"
   ]
  },
  {
   "cell_type": "code",
   "execution_count": null,
   "metadata": {
    "deletable": false,
    "nbgrader": {
     "checksum": "6b9b83954fec1a0f2cab717e4cd716e9",
     "grade": true,
     "grade_id": "cell13-a00",
     "locked": false,
     "points": 0,
     "schema_version": 1,
     "solution": true
    }
   },
   "outputs": [],
   "source": [
    "# YOUR CODE HERE\n",
    "raise NotImplementedError()\n"
   ]
  }
 ],
 "metadata": {
  "kernelspec": {
   "display_name": "Python 3",
   "language": "python",
   "name": "python3"
  },
  "language_info": {
   "codemirror_mode": {
    "name": "ipython",
    "version": 3
   },
   "file_extension": ".py",
   "mimetype": "text/x-python",
   "name": "python",
   "nbconvert_exporter": "python",
   "pygments_lexer": "ipython3",
   "version": "3.6.5"
  }
 },
 "nbformat": 4,
 "nbformat_minor": 2
}
