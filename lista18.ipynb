{
 "cells": [
  {
   "cell_type": "markdown",
   "metadata": {
    "deletable": false,
    "editable": false,
    "nbgrader": {
     "checksum": "26be52a71d9e66e36f96ee47cbd2a20e",
     "grade": false,
     "grade_id": "cellc-a00",
     "locked": true,
     "schema_version": 1,
     "solution": false
    }
   },
   "source": [
    "# Aula 18 - Agrupamento (Clustering)"
   ]
  },
  {
   "cell_type": "markdown",
   "metadata": {
    "deletable": false,
    "editable": false,
    "nbgrader": {
     "checksum": "d8db8a6cd5e84ab00e685cc9e1898e28",
     "grade": false,
     "grade_id": "cell1c-a00",
     "locked": true,
     "schema_version": 1,
     "solution": false
    }
   },
   "source": [
    "# Exercício 01:\n",
    "\n",
    "Na aula sobre Árvores de Decisão, foi proposto um exercício para você encontrar o número de votações necessárias para agrupar os deputados em seus partidos políticos. Agora, dados [os dados históricos das votações dos deputados no Brasil](https://www.dropbox.com/s/iu5nlu7ta853voc/votes.zip?dl=0), encontre um agrupamento que coloque deputados com perfil de votação similar no mesmo grupo e com perfil de votação diferente em grupos diferentes. Este agrupamento pode ajudar a responder a pergunta: \"quantas partidos políticos o Brasil deveria ter?\" Você deve tentar resolver este problema usando *tanto* o *k-means* quanto o *agrupamento hierárquico*. No caso deste último, você deve ter que fazer melhorias no algoritmo afim de torná-lo mais rápido.\n"
   ]
  },
  {
   "cell_type": "code",
   "execution_count": null,
   "metadata": {
    "deletable": false,
    "nbgrader": {
     "checksum": "ba4949b957469f59aeba4021627f2a9b",
     "grade": true,
     "grade_id": "cell1-a00",
     "locked": false,
     "points": 1,
     "schema_version": 1,
     "solution": true
    }
   },
   "outputs": [],
   "source": [
    "# YOUR CODE HERE\n",
    "raise NotImplementedError()\n"
   ]
  }
 ],
 "metadata": {
  "kernelspec": {
   "display_name": "Python 3",
   "language": "python",
   "name": "python3"
  },
  "language_info": {
   "codemirror_mode": {
    "name": "ipython",
    "version": 3
   },
   "file_extension": ".py",
   "mimetype": "text/x-python",
   "name": "python",
   "nbconvert_exporter": "python",
   "pygments_lexer": "ipython3",
   "version": "3.6.5"
  }
 },
 "nbformat": 4,
 "nbformat_minor": 2
}
