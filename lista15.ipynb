{
 "cells": [
  {
   "cell_type": "markdown",
   "metadata": {
    "deletable": false,
    "editable": false,
    "nbgrader": {
     "checksum": "1bead3b87d6a21d21d9c164a942b3722",
     "grade": false,
     "grade_id": "cellc-a00",
     "locked": true,
     "schema_version": 1,
     "solution": false
    }
   },
   "source": [
    "# Aula 15 - Regressão Logística"
   ]
  },
  {
   "cell_type": "markdown",
   "metadata": {
    "deletable": false,
    "editable": false,
    "nbgrader": {
     "checksum": "a258604b5ada4c7519c20c2858f640bc",
     "grade": false,
     "grade_id": "cell1c-a00",
     "locked": true,
     "schema_version": 1,
     "solution": false
    }
   },
   "source": [
    "# Exercício 01:\n",
    "\n",
    "No exemplo da Aula 15, o nosso modelo obteve uma precisão de 0.93 e uma revocação de 0.82. Apesar da precisão ter um valor razoável, o chefe da *DataSciencester* quer uma revocação maior. Você disse a ele que uma revocação maior pode implicar em uma precisão menor. Ele não se convenceu e pediu para você mostrar o quanto de precisão vamos perder para aumentar a revocação. Mostre a curva (isto é, faça o gráfico) da precisão quando mudamos o valor da revocação. [Este artigo](https://jamesmccaffrey.wordpress.com/2014/11/04/precision-and-recall-with-binary-classification/) pode lhe ajudar a entender do que estou falando se você ainda não entendeu.\n"
   ]
  },
  {
   "cell_type": "code",
   "execution_count": null,
   "metadata": {
    "deletable": false,
    "nbgrader": {
     "checksum": "ba4949b957469f59aeba4021627f2a9b",
     "grade": true,
     "grade_id": "cell1-a00",
     "locked": false,
     "points": 1,
     "schema_version": 1,
     "solution": true
    }
   },
   "outputs": [],
   "source": [
    "# YOUR CODE HERE\n",
    "raise NotImplementedError()\n"
   ]
  },
  {
   "cell_type": "markdown",
   "metadata": {
    "deletable": false,
    "editable": false,
    "nbgrader": {
     "checksum": "895a83df0433d7cb952ce7730e128be6",
     "grade": false,
     "grade_id": "cell2c-a00",
     "locked": true,
     "schema_version": 1,
     "solution": false
    }
   },
   "source": [
    "# Exercício 02:\n",
    "\n",
    "Não avaliamos a qualidade do ajuste da regressão logística através do $R^2$. Apesar disso, há maneiras de fazer essa análise, que estão descritas, por exemplo, [aqui](http://thestatsgeek.com/2014/02/08/r-squared-in-logistic-regression/) e [aqui](https://statisticalhorizons.com/r2logistic). Implemente uma dessas maneiras e plote o gráfico do valor do $R^2$ para diferentes configurações de pares de (precisão, revocação)."
   ]
  },
  {
   "cell_type": "code",
   "execution_count": null,
   "metadata": {
    "deletable": false,
    "nbgrader": {
     "checksum": "f0229a994a7af1659976852a311103e5",
     "grade": true,
     "grade_id": "cell2-a00",
     "locked": false,
     "points": 1,
     "schema_version": 1,
     "solution": true
    }
   },
   "outputs": [],
   "source": [
    "# YOUR CODE HERE\n",
    "raise NotImplementedError()\n"
   ]
  },
  {
   "cell_type": "markdown",
   "metadata": {
    "deletable": false,
    "editable": false,
    "nbgrader": {
     "checksum": "abc9a04ec92d49debca90f13e02cb1c0",
     "grade": false,
     "grade_id": "cell3c-a00",
     "locked": true,
     "schema_version": 1,
     "solution": false
    }
   },
   "source": [
    "# Exercício 03:\n",
    "\n",
    "Na liga de basquete profissional americana (NBA), todo ano há um jogo das estrelas, em que (idealmente) os melhores de cada posição e de cada conferência (Leste e Oeste) batalham entre si. Para os jogadores, é muito importante ser chamado para esse jogo, pois a partir da convocação eles ganham o rótulo de \"*all star*\". O problema é que [injustiças ocorrem](https://www.complex.com/sports/2013/02/the-15-worst-nba-all-stars-selections-of-all-time/), pois o papel da popularidade do jogador parece ser um fator determinante para ser convocado. Além disso, jogadores \"amigos\" dos técnicos convocados para dirigir os times do Leste e do Oeste também levam vantagem. Assim, neste exercício você deve propor um modelo para indicar quais foram as injustiças das convocações para o jogo das estrelas. Considere tanto aqueles jogadores que foram convocados injustamente quanto aqueles que não foram. [Neste arquivo](https://www.dropbox.com/s/x5by6j5m3rs0bl6/nba.zip?dl=0) há informações sobre todas as temporadas da NBA de 1946 a 2008, incluindo as estatísticas anuais dos jogadores (`player_regular_season.txt`) e quais jogadores disputaram o jogo das estrelas em cada ano (`player_allstar.txt`). Indique também quais sãos os atributos mais importantes para a convocação para o jogo das estrelas e a qualidade do ajuste do seu modelo."
   ]
  },
  {
   "cell_type": "code",
   "execution_count": null,
   "metadata": {
    "deletable": false,
    "nbgrader": {
     "checksum": "c632058a56815539f0871ea41020ac02",
     "grade": true,
     "grade_id": "cell3-a00",
     "locked": false,
     "points": 1,
     "schema_version": 1,
     "solution": true
    }
   },
   "outputs": [],
   "source": [
    "# YOUR CODE HERE\n",
    "raise NotImplementedError()\n"
   ]
  }
 ],
 "metadata": {
  "kernelspec": {
   "display_name": "Python 3",
   "language": "python",
   "name": "python3"
  },
  "language_info": {
   "codemirror_mode": {
    "name": "ipython",
    "version": 3
   },
   "file_extension": ".py",
   "mimetype": "text/x-python",
   "name": "python",
   "nbconvert_exporter": "python",
   "pygments_lexer": "ipython3",
   "version": "3.6.5"
  }
 },
 "nbformat": 4,
 "nbformat_minor": 2
}
