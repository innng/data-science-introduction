{
 "cells": [
  {
   "cell_type": "markdown",
   "metadata": {
    "deletable": false,
    "editable": false,
    "nbgrader": {
     "checksum": "cf1d73a3755fae283a5fb596c82ad09d",
     "grade": false,
     "grade_id": "cellc-a00",
     "locked": true,
     "schema_version": 1,
     "solution": false
    }
   },
   "source": [
    "# Aula 17 - Redes Neurais"
   ]
  },
  {
   "cell_type": "markdown",
   "metadata": {
    "deletable": false,
    "editable": false,
    "nbgrader": {
     "checksum": "347594856102927ad4a646ac9c3e4569",
     "grade": false,
     "grade_id": "cell1c-a00",
     "locked": true,
     "schema_version": 1,
     "solution": false
    }
   },
   "source": [
    "# Exercício 01:\n",
    "\n",
    "Use a função `backpropagate` para construir automaticamente uma rede neural *XOR*. \n"
   ]
  },
  {
   "cell_type": "code",
   "execution_count": null,
   "metadata": {
    "deletable": false,
    "nbgrader": {
     "checksum": "ba4949b957469f59aeba4021627f2a9b",
     "grade": true,
     "grade_id": "cell1-a00",
     "locked": false,
     "points": 1,
     "schema_version": 1,
     "solution": true
    }
   },
   "outputs": [],
   "source": [
    "# YOUR CODE HERE\n",
    "raise NotImplementedError()\n"
   ]
  },
  {
   "cell_type": "markdown",
   "metadata": {
    "deletable": false,
    "editable": false,
    "nbgrader": {
     "checksum": "4f38ac3a3173463f493f0489426f674b",
     "grade": false,
     "grade_id": "cell2c-a00",
     "locked": true,
     "schema_version": 1,
     "solution": false
    }
   },
   "source": [
    "# Exercício 02:\n",
    "\n",
    "Projete uma rede neural para classificar *pelo menos* um dos conjuntos de dados abaixo:\n",
    "\n",
    "* [MNIST](http://yann.lecun.com/exdb/mnist/). O MNIST é um dos conjuntos de dados de aprendizagem profunda mais populares que existem. É um conjunto de dados de dígitos manuscritos e contém um conjunto de treinamento de 60.000 exemplos e um conjunto de teste de 10.000 exemplos. É um bom banco de dados para testar técnicas de aprendizado e padrões de reconhecimento profundo em dados do mundo real gastanto pouco tempo e esforço no pré-processamento de dados.\n",
    "\n",
    "* [CIFAR-10](http://www.cs.utoronto.ca/~kriz/cifar.html). Este conjunto de dados muito bom para classificação de imagens. Consiste em 60.000 imagens de 10 classes (cada classe é representada como uma linha na imagem acima). No total, existem 50.000 imagens de treinamento e 10.000 imagens de teste. O conjunto de dados é dividido em 6 partes - 5 lotes de treinamento e 1 lote de teste. Cada lote tem 10.000 imagens."
   ]
  },
  {
   "cell_type": "code",
   "execution_count": null,
   "metadata": {
    "deletable": false,
    "nbgrader": {
     "checksum": "f0229a994a7af1659976852a311103e5",
     "grade": true,
     "grade_id": "cell2-a00",
     "locked": false,
     "points": 1,
     "schema_version": 1,
     "solution": true
    }
   },
   "outputs": [],
   "source": [
    "# YOUR CODE HERE\n",
    "raise NotImplementedError()\n"
   ]
  }
 ],
 "metadata": {
  "kernelspec": {
   "display_name": "Python 3",
   "language": "python",
   "name": "python3"
  },
  "language_info": {
   "codemirror_mode": {
    "name": "ipython",
    "version": 3
   },
   "file_extension": ".py",
   "mimetype": "text/x-python",
   "name": "python",
   "nbconvert_exporter": "python",
   "pygments_lexer": "ipython3",
   "version": "3.6.5"
  }
 },
 "nbformat": 4,
 "nbformat_minor": 2
}
