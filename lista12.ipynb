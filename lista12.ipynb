{
 "cells": [
  {
   "cell_type": "markdown",
   "metadata": {
    "deletable": false,
    "editable": false,
    "nbgrader": {
     "checksum": "3eb047271134b53997808b906f9cb260",
     "grade": false,
     "grade_id": "cellc-a00",
     "locked": true,
     "schema_version": 1,
     "solution": false
    }
   },
   "source": [
    "# Aula 12 - Naive Bayes"
   ]
  },
  {
   "cell_type": "markdown",
   "metadata": {
    "deletable": false,
    "editable": false,
    "nbgrader": {
     "checksum": "dff40581e1f0b883dfb3fe0aa761343c",
     "grade": false,
     "grade_id": "cell1c-a00",
     "locked": true,
     "schema_version": 1,
     "solution": false
    }
   },
   "source": [
    "# Exercício 01:\n",
    "\n",
    "Escolha *pelo menos uma* das quatro técnicas para melhorar o Naive Bayes descritas no notebook da Aula 12 (**\"Como poderíamos obter um melhor desempenho?\"**) para você implementar. Descreva-a e compare os resultados obtidos com e sem a técnica.\n"
   ]
  },
  {
   "cell_type": "code",
   "execution_count": null,
   "metadata": {
    "deletable": false,
    "nbgrader": {
     "checksum": "ba4949b957469f59aeba4021627f2a9b",
     "grade": true,
     "grade_id": "cell1-a00",
     "locked": false,
     "points": 1,
     "schema_version": 1,
     "solution": true
    }
   },
   "outputs": [],
   "source": [
    "# YOUR CODE HERE\n",
    "raise NotImplementedError()\n"
   ]
  },
  {
   "cell_type": "markdown",
   "metadata": {
    "deletable": false,
    "editable": false,
    "nbgrader": {
     "checksum": "76ca740310b30e1fb1ea841fafc1037b",
     "grade": false,
     "grade_id": "cell2c-a00",
     "locked": true,
     "schema_version": 1,
     "solution": false
    }
   },
   "source": [
    "# Exercício 02:\n",
    "\n",
    "Escolha *pelo menos um* dos problemas abaixo para você resolver a partir do Naive Bayes:\n",
    "\n",
    "   - Um problema para o empresas como o Youtube é identificar vídeos com conteúdo adulto. Use o Naive Bayes para identificar filmes que contenham conteúdo adulto a partir dos seus títulos. Verifique o desempenho do classificador em um [conjunto de dados do IMDB](https://www.imdb.com/interfaces/). O título e a classificação do filme estão no arquivo [title.basics.tsv.gz](https://datasets.imdbws.com/title.basics.tsv.gz).\n",
    "   - Outro problema relevante para empresas de conteúdo online é identificar o tópico de um texto. Use o Naive Bayes para classificar a qual tópico um texto pertence. Verifique o desempenho do Naive Bayes do [conjunto de dados Newsgroups](http://www.cs.cmu.edu/afs/cs/project/theo-11/www/naive-bayes.html), que contém 1000 artigos de texto publicados em 20 grupos de notícias online, para um total de 20.000 artigos. O arquivo pode ser baixado diretamente [aqui](http://www.cs.cmu.edu/afs/cs/project/theo-11/www/naive-bayes/20_newsgroups.tar.gz).\n",
    "   \n",
    "**Observação:** ambos os conjuntos de dados deste exercício são bem maiores e ruidosos que aqueles que trabalhamos até agora. Faz parte do desafio deste exercício o processamento e limpeza desses dados, caso seja necessário.\n",
    "   "
   ]
  },
  {
   "cell_type": "code",
   "execution_count": null,
   "metadata": {
    "deletable": false,
    "nbgrader": {
     "checksum": "f0229a994a7af1659976852a311103e5",
     "grade": true,
     "grade_id": "cell2-a00",
     "locked": false,
     "points": 1,
     "schema_version": 1,
     "solution": true
    }
   },
   "outputs": [],
   "source": [
    "# YOUR CODE HERE\n",
    "raise NotImplementedError()\n"
   ]
  }
 ],
 "metadata": {
  "kernelspec": {
   "display_name": "Python 3",
   "language": "python",
   "name": "python3"
  },
  "language_info": {
   "codemirror_mode": {
    "name": "ipython",
    "version": 3
   },
   "file_extension": ".py",
   "mimetype": "text/x-python",
   "name": "python",
   "nbconvert_exporter": "python",
   "pygments_lexer": "ipython3",
   "version": "3.6.5"
  }
 },
 "nbformat": 4,
 "nbformat_minor": 2
}
