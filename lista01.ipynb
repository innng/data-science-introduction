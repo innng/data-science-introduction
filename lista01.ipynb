{
 "cells": [
  {
   "cell_type": "markdown",
   "metadata": {
    "deletable": false,
    "editable": false,
    "nbgrader": {
     "checksum": "4a3f4d052e48c3439b74737746a9d0aa",
     "grade": false,
     "grade_id": "cellc-a00",
     "locked": true,
     "schema_version": 1,
     "solution": false
    }
   },
   "source": [
    "# Aula 01 - Python Não Tão Básico"
   ]
  },
  {
   "cell_type": "markdown",
   "metadata": {
    "deletable": false,
    "editable": false,
    "nbgrader": {
     "checksum": "788bf2a9595be363139dae514dfc66fe",
     "grade": false,
     "grade_id": "cell1c-a00",
     "locked": true,
     "schema_version": 1,
     "solution": false
    }
   },
   "source": [
    "# Exercício 01:\n",
    "\n",
    "Crie uma função que, dado duas listas sendo uma com nomes e outras com números, retorne uma __lista__ com os nomes associados aos números ordenados em ordem decrescente. Caso mais de um nome esteja associado a um mesmo número, eles devem ser ordenados em ordem lexicográfica. Por exemplo, dado uma lista com o nome de alguns jogadores e outra lista com os salários desses jogadores, a lista com o nome dos jogadores deve ser ordenada de forma que os primeiros jogadores sejam aqueles que possuem os maiores salários. No exemplo dado, a saída esperada é: ['Messi', 'Cristiano Ronaldo', 'Neymar', 'Bale', 'Piqué', 'Kroos', 'Sergio Ramos', 'Ibrahimovic', 'Griezmann', 'Suarez', 'Iniesta', 'Lavezzi', 'Sanchez', 'Benzema', 'Muller', 'Cavani', 'Lewandowski', 'Oscar', 'Pogba', 'Neuer']\n",
    "\n",
    "\n",
    "__Dicas:__  \n",
    "não se esqueça de manter a relação existente entre o nome e o número, ou seja, o nome que ocupa a primeira posição da lista está associado ao número da primeira posição da outra lista.\n"
   ]
  },
  {
   "cell_type": "code",
   "execution_count": 81,
   "metadata": {
    "deletable": false,
    "nbgrader": {
     "checksum": "e6822c902527bb3fa900902018f4711c",
     "grade": false,
     "grade_id": "cell1-a00",
     "locked": false,
     "schema_version": 1,
     "solution": true
    }
   },
   "outputs": [
    {
     "ename": "SyntaxError",
     "evalue": "invalid syntax (<ipython-input-81-6fbc189f7aa5>, line 13)",
     "output_type": "error",
     "traceback": [
      "\u001b[0;36m  File \u001b[0;32m\"<ipython-input-81-6fbc189f7aa5>\"\u001b[0;36m, line \u001b[0;32m13\u001b[0m\n\u001b[0;31m    list6 = [(x,y) for (x,y) in list5 y > 1]\u001b[0m\n\u001b[0m                                      ^\u001b[0m\n\u001b[0;31mSyntaxError\u001b[0m\u001b[0;31m:\u001b[0m invalid syntax\n"
     ]
    }
   ],
   "source": [
    "#Exemplo:\n",
    "player = [\"Neymar\", \"Piqué\", \"Benzema\", \"Neuer\", \"Iniesta\", \"Sergio Ramos\", \"Messi\", \"Oscar\", \"Griezmann\", \"Cavani\", \"Bale\", \"Pogba\", \"Cristiano Ronaldo\", \"Sanchez\", \"Kroos\", \"Lewandowski\", \"Lavezzi\", \"Ibrahimovic\", \"Muller\", \"Suarez\"]\n",
    "player_salary = [81.5, 29, 23.5, 20.8, 25.5, 27.5, 126, 22.2, 26, 22.5, 44, 22, 96, 23.55, 28.2, 22.2, 25.3, 26.8, 23, 26]\n",
    "\n",
    "from collections import Counter \n",
    "def sort_lists(list1, list2):\n",
    "    \n",
    "    list3 = zip(list1, list2)\n",
    "    list4 = sorted(list3, key=lambda x: x[1] , reverse=True)\n",
    "        \n",
    "    list5 = Counter([y for (x,y) in list4])\n",
    "    \n",
    "    list6 = [(x,y) for (x,y) in list5 y > 1]\n",
    "    print(list6)\n",
    "    \n",
    "    \n",
    "#     list6 = [x[0] for x in list4]\n",
    "#     return list6\n"
   ]
  },
  {
   "cell_type": "code",
   "execution_count": 82,
   "metadata": {
    "deletable": false,
    "editable": false,
    "nbgrader": {
     "checksum": "c981cc689cfac83e321e3f8aac931bce",
     "grade": true,
     "grade_id": "cell1t1-a00",
     "locked": true,
     "points": 1,
     "schema_version": 1,
     "solution": false
    }
   },
   "outputs": [
    {
     "name": "stdout",
     "output_type": "stream",
     "text": [
      "[('Messi', 126), ('Cristiano Ronaldo', 96), ('Neymar', 81.5), ('Bale', 44), ('Piqué', 29), ('Kroos', 28.2), ('Sergio Ramos', 27.5), ('Ibrahimovic', 26.8), ('Griezmann', 26), ('Suarez', 26), ('Iniesta', 25.5), ('Lavezzi', 25.3), ('Sanchez', 23.55), ('Benzema', 23.5), ('Muller', 23), ('Cavani', 22.5), ('Oscar', 22.2), ('Lewandowski', 22.2), ('Pogba', 22), ('Neuer', 20.8)]\n"
     ]
    },
    {
     "ename": "AssertionError",
     "evalue": "None != ['Messi', 'Cristiano Ronaldo', 'Neymar', [180 chars]uer']",
     "output_type": "error",
     "traceback": [
      "\u001b[0;31m---------------------------------------------------------------------------\u001b[0m",
      "\u001b[0;31mAssertionError\u001b[0m                            Traceback (most recent call last)",
      "\u001b[0;32m<ipython-input-82-2e05072f9ff6>\u001b[0m in \u001b[0;36m<module>\u001b[0;34m()\u001b[0m\n\u001b[1;32m      5\u001b[0m \u001b[0mplayer_salary\u001b[0m \u001b[0;34m=\u001b[0m \u001b[0;34m[\u001b[0m\u001b[0;36m81.5\u001b[0m\u001b[0;34m,\u001b[0m \u001b[0;36m29\u001b[0m\u001b[0;34m,\u001b[0m \u001b[0;36m23.5\u001b[0m\u001b[0;34m,\u001b[0m \u001b[0;36m20.8\u001b[0m\u001b[0;34m,\u001b[0m \u001b[0;36m25.5\u001b[0m\u001b[0;34m,\u001b[0m \u001b[0;36m27.5\u001b[0m\u001b[0;34m,\u001b[0m \u001b[0;36m126\u001b[0m\u001b[0;34m,\u001b[0m \u001b[0;36m22.2\u001b[0m\u001b[0;34m,\u001b[0m \u001b[0;36m26\u001b[0m\u001b[0;34m,\u001b[0m \u001b[0;36m22.5\u001b[0m\u001b[0;34m,\u001b[0m \u001b[0;36m44\u001b[0m\u001b[0;34m,\u001b[0m \u001b[0;36m22\u001b[0m\u001b[0;34m,\u001b[0m \u001b[0;36m96\u001b[0m\u001b[0;34m,\u001b[0m \u001b[0;36m23.55\u001b[0m\u001b[0;34m,\u001b[0m \u001b[0;36m28.2\u001b[0m\u001b[0;34m,\u001b[0m \u001b[0;36m22.2\u001b[0m\u001b[0;34m,\u001b[0m \u001b[0;36m25.3\u001b[0m\u001b[0;34m,\u001b[0m \u001b[0;36m26.8\u001b[0m\u001b[0;34m,\u001b[0m \u001b[0;36m23\u001b[0m\u001b[0;34m,\u001b[0m \u001b[0;36m26\u001b[0m\u001b[0;34m]\u001b[0m\u001b[0;34m\u001b[0m\u001b[0m\n\u001b[1;32m      6\u001b[0m \u001b[0;34m\u001b[0m\u001b[0m\n\u001b[0;32m----> 7\u001b[0;31m \u001b[0massert_equal\u001b[0m\u001b[0;34m(\u001b[0m\u001b[0msort_lists\u001b[0m\u001b[0;34m(\u001b[0m\u001b[0mplayer\u001b[0m\u001b[0;34m,\u001b[0m \u001b[0mplayer_salary\u001b[0m\u001b[0;34m)\u001b[0m\u001b[0;34m,\u001b[0m \u001b[0;34m[\u001b[0m\u001b[0;34m'Messi'\u001b[0m\u001b[0;34m,\u001b[0m \u001b[0;34m'Cristiano Ronaldo'\u001b[0m\u001b[0;34m,\u001b[0m \u001b[0;34m'Neymar'\u001b[0m\u001b[0;34m,\u001b[0m \u001b[0;34m'Bale'\u001b[0m\u001b[0;34m,\u001b[0m \u001b[0;34m'Piqué'\u001b[0m\u001b[0;34m,\u001b[0m \u001b[0;34m'Kroos'\u001b[0m\u001b[0;34m,\u001b[0m \u001b[0;34m'Sergio Ramos'\u001b[0m\u001b[0;34m,\u001b[0m \u001b[0;34m'Ibrahimovic'\u001b[0m\u001b[0;34m,\u001b[0m \u001b[0;34m'Griezmann'\u001b[0m\u001b[0;34m,\u001b[0m \u001b[0;34m'Suarez'\u001b[0m\u001b[0;34m,\u001b[0m \u001b[0;34m'Iniesta'\u001b[0m\u001b[0;34m,\u001b[0m \u001b[0;34m'Lavezzi'\u001b[0m\u001b[0;34m,\u001b[0m \u001b[0;34m'Sanchez'\u001b[0m\u001b[0;34m,\u001b[0m \u001b[0;34m'Benzema'\u001b[0m\u001b[0;34m,\u001b[0m \u001b[0;34m'Muller'\u001b[0m\u001b[0;34m,\u001b[0m \u001b[0;34m'Cavani'\u001b[0m\u001b[0;34m,\u001b[0m \u001b[0;34m'Lewandowski'\u001b[0m\u001b[0;34m,\u001b[0m \u001b[0;34m'Oscar'\u001b[0m\u001b[0;34m,\u001b[0m \u001b[0;34m'Pogba'\u001b[0m\u001b[0;34m,\u001b[0m \u001b[0;34m'Neuer'\u001b[0m\u001b[0;34m]\u001b[0m\u001b[0;34m)\u001b[0m\u001b[0;34m\u001b[0m\u001b[0m\n\u001b[0m",
      "\u001b[0;32m~/anaconda3/lib/python3.6/unittest/case.py\u001b[0m in \u001b[0;36massertEqual\u001b[0;34m(self, first, second, msg)\u001b[0m\n\u001b[1;32m    827\u001b[0m         \"\"\"\n\u001b[1;32m    828\u001b[0m         \u001b[0massertion_func\u001b[0m \u001b[0;34m=\u001b[0m \u001b[0mself\u001b[0m\u001b[0;34m.\u001b[0m\u001b[0m_getAssertEqualityFunc\u001b[0m\u001b[0;34m(\u001b[0m\u001b[0mfirst\u001b[0m\u001b[0;34m,\u001b[0m \u001b[0msecond\u001b[0m\u001b[0;34m)\u001b[0m\u001b[0;34m\u001b[0m\u001b[0m\n\u001b[0;32m--> 829\u001b[0;31m         \u001b[0massertion_func\u001b[0m\u001b[0;34m(\u001b[0m\u001b[0mfirst\u001b[0m\u001b[0;34m,\u001b[0m \u001b[0msecond\u001b[0m\u001b[0;34m,\u001b[0m \u001b[0mmsg\u001b[0m\u001b[0;34m=\u001b[0m\u001b[0mmsg\u001b[0m\u001b[0;34m)\u001b[0m\u001b[0;34m\u001b[0m\u001b[0m\n\u001b[0m\u001b[1;32m    830\u001b[0m \u001b[0;34m\u001b[0m\u001b[0m\n\u001b[1;32m    831\u001b[0m     \u001b[0;32mdef\u001b[0m \u001b[0massertNotEqual\u001b[0m\u001b[0;34m(\u001b[0m\u001b[0mself\u001b[0m\u001b[0;34m,\u001b[0m \u001b[0mfirst\u001b[0m\u001b[0;34m,\u001b[0m \u001b[0msecond\u001b[0m\u001b[0;34m,\u001b[0m \u001b[0mmsg\u001b[0m\u001b[0;34m=\u001b[0m\u001b[0;32mNone\u001b[0m\u001b[0;34m)\u001b[0m\u001b[0;34m:\u001b[0m\u001b[0;34m\u001b[0m\u001b[0m\n",
      "\u001b[0;32m~/anaconda3/lib/python3.6/unittest/case.py\u001b[0m in \u001b[0;36m_baseAssertEqual\u001b[0;34m(self, first, second, msg)\u001b[0m\n\u001b[1;32m    820\u001b[0m             \u001b[0mstandardMsg\u001b[0m \u001b[0;34m=\u001b[0m \u001b[0;34m'%s != %s'\u001b[0m \u001b[0;34m%\u001b[0m \u001b[0m_common_shorten_repr\u001b[0m\u001b[0;34m(\u001b[0m\u001b[0mfirst\u001b[0m\u001b[0;34m,\u001b[0m \u001b[0msecond\u001b[0m\u001b[0;34m)\u001b[0m\u001b[0;34m\u001b[0m\u001b[0m\n\u001b[1;32m    821\u001b[0m             \u001b[0mmsg\u001b[0m \u001b[0;34m=\u001b[0m \u001b[0mself\u001b[0m\u001b[0;34m.\u001b[0m\u001b[0m_formatMessage\u001b[0m\u001b[0;34m(\u001b[0m\u001b[0mmsg\u001b[0m\u001b[0;34m,\u001b[0m \u001b[0mstandardMsg\u001b[0m\u001b[0;34m)\u001b[0m\u001b[0;34m\u001b[0m\u001b[0m\n\u001b[0;32m--> 822\u001b[0;31m             \u001b[0;32mraise\u001b[0m \u001b[0mself\u001b[0m\u001b[0;34m.\u001b[0m\u001b[0mfailureException\u001b[0m\u001b[0;34m(\u001b[0m\u001b[0mmsg\u001b[0m\u001b[0;34m)\u001b[0m\u001b[0;34m\u001b[0m\u001b[0m\n\u001b[0m\u001b[1;32m    823\u001b[0m \u001b[0;34m\u001b[0m\u001b[0m\n\u001b[1;32m    824\u001b[0m     \u001b[0;32mdef\u001b[0m \u001b[0massertEqual\u001b[0m\u001b[0;34m(\u001b[0m\u001b[0mself\u001b[0m\u001b[0;34m,\u001b[0m \u001b[0mfirst\u001b[0m\u001b[0;34m,\u001b[0m \u001b[0msecond\u001b[0m\u001b[0;34m,\u001b[0m \u001b[0mmsg\u001b[0m\u001b[0;34m=\u001b[0m\u001b[0;32mNone\u001b[0m\u001b[0;34m)\u001b[0m\u001b[0;34m:\u001b[0m\u001b[0;34m\u001b[0m\u001b[0m\n",
      "\u001b[0;31mAssertionError\u001b[0m: None != ['Messi', 'Cristiano Ronaldo', 'Neymar', [180 chars]uer']"
     ]
    }
   ],
   "source": [
    "from nose.tools import assert_equal\n",
    "\"\"\"Check that sort_lists returns the correct output for several inputs\"\"\"\n",
    "\n",
    "player = [\"Neymar\", \"Piqué\", \"Benzema\", \"Neuer\", \"Iniesta\", \"Sergio Ramos\", \"Messi\", \"Oscar\", \"Griezmann\", \"Cavani\", \"Bale\", \"Pogba\", \"Cristiano Ronaldo\", \"Sanchez\", \"Kroos\", \"Lewandowski\", \"Lavezzi\", \"Ibrahimovic\", \"Muller\", \"Suarez\"]\n",
    "player_salary = [81.5, 29, 23.5, 20.8, 25.5, 27.5, 126, 22.2, 26, 22.5, 44, 22, 96, 23.55, 28.2, 22.2, 25.3, 26.8, 23, 26]\n",
    "\n",
    "assert_equal(sort_lists(player, player_salary), ['Messi', 'Cristiano Ronaldo', 'Neymar', 'Bale', 'Piqué', 'Kroos', 'Sergio Ramos', 'Ibrahimovic', 'Griezmann', 'Suarez', 'Iniesta', 'Lavezzi', 'Sanchez', 'Benzema', 'Muller', 'Cavani', 'Lewandowski', 'Oscar', 'Pogba', 'Neuer'])"
   ]
  },
  {
   "cell_type": "code",
   "execution_count": null,
   "metadata": {
    "deletable": false,
    "editable": false,
    "nbgrader": {
     "checksum": "4297cd4bcc9ae7a6c29c46f0aad69b7c",
     "grade": true,
     "grade_id": "cell1t2-a00",
     "locked": true,
     "points": 1,
     "schema_version": 1,
     "solution": false
    }
   },
   "outputs": [],
   "source": []
  },
  {
   "cell_type": "markdown",
   "metadata": {
    "deletable": false,
    "editable": false,
    "nbgrader": {
     "checksum": "a47d56a5433b8d4dbcf956c5733dd4b3",
     "grade": false,
     "grade_id": "cell2c-a00",
     "locked": true,
     "schema_version": 1,
     "solution": false
    }
   },
   "source": [
    "# Exercício 02:\n",
    "\n",
    "Crie uma função que remova todas as vogais sem acentuação de uma frase dada e retorne uma __lista__ (que pode ser vazia) em ordem lexicográfica com as palavras (sem vogais) da frase que possuem vogais acentuadas não removidas. Para testar sua função, você pode utilizar a entrada abaixo, cuja saída esperada é: ['dsprcrá', 'já', 'lgém', 'nxplcávl.', 'sbsttíd', 'srá', 'stá'].\n",
    "\n",
    "Frase: \"Existe uma teoria que diz que, se um dia alguém descobrir exatamente para que serve o Universo e por que ele está aqui, ele desaparecerá instantaneamente e será substituído por algo ainda mais estranho e inexplicável. Existe uma segunda teoria que diz que isso já aconteceu.\"\n",
    "\n",
    "\n",
    "__Dicas:__  \n",
    "não se preocupe em remover a pontuação do texto.  \n",
    "a função unidecode(frase) tranforma todos os caracteres da frase em caracteres não acentuados. (Atenção: para usá-la import o módulo da seguinte forma: _from unidecode import unidecode_)"
   ]
  },
  {
   "cell_type": "code",
   "execution_count": null,
   "metadata": {
    "deletable": false,
    "editable": false,
    "nbgrader": {
     "checksum": "a85ea6da1c7cd79af29c15eabb02a2c2",
     "grade": true,
     "grade_id": "cell2-import",
     "locked": true,
     "points": 0,
     "schema_version": 1,
     "solution": false
    }
   },
   "outputs": [],
   "source": []
  },
  {
   "cell_type": "code",
   "execution_count": null,
   "metadata": {
    "deletable": false,
    "nbgrader": {
     "checksum": "678e4327998f6f68602c0d1f35620051",
     "grade": false,
     "grade_id": "cell2-a00",
     "locked": false,
     "schema_version": 1,
     "solution": true
    }
   },
   "outputs": [],
   "source": [
    "#Exemplo:\n",
    "sample_text = sample_text = \"Existe uma teoria que diz que, se um dia alguém descobrir exatamente para que \\\n",
    "serve o Universo e por que ele está aqui, ele desaparecerá instantaneamente e será substituído por algo ainda \\\n",
    "mais estranho e inexplicável. Existe uma segunda teoria que diz que isso já aconteceu.\"\n",
    "\n",
    "\n",
    "def text_cons(sentence):\n",
    "\n",
    "    # YOUR CODE HERE\n",
    "    raise NotImplementedError()\n"
   ]
  },
  {
   "cell_type": "code",
   "execution_count": null,
   "metadata": {
    "deletable": false,
    "editable": false,
    "nbgrader": {
     "checksum": "05f368c33f2b9a3d96513aa7ac1d07c0",
     "grade": true,
     "grade_id": "cell2t1-a00",
     "locked": true,
     "points": 1,
     "schema_version": 1,
     "solution": false
    }
   },
   "outputs": [],
   "source": [
    "from nose.tools import assert_equal\n",
    "\"\"\"Check that text_cons returns the correct output for several inputs\"\"\"\n",
    "\n",
    "sample_text = \"Existe uma teoria que diz que, se um dia alguém descobrir exatamente para que \\\n",
    "serve o Universo e por que ele está aqui, ele desaparecerá instantaneamente e será substituído por algo ainda \\\n",
    "mais estranho e inexplicável. Existe uma segunda teoria que diz que isso já aconteceu.\"\n",
    "\n",
    "assert_equal(text_cons(sample_text), ['dsprcrá', 'já', 'lgém', 'nxplcávl.', 'sbsttíd', 'srá', 'stá'])"
   ]
  },
  {
   "cell_type": "code",
   "execution_count": null,
   "metadata": {
    "deletable": false,
    "editable": false,
    "nbgrader": {
     "checksum": "e442d470d44ac2197891cfae0bebb0e8",
     "grade": true,
     "grade_id": "cell2t2-a00",
     "locked": true,
     "points": 1,
     "schema_version": 1,
     "solution": false
    }
   },
   "outputs": [],
   "source": []
  }
 ],
 "metadata": {
  "kernelspec": {
   "display_name": "Python 3",
   "language": "python",
   "name": "python3"
  },
  "language_info": {
   "codemirror_mode": {
    "name": "ipython",
    "version": 3
   },
   "file_extension": ".py",
   "mimetype": "text/x-python",
   "name": "python",
   "nbconvert_exporter": "python",
   "pygments_lexer": "ipython3",
   "version": "3.6.5"
  }
 },
 "nbformat": 4,
 "nbformat_minor": 2
}
