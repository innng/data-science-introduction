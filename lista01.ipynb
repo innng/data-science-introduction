{
 "cells": [
  {
   "cell_type": "markdown",
   "metadata": {
    "deletable": false,
    "editable": false,
    "nbgrader": {
     "checksum": "4a3f4d052e48c3439b74737746a9d0aa",
     "grade": false,
     "grade_id": "cellc-a00",
     "locked": true,
     "schema_version": 1,
     "solution": false
    }
   },
   "source": [
    "# Aula 01 - Python Não Tão Básico"
   ]
  },
  {
   "cell_type": "markdown",
   "metadata": {
    "deletable": false,
    "editable": false,
    "nbgrader": {
     "checksum": "788bf2a9595be363139dae514dfc66fe",
     "grade": false,
     "grade_id": "cell1c-a00",
     "locked": true,
     "schema_version": 1,
     "solution": false
    }
   },
   "source": [
    "# Exercício 01:\n",
    "\n",
    "Crie uma função que, dado duas listas sendo uma com nomes e outras com números, retorne uma __lista__ com os nomes associados aos números ordenados em ordem decrescente. Caso mais de um nome esteja associado a um mesmo número, eles devem ser ordenados em ordem lexicográfica. Por exemplo, dado uma lista com o nome de alguns jogadores e outra lista com os salários desses jogadores, a lista com o nome dos jogadores deve ser ordenada de forma que os primeiros jogadores sejam aqueles que possuem os maiores salários. No exemplo dado, a saída esperada é: ['Messi', 'Cristiano Ronaldo', 'Neymar', 'Bale', 'Piqué', 'Kroos', 'Sergio Ramos', 'Ibrahimovic', 'Griezmann', 'Suarez', 'Iniesta', 'Lavezzi', 'Sanchez', 'Benzema', 'Muller', 'Cavani', 'Lewandowski', 'Oscar', 'Pogba', 'Neuer']\n",
    "\n",
    "\n",
    "__Dicas:__  \n",
    "não se esqueça de manter a relação existente entre o nome e o número, ou seja, o nome que ocupa a primeira posição da lista está associado ao número da primeira posição da outra lista.\n"
   ]
  },
  {
   "cell_type": "code",
   "execution_count": 21,
   "metadata": {
    "deletable": false,
    "nbgrader": {
     "checksum": "e6822c902527bb3fa900902018f4711c",
     "grade": false,
     "grade_id": "cell1-a00",
     "locked": false,
     "schema_version": 1,
     "solution": true
    }
   },
   "outputs": [],
   "source": [
    "#Exemplo:\n",
    "player = [\"Neymar\", \"Piqué\", \"Benzema\", \"Neuer\", \"Iniesta\", \"Sergio Ramos\", \"Messi\", \"Oscar\", \"Griezmann\", \"Cavani\", \"Bale\", \"Pogba\", \"Cristiano Ronaldo\", \"Sanchez\", \"Kroos\", \"Lewandowski\", \"Lavezzi\", \"Ibrahimovic\", \"Muller\", \"Suarez\"]\n",
    "player_salary = [81.5, 29, 23.5, 20.8, 25.5, 27.5, 126, 22.2, 26, 22.5, 44, 22, 96, 23.55, 28.2, 22.2, 25.3, 26.8, 23, 26]\n",
    "\n",
    "from collections import OrderedDict\n",
    "def sort_lists(list1, list2):\n",
    "    list3 = list(zip(list2, list1))\n",
    "       \n",
    "    dct = {}\n",
    "    for tupl in list3:\n",
    "        if tupl[0] not in dct:\n",
    "            dct[tupl[0]] = []\n",
    "            dct[tupl[0]].append(tupl[1])\n",
    "        else:\n",
    "            dct[tupl[0]].append(tupl[1])\n",
    "            \n",
    "    dct = OrderedDict(sorted(dct.items(), reverse = True))\n",
    "    \n",
    "    result = []\n",
    "    for salary in dct:\n",
    "        list4 = sorted(dct[salary]) \n",
    "        for element in list4:\n",
    "            result.append(element)\n",
    "    \n",
    "    return result\n",
    "            \n",
    "    "
   ]
  },
  {
   "cell_type": "code",
   "execution_count": 22,
   "metadata": {
    "deletable": false,
    "editable": false,
    "nbgrader": {
     "checksum": "c981cc689cfac83e321e3f8aac931bce",
     "grade": true,
     "grade_id": "cell1t1-a00",
     "locked": true,
     "points": 1,
     "schema_version": 1,
     "solution": false
    }
   },
   "outputs": [],
   "source": [
    "from nose.tools import assert_equal\n",
    "\"\"\"Check that sort_lists returns the correct output for several inputs\"\"\"\n",
    "\n",
    "player = [\"Neymar\", \"Piqué\", \"Benzema\", \"Neuer\", \"Iniesta\", \"Sergio Ramos\", \"Messi\", \"Oscar\", \"Griezmann\", \"Cavani\", \"Bale\", \"Pogba\", \"Cristiano Ronaldo\", \"Sanchez\", \"Kroos\", \"Lewandowski\", \"Lavezzi\", \"Ibrahimovic\", \"Muller\", \"Suarez\"]\n",
    "player_salary = [81.5, 29, 23.5, 20.8, 25.5, 27.5, 126, 22.2, 26, 22.5, 44, 22, 96, 23.55, 28.2, 22.2, 25.3, 26.8, 23, 26]\n",
    "\n",
    "assert_equal(sort_lists(player, player_salary), ['Messi', 'Cristiano Ronaldo', 'Neymar', 'Bale', 'Piqué', 'Kroos', 'Sergio Ramos', 'Ibrahimovic', 'Griezmann', 'Suarez', 'Iniesta', 'Lavezzi', 'Sanchez', 'Benzema', 'Muller', 'Cavani', 'Lewandowski', 'Oscar', 'Pogba', 'Neuer'])"
   ]
  },
  {
   "cell_type": "code",
   "execution_count": null,
   "metadata": {
    "deletable": false,
    "editable": false,
    "nbgrader": {
     "checksum": "4297cd4bcc9ae7a6c29c46f0aad69b7c",
     "grade": true,
     "grade_id": "cell1t2-a00",
     "locked": true,
     "points": 1,
     "schema_version": 1,
     "solution": false
    }
   },
   "outputs": [],
   "source": []
  },
  {
   "cell_type": "markdown",
   "metadata": {
    "deletable": false,
    "editable": false,
    "nbgrader": {
     "checksum": "a47d56a5433b8d4dbcf956c5733dd4b3",
     "grade": false,
     "grade_id": "cell2c-a00",
     "locked": true,
     "schema_version": 1,
     "solution": false
    }
   },
   "source": [
    "# Exercício 02:\n",
    "\n",
    "Crie uma função que remova todas as vogais sem acentuação de uma frase dada e retorne uma __lista__ (que pode ser vazia) em ordem lexicográfica com as palavras (sem vogais) da frase que possuem vogais acentuadas não removidas. Para testar sua função, você pode utilizar a entrada abaixo, cuja saída esperada é: ['dsprcrá', 'já', 'lgém', 'nxplcávl.', 'sbsttíd', 'srá', 'stá'].\n",
    "\n",
    "Frase: \"Existe uma teoria que diz que, se um dia alguém descobrir exatamente para que serve o Universo e por que ele está aqui, ele desaparecerá instantaneamente e será substituído por algo ainda mais estranho e inexplicável. Existe uma segunda teoria que diz que isso já aconteceu.\"\n",
    "\n",
    "\n",
    "__Dicas:__  \n",
    "não se preocupe em remover a pontuação do texto.  \n",
    "a função unidecode(frase) tranforma todos os caracteres da frase em caracteres não acentuados. (Atenção: para usá-la import o módulo da seguinte forma: _from unidecode import unidecode_)"
   ]
  },
  {
   "cell_type": "code",
   "execution_count": null,
   "metadata": {
    "deletable": false,
    "editable": false,
    "nbgrader": {
     "checksum": "a85ea6da1c7cd79af29c15eabb02a2c2",
     "grade": true,
     "grade_id": "cell2-import",
     "locked": true,
     "points": 0,
     "schema_version": 1,
     "solution": false
    }
   },
   "outputs": [],
   "source": []
  },
  {
   "cell_type": "code",
   "execution_count": 23,
   "metadata": {
    "deletable": false,
    "nbgrader": {
     "checksum": "678e4327998f6f68602c0d1f35620051",
     "grade": false,
     "grade_id": "cell2-a00",
     "locked": false,
     "schema_version": 1,
     "solution": true
    }
   },
   "outputs": [],
   "source": [
    "#Exemplo:\n",
    "sample_text = sample_text = \"Existe uma teoria que diz que, se um dia alguém descobrir exatamente para que \\\n",
    "serve o Universo e por que ele está aqui, ele desaparecerá instantaneamente e será substituído por algo ainda \\\n",
    "mais estranho e inexplicável. Existe uma segunda teoria que diz que isso já aconteceu.\"\n",
    "\n",
    "from unidecode import unidecode\n",
    "def text_cons(sentence):\n",
    "    vowels = ('a', 'e', 'i', 'o', 'u')\n",
    "    list1 = sentence.split()\n",
    "    \n",
    "    list2 = []\n",
    "    for word in list1:\n",
    "        if unidecode(word) != word:\n",
    "            list2.append(word)\n",
    "    \n",
    "    list3 = []\n",
    "    for word in list2:\n",
    "        list4 = list(word)\n",
    "        for letter in list4:\n",
    "            if letter in vowels:\n",
    "                list4.remove(letter)\n",
    "        list3.append(''.join(list4))\n",
    "    \n",
    "    result = sorted(list3)\n",
    "    return result"
   ]
  },
  {
   "cell_type": "code",
   "execution_count": 24,
   "metadata": {
    "deletable": false,
    "editable": false,
    "nbgrader": {
     "checksum": "05f368c33f2b9a3d96513aa7ac1d07c0",
     "grade": true,
     "grade_id": "cell2t1-a00",
     "locked": true,
     "points": 1,
     "schema_version": 1,
     "solution": false
    }
   },
   "outputs": [],
   "source": [
    "from nose.tools import assert_equal\n",
    "\"\"\"Check that text_cons returns the correct output for several inputs\"\"\"\n",
    "\n",
    "sample_text = \"Existe uma teoria que diz que, se um dia alguém descobrir exatamente para que \\\n",
    "serve o Universo e por que ele está aqui, ele desaparecerá instantaneamente e será substituído por algo ainda \\\n",
    "mais estranho e inexplicável. Existe uma segunda teoria que diz que isso já aconteceu.\"\n",
    "\n",
    "assert_equal(text_cons(sample_text), ['dsprcrá', 'já', 'lgém', 'nxplcávl.', 'sbsttíd', 'srá', 'stá'])"
   ]
  },
  {
   "cell_type": "code",
   "execution_count": null,
   "metadata": {
    "deletable": false,
    "editable": false,
    "nbgrader": {
     "checksum": "e442d470d44ac2197891cfae0bebb0e8",
     "grade": true,
     "grade_id": "cell2t2-a00",
     "locked": true,
     "points": 1,
     "schema_version": 1,
     "solution": false
    }
   },
   "outputs": [],
   "source": []
  }
 ],
 "metadata": {
  "kernelspec": {
   "display_name": "Python 3",
   "language": "python",
   "name": "python3"
  },
  "language_info": {
   "codemirror_mode": {
    "name": "ipython",
    "version": 3
   },
   "file_extension": ".py",
   "mimetype": "text/x-python",
   "name": "python",
   "nbconvert_exporter": "python",
   "pygments_lexer": "ipython3",
   "version": "3.6.5"
  }
 },
 "nbformat": 4,
 "nbformat_minor": 2
}
