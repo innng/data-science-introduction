{
 "cells": [
  {
   "cell_type": "markdown",
   "metadata": {
    "deletable": false,
    "editable": false,
    "nbgrader": {
     "checksum": "f1796c012907828484a2c147eb847ac8",
     "grade": false,
     "grade_id": "cellc-a00",
     "locked": true,
     "schema_version": 1,
     "solution": false
    }
   },
   "source": [
    "# Aula 03 - Álgebra Linear"
   ]
  },
  {
   "cell_type": "markdown",
   "metadata": {
    "deletable": false,
    "editable": false,
    "nbgrader": {
     "checksum": "79e8b1fe604f0ab1c6cc17af1bb5434b",
     "grade": false,
     "grade_id": "cell1c-a00",
     "locked": true,
     "schema_version": 1,
     "solution": false
    }
   },
   "source": [
    "# Exercício 01:\n",
    "\n",
    "Crie uma matriz `n x m` com valores aleatórios entre 0 e 1. Use uma semente global (_seed_) igual a 10.\n",
    "\n"
   ]
  },
  {
   "cell_type": "code",
   "execution_count": 8,
   "metadata": {
    "deletable": false,
    "nbgrader": {
     "checksum": "f44c870298162cfd6293661d312cc9e9",
     "grade": true,
     "grade_id": "cell1-a00",
     "locked": false,
     "points": 1,
     "schema_version": 1,
     "solution": true
    }
   },
   "outputs": [
    {
     "name": "stdout",
     "output_type": "stream",
     "text": [
      "[[0.5714025946899135, 0.4288890546751146, 0.5780913011344704, 0.20609823213950174, 0.81332125135732], [0.8235888725334455, 0.6534725339011758, 0.16022955651881965, 0.5206693596399246, 0.32777281162209315], [0.24999667668640035, 0.9528169091459117, 0.9965569925394552, 0.04455638245043303, 0.860161037286291], [0.603190610968185, 0.3816059859191179, 0.28361821790671515, 0.674964847134956, 0.45683115105830563], [0.6858614854745947, 0.6618463200523511, 0.1329781447122128, 0.7678378139439905, 0.9824132490111909], [0.9693881604049188, 0.613326820546709, 0.0442606328646209, 0.004055144158407464, 0.13397252704913387], [0.941002271395834, 0.3028605620290723, 0.3661456016604264, 0.8981962445391883, 0.31436380495645067], [0.5489821840124055, 0.43603095762412225, 0.06499417612685054, 0.5845462257019302, 0.8440678976619022], [0.1564189183874064, 0.2242989686860415, 0.41287020771484073, 0.03692486905862902, 0.4966034986165482], [0.8179828644296319, 0.6578909387591091, 0.5334837356527721, 0.8551257407736, 0.14968813497140154]]\n"
     ]
    }
   ],
   "source": [
    "from random import uniform\n",
    "from random import seed\n",
    "\n",
    "#Exemplo:\n",
    "n = 10\n",
    "m = 5\n",
    "\n",
    "# YOUR CODE HERE\n",
    "seed(10)\n",
    "\n",
    "def make_matrix(row, col):\n",
    "    matrix = [[uniform(0,1) for j in range(col)] for i in range(row)]\n",
    "    return matrix\n",
    "    \n",
    "print(make_matrix(n,m))\n"
   ]
  },
  {
   "cell_type": "markdown",
   "metadata": {
    "deletable": false,
    "editable": false,
    "nbgrader": {
     "checksum": "9ba50f4bdf8f399aafe152823b60a499",
     "grade": false,
     "grade_id": "cell2c-a00",
     "locked": true,
     "schema_version": 1,
     "solution": false
    }
   },
   "source": [
    "# Exercício 02:\n",
    "\n",
    "Considere que matrizes `n x m` são listas contendo `n` vetores de tamanho `m`. Mostre visualmente a diferença entre a funções de distância Euclidiana e de cosseno. Para isso, use a matriz criada no exercício anterior e calcule a distância entre todos os pares de vetores $u$ e $v$ ($u \\neq $v) dessa matriz. Para visualizar as diferenças, plote o gráfico de dispersão das distâncias, ou seja, no eixo `x` teremos a distância Euclidiana e no eixo `y` a distância de cosseno para cada par de vetores $u$ e $v$."
   ]
  },
  {
   "cell_type": "code",
   "execution_count": 9,
   "metadata": {
    "deletable": false,
    "nbgrader": {
     "checksum": "9e0fdc6e6f2d0a71b0f20794bc06e184",
     "grade": true,
     "grade_id": "cell2-a00",
     "locked": false,
     "points": 1,
     "schema_version": 1,
     "solution": true
    }
   },
   "outputs": [
    {
     "data": {
      "image/png": "[encoded data removed]",
      "text/plain": [
       "<Figure size 432x288 with 1 Axes>"
      ]
     },
     "metadata": {},
     "output_type": "display_data"
    }
   ],
   "source": [
    "import matplotlib.pyplot as plt\n",
    "import math\n",
    "\n",
    "#Exemplo:\n",
    "n = 10\n",
    "m = 10\n",
    "\n",
    "# YOUR CODE HERE\n",
    "def dot(v, w):\n",
    "    return sum(v_i * w_i\n",
    "        for v_i, w_i in zip(v, w))\n",
    "\n",
    "def sum_of_squares(v):\n",
    "    return dot(v, v)\n",
    "\n",
    "def vector_subtract(v, w):\n",
    "    return [v_i - w_i\n",
    "        for v_i, w_i in zip(v, w)]\n",
    "\n",
    "def squared_distance(v, w):\n",
    "    return sum_of_squares(vector_subtract(v, w))\n",
    "\n",
    "\n",
    "# distância euclidiana\n",
    "def distance(v, w):\n",
    "    return math.sqrt(squared_distance(v, w))\n",
    "\n",
    "\n",
    "# distância de cossenos\n",
    "def cosine_similarity(v, w):\n",
    "    return dot(v, w) / math.sqrt(dot(v, v) * dot(w, w))\n",
    "\n",
    "def cosine_distance(v, w):\n",
    "    return 1 - cosine_similarity(v,w)\n",
    "\n",
    "# gráfico \n",
    "euclidiana = []\n",
    "cosseno = []\n",
    "\n",
    "matrix = make_matrix(n, m)\n",
    "\n",
    "for row1 in matrix:\n",
    "    for row2 in matrix:\n",
    "        if row1 != row2:\n",
    "            euclidiana.append(distance(row1, row2))\n",
    "            cosseno.append(cosine_distance(row1, row2))\n",
    "\n",
    "plt.scatter(euclidiana, cosseno)\n",
    "plt.title('Distâncias Euclidiana e de Cossenos')\n",
    "plt.xlabel('Distância Euclidiana')\n",
    "plt.ylabel('Distância de Cossenos')\n",
    "\n",
    "plt.show()"
   ]
  },
  {
   "cell_type": "code",
   "execution_count": null,
   "metadata": {},
   "outputs": [],
   "source": []
  }
 ],
 "metadata": {
  "kernelspec": {
   "display_name": "Python 3",
   "language": "python",
   "name": "python3"
  },
  "language_info": {
   "codemirror_mode": {
    "name": "ipython",
    "version": 3
   },
   "file_extension": ".py",
   "mimetype": "text/x-python",
   "name": "python",
   "nbconvert_exporter": "python",
   "pygments_lexer": "ipython3",
   "version": "3.6.5"
  }
 },
 "nbformat": 4,
 "nbformat_minor": 2
}
