{
 "cells": [
  {
   "cell_type": "markdown",
   "metadata": {
    "deletable": false,
    "editable": false,
    "nbgrader": {
     "checksum": "fbbe004c6d8d1bc6823f45ee807b6633",
     "grade": false,
     "grade_id": "cellc-a00",
     "locked": true,
     "schema_version": 1,
     "solution": false
    }
   },
   "source": [
    "# Aula 10 - Aprendizado de Máquina"
   ]
  },
  {
   "cell_type": "markdown",
   "metadata": {
    "deletable": false,
    "editable": false,
    "nbgrader": {
     "checksum": "6e9217ab115653ebd893fe41f87c9e76",
     "grade": false,
     "grade_id": "cell1c1-a00",
     "locked": true,
     "schema_version": 1,
     "solution": false
    }
   },
   "source": [
    "# Exercício 01:\n",
    "\n",
    "Na aula 10 vimos o `PosModel`, um modelo simples para prever em qual posição uma pessoa jogaria na NBA dado o seu peso e altura. Os exercícios abaixo referem-se a esse modelo.\n"
   ]
  },
  {
   "cell_type": "code",
   "execution_count": 23,
   "metadata": {
    "deletable": false,
    "editable": false,
    "nbgrader": {
     "checksum": "bd538d92f32d035ee5d901f70c5fb986",
     "grade": false,
     "grade_id": "cell1c1code-a00",
     "locked": true,
     "schema_version": 1,
     "solution": false
    }
   },
   "outputs": [],
   "source": [
    "class PosModel:\n",
    "\n",
    "    def __init__(self):\n",
    "        self.tG = 0\n",
    "        self.tC = 0\n",
    "        self.n_train = 0\n",
    "        self.hits_train = 0\n",
    "        self.n_test = 0\n",
    "        self.hits_test = 0\n",
    "        \n",
    "    def getSize(self, features):\n",
    "        return features[0]*features[1]\n",
    "    \n",
    "    def getMinSize(self, x):\n",
    "        return min([self.getSize(xi) for xi in x])\n",
    "    \n",
    "    def getMaxSize(self, x):\n",
    "        return max([self.getSize(xi) for xi in x])    \n",
    "\n",
    "    def getNumberOfHits(self, tG, tC, x, y):\n",
    "        hits = 0\n",
    "        n = len(y)\n",
    "        for i in np.arange(n):\n",
    "            pos = 'F'\n",
    "            size = self.getSize(x[i])\n",
    "            if size < tG:\n",
    "                pos = 'G'\n",
    "            elif size > tC:\n",
    "                pos = 'C'\n",
    "            if(pos == y[i]):\n",
    "                hits = hits + 1\n",
    "        return hits\n",
    "\n",
    "    def train(self, x_train, y_train):\n",
    "        self.n_train = len(y_train)\n",
    "        minvalue = self.getMinSize(x_train)\n",
    "        maxvalue = self.getMaxSize(x_train)\n",
    "        #grid search   \n",
    "        #for tg in np.arange(60*150,90*300,100):\n",
    "        for tG in np.linspace(minvalue, maxvalue, 100):\n",
    "            for tC in np.linspace(tG,maxvalue,100):\n",
    "                hits = self.getNumberOfHits(tG, tC, x_train, y_train)\n",
    "                if hits > self.hits_train:\n",
    "                    self.hits_train = hits\n",
    "                    self.tG = tG\n",
    "                    self.tC = tC\n",
    "                    \n",
    "    def test(self, x_test, y_test): \n",
    "        self.n_test = len(y_test)\n",
    "        self.hits_test = self.getNumberOfHits(self.tG, self.tC, x_test, y_test)\n",
    "        return self.hits_test/self.n_test"
   ]
  },
  {
   "cell_type": "markdown",
   "metadata": {
    "deletable": false,
    "editable": false,
    "nbgrader": {
     "checksum": "311d1753c54a8b571a94f263cbd06f7c",
     "grade": false,
     "grade_id": "cell1c2-a00",
     "locked": true,
     "schema_version": 1,
     "solution": false
    }
   },
   "source": [
    "__a)__ O modelo foi avaliado usando a acurácia simples. Modifique-o para que ele também possa exibir resultados referentes a:\n",
    "\n",
    "- Matriz de confusão;\n",
    "- Precisão;\n",
    "- Revocação;\n",
    "- F1 *score*;\n",
    "    "
   ]
  },
  {
   "cell_type": "code",
   "execution_count": 24,
   "metadata": {
    "deletable": false,
    "nbgrader": {
     "checksum": "d5b17dfe5dbb5f5f796319a5a5ae73ec",
     "grade": true,
     "grade_id": "cell11-a00",
     "locked": false,
     "points": 4,
     "schema_version": 1,
     "solution": true
    }
   },
   "outputs": [
    {
     "name": "stdout",
     "output_type": "stream",
     "text": [
      "acurácia no conjunto de treino: 0.7988505747126436\n",
      "acurácia no conjunto de teste: 0.802547770700637\n",
      "matriz de confusão: \n",
      " [[175  27   0]\n",
      " [ 19 190   2]\n",
      " [  0  53  39]]\n",
      "precisão: [0.8663366336633663, 0.9004739336492891, 0.42391304347826086]\n",
      "revocação: [0.9020618556701031, 0.7037037037037037, 0.9512195121951219]\n",
      "f1 score: [0.8838383838383839, 0.7900207900207901, 0.5864661654135338]\n"
     ]
    }
   ],
   "source": [
    "# YOUR CODE HERE\n",
    "from sklearn.metrics import confusion_matrix\n",
    "import pandas as pd\n",
    "import numpy as np\n",
    "import random\n",
    "\n",
    "class PosModel:\n",
    "\n",
    "    def __init__(self):\n",
    "        self.tG = 0\n",
    "        self.tC = 0\n",
    "        self.n_train = 0\n",
    "        self.hits_train = 0\n",
    "        self.n_test = 0\n",
    "        self.hits_test = 0\n",
    "        \n",
    "    def getSize(self, features):\n",
    "        return features[0]*features[1]\n",
    "    \n",
    "    def getMinSize(self, x):\n",
    "        return min([self.getSize(xi) for xi in x])\n",
    "    \n",
    "    def getMaxSize(self, x):\n",
    "        return max([self.getSize(xi) for xi in x])    \n",
    "\n",
    "    def getNumberOfHits(self, tG, tC, x, y):\n",
    "        hits = 0\n",
    "        n = len(y)\n",
    "        for i in np.arange(n):\n",
    "            pos = 'F'\n",
    "            size = self.getSize(x[i])\n",
    "            if size < tG:\n",
    "                pos = 'G'\n",
    "            elif size > tC:\n",
    "                pos = 'C'\n",
    "            if(pos == y[i]):\n",
    "                hits = hits + 1\n",
    "        return hits\n",
    "\n",
    "    def train(self, x_train, y_train):\n",
    "        self.n_train = len(y_train)\n",
    "        minvalue = self.getMinSize(x_train)\n",
    "        maxvalue = self.getMaxSize(x_train)\n",
    "        #grid search   \n",
    "        #for tg in np.arange(60*150,90*300,100):\n",
    "        for tG in np.linspace(minvalue, maxvalue, 100):\n",
    "            for tC in np.linspace(tG,maxvalue,100):\n",
    "                hits = self.getNumberOfHits(tG, tC, x_train, y_train)\n",
    "                if hits > self.hits_train:\n",
    "                    self.hits_train = hits\n",
    "                    self.tG = tG\n",
    "                    self.tC = tC\n",
    "                    \n",
    "    def test(self, x_test, y_test): \n",
    "        self.n_test = len(y_test)\n",
    "        self.hits_test = self.getNumberOfHits(self.tG, self.tC, x_test, y_test)\n",
    "        return self.hits_test/self.n_test\n",
    "    \n",
    "    def predict(self, x):\n",
    "        pred = []\n",
    "        for i in x:\n",
    "            pos = 'F'\n",
    "            size = self.getSize(i)\n",
    "            if size < self.tG:\n",
    "                pos = 'G'\n",
    "            elif size > self.tC:\n",
    "                pos = 'C'\n",
    "            pred.append(pos)\n",
    "        return pred\n",
    "    \n",
    "    def confusionMatrix(self, y_test, y_pred): \n",
    "        return confusion_matrix(y_test, y_pred, labels=['G', 'F', 'C'])\n",
    "        \n",
    "    def precision(self, y_test, y_pred):\n",
    "        matrix = self.confusionMatrix(y_test, y_pred)\n",
    "        prec_classes = []\n",
    "        for i in range(matrix.shape[0]):\n",
    "            prec_classes.append(matrix[i][i] / sum(matrix[i]))\n",
    "        \n",
    "        return prec_classes\n",
    "\n",
    "    def recall(self, y_test, y_pred):\n",
    "        matrix = self.confusionMatrix(y_test, y_pred)\n",
    "        rec_classes = []\n",
    "        for i in range(matrix.shape[1]):\n",
    "            rec_classes.append(matrix[i][i]/sum([matrix[j][i] for j in range(matrix.shape[0])]))\n",
    "        return rec_classes\n",
    "    \n",
    "    def f1_score(self, y_test, y_pred):\n",
    "        p = self.precision(y_test, y_pred)\n",
    "        r = self.recall(y_test, y_pred)\n",
    "        return [(2*x*y)/(x+y) for x, y in zip(p, r)]\n",
    "    \n",
    "def split_data(data, prob):\n",
    "    \"\"\"split data into fractions [prob, 1 - prob]\"\"\"\n",
    "    results = [], []\n",
    "    for row in data:\n",
    "        results[0 if random.random() < prob else 1].append(row)\n",
    "    return results\n",
    "\n",
    "def train_test_split(x, y, test_pct):\n",
    "    data = zip(x, y)                              # pair corresponding values  \n",
    "    train, test = split_data(data, 1 - test_pct)  # split the dataset of pairs\n",
    "    x_train, y_train = zip(*train)                # magical un-zip trick\n",
    "    x_test, y_test = zip(*test)\n",
    "    return x_train, x_test, y_train, y_test\n",
    "\n",
    "df = pd.read_csv(\"nba_ht_wt.csv\")\n",
    "data = df.values\n",
    "ys = data[:,1]        #posicoes\n",
    "xs = data[:,2:4]      #altura e peso\n",
    "x_train, x_test, y_train, y_test = train_test_split(xs, ys, 0.33)\n",
    "    \n",
    "model = PosModel()\n",
    "model.train(x_train, y_train)\n",
    "print(\"acurácia no conjunto de treino:\", model.hits_train/model.n_train)\n",
    "print(\"acurácia no conjunto de teste:\", model.test(x_test, y_test))\n",
    "\n",
    "pred = model.predict(xs)\n",
    "\n",
    "print('matriz de confusão: \\n', model.confusionMatrix(ys, pred))\n",
    "print('precisão:', model.precision(ys, pred))\n",
    "print('revocação:', model.recall(ys, pred))\n",
    "print('f1 score:', model.f1_score(ys, pred))"
   ]
  },
  {
   "cell_type": "markdown",
   "metadata": {
    "deletable": false,
    "editable": false,
    "nbgrader": {
     "checksum": "9068a8d6e14ba77f6871b84433e5eed1",
     "grade": false,
     "grade_id": "cell1c3-a00",
     "locked": true,
     "schema_version": 1,
     "solution": false
    }
   },
   "source": [
    "__b)__ (**opcional**) Talvez você tenha pensado em uma maneira melhor de prever as posições dos jogadores a partir da sua altura e peso. Caso isso seja verdade, crie o seu próprio modelo e o compare com o `PosModel`.\n",
    "\n"
   ]
  },
  {
   "cell_type": "code",
   "execution_count": 17,
   "metadata": {
    "deletable": false,
    "nbgrader": {
     "checksum": "d2fe3f273d262ea4fdc26fb213497f83",
     "grade": true,
     "grade_id": "cell12-a00",
     "locked": false,
     "points": 0,
     "schema_version": 1,
     "solution": true
    }
   },
   "outputs": [
    {
     "ename": "NotImplementedError",
     "evalue": "",
     "output_type": "error",
     "traceback": [
      "\u001b[0;31m---------------------------------------------------------------------------\u001b[0m",
      "\u001b[0;31mNotImplementedError\u001b[0m                       Traceback (most recent call last)",
      "\u001b[0;32m<ipython-input-17-15b94d1fa268>\u001b[0m in \u001b[0;36m<module>\u001b[0;34m()\u001b[0m\n\u001b[1;32m      1\u001b[0m \u001b[0;31m# YOUR CODE HERE\u001b[0m\u001b[0;34m\u001b[0m\u001b[0;34m\u001b[0m\u001b[0m\n\u001b[0;32m----> 2\u001b[0;31m \u001b[0;32mraise\u001b[0m \u001b[0mNotImplementedError\u001b[0m\u001b[0;34m(\u001b[0m\u001b[0;34m)\u001b[0m\u001b[0;34m\u001b[0m\u001b[0m\n\u001b[0m",
      "\u001b[0;31mNotImplementedError\u001b[0m: "
     ]
    }
   ],
   "source": [
    "# YOUR CODE HERE\n",
    "raise NotImplementedError()\n"
   ]
  },
  {
   "cell_type": "markdown",
   "metadata": {
    "deletable": false,
    "editable": false,
    "nbgrader": {
     "checksum": "e9637b4c27c5923916ea05239ff7b928",
     "grade": false,
     "grade_id": "cell1c4-a00",
     "locked": true,
     "schema_version": 1,
     "solution": false
    }
   },
   "source": [
    "__c)__ Considerando que o seu modelo é preciso o suficiente, aplique-o sobre outros conjuntos de dados para descobrir em quais posições as pessoas jogariam na NBA, ou seja, dado um conjunto de pessoas, com as suas respectivas alturas e pesos, quantos seriam armadores, alas e pivôs? Responda a essa pergunta para os seguintes conjuntos de dados:\n",
    "\n",
    "- [Jogadores de hockey da NHL](https://www.dropbox.com/s/mbqrji2376qz6v8/nhl_ht_wt.csv?dl=0);\n",
    "- [Jogadores de futebol da Premier League (liga inglesa)](https://www.dropbox.com/s/i5ysl5lhqlgsxv7/epl_2015_ht_wt.csv?dl=0);\n",
    "- [Pessoas do conjunto de dados `Davis`](https://www.dropbox.com/s/xtexorbiu23wxlo/Davis.csv?dl=0).\n",
    "\n"
   ]
  },
  {
   "cell_type": "code",
   "execution_count": 25,
   "metadata": {
    "deletable": false,
    "nbgrader": {
     "checksum": "6b9b83954fec1a0f2cab717e4cd716e9",
     "grade": true,
     "grade_id": "cell13-a00",
     "locked": false,
     "points": 0,
     "schema_version": 1,
     "solution": true
    }
   },
   "outputs": [
    {
     "name": "stdout",
     "output_type": "stream",
     "text": [
      "NHL: G: 628 F: 89 C: 0 \n",
      "\n",
      "Premier League: G: 523 F: 3 C: 0 \n",
      "\n",
      "Davis: G: 190 F: 9 C: 1\n"
     ]
    }
   ],
   "source": [
    "# YOUR CODE HERE\n",
    "import collections\n",
    "import pandas as pd\n",
    "import numpy as np\n",
    "import random\n",
    "\n",
    "df = pd.read_csv(\"nhl_ht_wt.csv\")\n",
    "data = df.values\n",
    "xs = data[:,3:5]      \n",
    "predict = model.predict(xs)\n",
    "count = collections.Counter(predict)\n",
    "print('NHL:', 'G:', count['G'], 'F:', count['F'], 'C:', count['C'], '\\n')\n",
    "\n",
    "df = pd.read_csv(\"epl_2015_ht_wt.csv\")\n",
    "data = df.values\n",
    "xs = data[:,5:7]      \n",
    "predict = model.predict(xs)\n",
    "count = collections.Counter(predict)\n",
    "print('Premier League:', 'G:', count['G'], 'F:', count['F'], 'C:', count['C'], '\\n')\n",
    "\n",
    "df = pd.read_csv(\"Davis.csv\")\n",
    "data = df.values\n",
    "xs = data[:,2:4]      \n",
    "predict = model.predict(xs)\n",
    "count = collections.Counter(predict)\n",
    "print('Davis:', 'G:', count['G'], 'F:', count['F'], 'C:', count['C'])"
   ]
  },
  {
   "cell_type": "code",
   "execution_count": null,
   "metadata": {},
   "outputs": [],
   "source": []
  }
 ],
 "metadata": {
  "kernelspec": {
   "display_name": "Python 3",
   "language": "python",
   "name": "python3"
  },
  "language_info": {
   "codemirror_mode": {
    "name": "ipython",
    "version": 3
   },
   "file_extension": ".py",
   "mimetype": "text/x-python",
   "name": "python",
   "nbconvert_exporter": "python",
   "pygments_lexer": "ipython3",
   "version": "3.6.5"
  }
 },
 "nbformat": 4,
 "nbformat_minor": 2
}
