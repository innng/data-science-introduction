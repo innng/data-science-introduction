{
 "cells": [
  {
   "cell_type": "markdown",
   "metadata": {
    "deletable": false,
    "editable": false,
    "nbgrader": {
     "checksum": "abdb95a35e16a15616fa8ed06a10548f",
     "grade": false,
     "grade_id": "cellc-a00",
     "locked": true,
     "schema_version": 1,
     "solution": false
    }
   },
   "source": [
    "# Aula 08 - Obtendo dados"
   ]
  },
  {
   "cell_type": "markdown",
   "metadata": {
    "deletable": false,
    "editable": false,
    "nbgrader": {
     "checksum": "cea5d96312184790748b06f4680bd2d9",
     "grade": false,
     "grade_id": "cell1c-a00",
     "locked": true,
     "schema_version": 1,
     "solution": false
    }
   },
   "source": [
    "# Exercício 01:\n",
    "\n",
    "Crie um script para coletar dados históricos de uma coleção de ações. O arquivo `prices.csv` que você manipulou contém informações sobre o estado de muitas ações em um único dia. Neste exercício, você deve criar um arquivo de nome `historical_prices.csv` contendo informações históricas sobre pelo menos `20` ações durante pelo menos `30` dias. Para tornar a coleta interessante, escolha ações de empresas de tecnologia (ex: AAPL, GOOG, NFLX) e colete dados recentes, por exemplo, dos últimos `30` dias. Para cada ação, colete pelo menos o preço de abertura, o preço de fechamento, o preço mais alto e o preço mais baixo.\n",
    "\n",
    " Você pode realizar a coleta do jeito que preferir, ou seja, pode raspar páginas HTML, pode fazer um código que baixa diversos arquivos e depois os junta e pode também usar APIs prontas, com [esta](https://www.learndatasci.com/tutorials/python-finance-part-yahoo-finance-api-pandas-matplotlib/) e [esta](https://chrisconlan.com/download-historical-stock-data-google-r-python/). O [Quora](https://www.quora.com/Using-Python-whats-the-best-way-to-get-stock-data) também está aqui para nos ajudar.\n"
   ]
  },
  {
   "cell_type": "code",
   "execution_count": 33,
   "metadata": {
    "deletable": false,
    "nbgrader": {
     "checksum": "ba4949b957469f59aeba4021627f2a9b",
     "grade": true,
     "grade_id": "cell1-a00",
     "locked": false,
     "points": 1,
     "schema_version": 1,
     "solution": true
    }
   },
   "outputs": [
    {
     "name": "stdout",
     "output_type": "stream",
     "text": [
      "[*********************100%***********************]  1 of 1 downloaded\n",
      "[*********************100%***********************]  1 of 1 downloaded\n",
      "[*********************100%***********************]  1 of 1 downloaded\n",
      "[*********************100%***********************]  1 of 1 downloaded\n",
      "[*********************100%***********************]  1 of 1 downloaded\n",
      "[*********************100%***********************]  1 of 1 downloaded\n",
      "[*********************100%***********************]  1 of 1 downloaded\n",
      "[*********************100%***********************]  1 of 1 downloaded\n",
      "[*********************100%***********************]  1 of 1 downloaded\n",
      "[*********************100%***********************]  1 of 1 downloaded\n",
      "[*********************100%***********************]  1 of 1 downloaded\n",
      "[*********************100%***********************]  1 of 1 downloaded\n",
      "[*********************100%***********************]  1 of 1 downloaded\n",
      "[*********************100%***********************]  1 of 1 downloaded\n",
      "[*********************100%***********************]  1 of 1 downloaded\n",
      "[*********************100%***********************]  1 of 1 downloaded\n",
      "[*********************100%***********************]  1 of 1 downloaded\n",
      "[*********************100%***********************]  1 of 1 downloaded\n",
      "[*********************100%***********************]  1 of 1 downloaded\n",
      "[*********************100%***********************]  1 of 1 downloaded\n"
     ]
    }
   ],
   "source": [
    "# YOUR CODE HERE\n",
    "from pandas_datareader import data as pdr\n",
    "import fix_yahoo_finance as yf\n",
    "\n",
    "yf.pdr_override()\n",
    "\n",
    "comp = ['AAPL', 'MSFT', 'GOOGL', 'GOOG', 'FB', 'TSM', 'INTC', 'CSCO', 'ORCL', 'INFY', 'NVDA', 'SAP', 'IBM', 'ADBE', 'CRM', \n",
    "        'QCOM', 'TXN', 'AVGO', 'ADP', 'ATVI']\n",
    "\n",
    "# col = ['symbol', 'date', 'opening_price', 'closing_price', 'high_price', 'low_price']\n",
    "\n",
    "with open('data/historical_prices.csv', 'w') as fp:\n",
    "    fp.write('symbol, ' + 'date, ' + 'opening_price, ' + 'closing_price, ' + 'high_price, ' + 'low_price' + '\\n')\n",
    "    for c in comp:\n",
    "        data = pdr.get_data_yahoo(c, start=\"2018-09-03\", end=\"2018-10-03\")\n",
    "        for index, row in data.iterrows():\n",
    "            fp.write(c + ', ' + str(row[\"Open\"]) +  ', ' + str(row[\"Close\"]) + ', ' + str(row[\"High\"]) + ', ' \n",
    "                    + str(row[\"Low\"]) + '\\n')\n",
    "        "
   ]
  },
  {
   "cell_type": "markdown",
   "metadata": {
    "deletable": false,
    "editable": false,
    "nbgrader": {
     "checksum": "3aa18534cfcb2f1a606b54b384076773",
     "grade": false,
     "grade_id": "cell2c-a00",
     "locked": true,
     "schema_version": 1,
     "solution": false
    }
   },
   "source": [
    "# Exercício 02:\n",
    "\n",
    "Crie um script para fazer o download de 1000 tweets de uma dada conta do Twitter da sua preferência. Além de coletar os tweets, você deve gerar um documento contendo apenas o texto dos tweets, sem URLs, mentions, RTs etc."
   ]
  },
  {
   "cell_type": "code",
   "execution_count": 29,
   "metadata": {
    "deletable": false,
    "nbgrader": {
     "checksum": "f0229a994a7af1659976852a311103e5",
     "grade": true,
     "grade_id": "cell2-a00",
     "locked": false,
     "points": 1,
     "schema_version": 1,
     "solution": true
    }
   },
   "outputs": [
    {
     "ename": "IndexError",
     "evalue": "list index out of range",
     "output_type": "error",
     "traceback": [
      "\u001b[0;31m---------------------------------------------------------------------------\u001b[0m",
      "\u001b[0;31mIndexError\u001b[0m                                Traceback (most recent call last)",
      "\u001b[0;32m<ipython-input-29-5da9a4027542>\u001b[0m in \u001b[0;36m<module>\u001b[0;34m()\u001b[0m\n\u001b[1;32m     13\u001b[0m \u001b[0;32mwhile\u001b[0m \u001b[0mlen\u001b[0m\u001b[0;34m(\u001b[0m\u001b[0muser_timeline\u001b[0m\u001b[0;34m)\u001b[0m \u001b[0;34m<\u001b[0m \u001b[0;36m1000\u001b[0m\u001b[0;34m:\u001b[0m\u001b[0;34m\u001b[0m\u001b[0m\n\u001b[1;32m     14\u001b[0m     \u001b[0;32mtry\u001b[0m\u001b[0;34m:\u001b[0m\u001b[0;34m\u001b[0m\u001b[0m\n\u001b[0;32m---> 15\u001b[0;31m         \u001b[0muser_timeline\u001b[0m \u001b[0;34m=\u001b[0m \u001b[0mtwitter\u001b[0m\u001b[0;34m.\u001b[0m\u001b[0mget_user_timeline\u001b[0m\u001b[0;34m(\u001b[0m\u001b[0mscreen_name\u001b[0m\u001b[0;34m=\u001b[0m\u001b[0;34m'cirogomes'\u001b[0m\u001b[0;34m,\u001b[0m \u001b[0mcount\u001b[0m\u001b[0;34m=\u001b[0m\u001b[0;36m200\u001b[0m\u001b[0;34m,\u001b[0m \u001b[0mmax_id\u001b[0m\u001b[0;34m=\u001b[0m\u001b[0muser_timeline\u001b[0m\u001b[0;34m[\u001b[0m\u001b[0mlen\u001b[0m\u001b[0;34m(\u001b[0m\u001b[0muser_timeline\u001b[0m\u001b[0;34m)\u001b[0m\u001b[0;34m-\u001b[0m\u001b[0;36m1\u001b[0m\u001b[0;34m]\u001b[0m\u001b[0;34m[\u001b[0m\u001b[0;34m'id'\u001b[0m\u001b[0;34m]\u001b[0m\u001b[0;34m-\u001b[0m\u001b[0;36m1\u001b[0m\u001b[0;34m)\u001b[0m\u001b[0;34m\u001b[0m\u001b[0m\n\u001b[0m\u001b[1;32m     16\u001b[0m     \u001b[0;32mexcept\u001b[0m \u001b[0mTwythonError\u001b[0m \u001b[0;32mas\u001b[0m \u001b[0me\u001b[0m\u001b[0;34m:\u001b[0m\u001b[0;34m\u001b[0m\u001b[0m\n\u001b[1;32m     17\u001b[0m         \u001b[0mprint\u001b[0m\u001b[0;34m(\u001b[0m\u001b[0me\u001b[0m\u001b[0;34m)\u001b[0m\u001b[0;34m\u001b[0m\u001b[0m\n",
      "\u001b[0;31mIndexError\u001b[0m: list index out of range"
     ]
    }
   ],
   "source": [
    "# YOUR CODE HERE\n",
    "from twython import TwythonStreamer\n",
    "from twython import Twython, TwythonError\n",
    "import json\n",
    "\n",
    "with open('/run/media/ingrid/Arquivos/Arquivos/private/twitter_credentials.json') as json_file:  \n",
    "    twitter_keys = json.load(json_file)\n",
    "\n",
    "twitter = Twython(twitter_keys['CONSUMER_KEY'], twitter_keys['CONSUMER_SECRET'])\n",
    "\n",
    "tweets = []\n",
    "\n",
    "while len(user_timeline) < 1000: \n",
    "    try:\n",
    "        user_timeline = twitter.get_user_timeline(screen_name='cirogomes', count=200, max_id=user_timeline[len(user_timeline)-1]['id']-1)\n",
    "    except TwythonError as e:\n",
    "        print(e)\n",
    "\n",
    "    for tweet in user_timeline:\n",
    "        tweets.append(tweet['text'].encode('utf-8'))\n",
    "\n",
    "    print(len(tweets))\n",
    "\n",
    "with open('data/tweets.txt', 'w') as fp:\n",
    "    for text in tweets:\n",
    "        fp.write(text.decode('utf-8') + '\\n')"
   ]
  },
  {
   "cell_type": "code",
   "execution_count": null,
   "metadata": {},
   "outputs": [],
   "source": []
  }
 ],
 "metadata": {
  "kernelspec": {
   "display_name": "Python 3",
   "language": "python",
   "name": "python3"
  },
  "language_info": {
   "codemirror_mode": {
    "name": "ipython",
    "version": 3
   },
   "file_extension": ".py",
   "mimetype": "text/x-python",
   "name": "python",
   "nbconvert_exporter": "python",
   "pygments_lexer": "ipython3",
   "version": "3.6.5"
  }
 },
 "nbformat": 4,
 "nbformat_minor": 2
}
