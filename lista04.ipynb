{
 "cells": [
  {
   "cell_type": "markdown",
   "metadata": {
    "deletable": false,
    "editable": false,
    "nbgrader": {
     "checksum": "7a958586d494f06aefd235ddd81f8fec",
     "grade": false,
     "grade_id": "cellc-a00",
     "locked": true,
     "schema_version": 1,
     "solution": false
    }
   },
   "source": [
    "# Aula 04 - Estatística"
   ]
  },
  {
   "cell_type": "markdown",
   "metadata": {
    "deletable": false,
    "editable": false,
    "nbgrader": {
     "checksum": "f8de7934f3189d60a9d9f94906536dcd",
     "grade": false,
     "grade_id": "cell1c-a00",
     "locked": true,
     "schema_version": 1,
     "solution": false
    }
   },
   "source": [
    "# Exercício 01:\n",
    "\n",
    "\n",
    "Utilizando os dados de acidentes fatais em companhias aéreas dos Estados Unidos de 1985 a 1999, calcule algumas estatísticas básicas. Você deve retornar uma __lista__ com os valores das estatísticas calculadas, sendo elas, nessa ordem: menor valor, maior valor, média, mediana, dispersão, variância, desvio-padrão e intervalo-interquartil. Para responder à questão, crie uma função _estat(acidentes)_ que retorna a lista com os valores correspondentes às resposta da questão, inteiros quando forem inteiros ou com uma precisão de 4 casas decimais caso contrário.\n",
    "\n",
    "__Teste:__\n",
    "`assert_equal(estat(acidentes), ans)`, sendo que `ans` é uma lista contendo os valores corretos para as estatísticas que este exercício pede.\n",
    "\n",
    "__Dicas:__  \n",
    "1) A função round(var, n) retorna o valor da variável var com uma precisão de n casas decimais.\n",
    "\n",
    "2) Execute o teste `assert_equal(estat(lista_boba), ans_bobo)` para alguma `lista_boba` que você saiba calcular as estatísticas no papel.\n",
    "\n",
    "\n",
    "__Fonte:__ https://aviation-safety.net/"
   ]
  },
  {
   "cell_type": "code",
   "execution_count": 1,
   "metadata": {
    "deletable": false,
    "nbgrader": {
     "checksum": "880db9dff7038586993103b01f6edda6",
     "grade": false,
     "grade_id": "cell1-a00",
     "locked": false,
     "schema_version": 1,
     "solution": true
    }
   },
   "outputs": [],
   "source": [
    "# Crie aqui a função estat(acidentes) - com esse nome e parâmetro - \n",
    "# a função deve retornar a lista com as respostas com precisão de 4 casas decimais!\n",
    "\n",
    "acidentes = [0,14,0,1,0,4,1,0,0,2,1,5,0,3,0,0,6,1,1,12,3,1,5,0,3,0,0,1,1,0,1,5,2,1,1,3,4,0,3,0,2,2,1,0,1,1,1,3,0,4,3,8,7,3,0,1]\n",
    "teste = [1,2,3,4,5,6,7,8,9,10]\n",
    "\n",
    "# YOUR CODE HERE\n",
    "from nose.tools import assert_equal\n",
    "import numpy as np\n",
    "\n",
    "def estat(acidentes):\n",
    "    p = 4\n",
    "    menor_valor = min(acidentes)\n",
    "    maior_valor = max(acidentes)\n",
    "    media  = np.mean(acidentes)\n",
    "    mediana = np.median(acidentes)\n",
    "    dispersao = maior_valor - menor_valor\n",
    "    variancia  = np.var(acidentes)\n",
    "    desvio_padrao = np.std(acidentes)\n",
    "    intervalo_interquartil = np.subtract(sorted(acidentes)[int(0.75*len(acidentes))], sorted(acidentes)[int(0.25*len(acidentes))])\n",
    "    \n",
    "    lista = [menor_valor, maior_valor, media, mediana, dispersao, variancia, desvio_padrao, intervalo_interquartil]\n",
    "    estatistica = [round(x, p) for x in lista]\n",
    "    return estatistica\n",
    "\n",
    "assert_equal(estat(teste), [1, 10, 5.5000,5.5000, 9, 8.2500, 2.8723, 5])"
   ]
  },
  {
   "cell_type": "code",
   "execution_count": null,
   "metadata": {
    "deletable": false,
    "editable": false,
    "nbgrader": {
     "checksum": "752c9d5b0e9fbba86ba76e2731cebd7b",
     "grade": true,
     "grade_id": "cell1t-a00",
     "locked": true,
     "points": 1,
     "schema_version": 1,
     "solution": false
    }
   },
   "outputs": [],
   "source": []
  },
  {
   "cell_type": "markdown",
   "metadata": {
    "deletable": false,
    "editable": false,
    "nbgrader": {
     "checksum": "51e7add520d6aad5043c4b4807ff4e15",
     "grade": false,
     "grade_id": "cell2c-a00",
     "locked": true,
     "schema_version": 1,
     "solution": false
    }
   },
   "source": [
    "# Exercício 02:\n",
    "\n",
    "\n",
    "Procure encontrar correlações espúrias interessantes e apresente um exemplo encontrado. Ou seja, aprensente dois conjuntos de dados que possuem alta correlação (muito positivas ou muito negativas) sem que um seja de fato o causador do outro. Além disso, deixe resgistrado os gráficos com a distribuição dos dados e um gráfico de dispersão como forma de visualizar a correlação entre os dados. Calcule a covariância e correlação entre os dados e, por fim, se possível, tente explicar qual poderia ser a verdadeira causa da ocorrência das observações. Para isso, utilize a última célula desse notebook.\n",
    "\n",
    "\n",
    "__Observação:__  \n",
    "Para ideias de correlações espúrias, veja os seguintes sites:  \n",
    "http://tylervigen.com/spurious-correlations  \n",
    "https://en.wikipedia.org/wiki/Spurious_relationship#Other_relationships  \n"
   ]
  },
  {
   "cell_type": "code",
   "execution_count": null,
   "metadata": {
    "deletable": false,
    "nbgrader": {
     "checksum": "2ea4251fb4371802e6b08ae09e6c419b",
     "grade": true,
     "grade_id": "cell21-a00",
     "locked": false,
     "points": 2,
     "schema_version": 1,
     "solution": true
    }
   },
   "outputs": [],
   "source": [
    "# YOUR CODE HERE\n",
    "raise NotImplementedError()\n"
   ]
  },
  {
   "cell_type": "markdown",
   "metadata": {
    "deletable": false,
    "nbgrader": {
     "checksum": "98842621bcc7ef231dfd0e9a438bb8a3",
     "grade": true,
     "grade_id": "cell22-a00",
     "locked": false,
     "points": 1,
     "schema_version": 1,
     "solution": true
    }
   },
   "source": [
    "YOUR ANSWER HERE"
   ]
  },
  {
   "cell_type": "markdown",
   "metadata": {
    "deletable": false,
    "editable": false,
    "nbgrader": {
     "checksum": "53da93586c613a9e72d97795f737f460",
     "grade": false,
     "grade_id": "cell3c-a00",
     "locked": true,
     "schema_version": 1,
     "solution": false
    }
   },
   "source": [
    "# Exercício 03:\n",
    "\n",
    "O Paradoxo de Simpson também pode ser observado na taxa de sobrevivência do [naufrágio do RMS Titanic](https://en.wikipedia.org/wiki/RMS_Titanic). Havia uma estimativa de 2.224 passageiros e tripulantes a bordo, e mais de 1.500 morreram, tornando-se um dos mais mortais desastres marítimos comerciais em tempos de paz da história moderna. Dados sobre os passageiros podem ser baixados [aqui](https://ww2.amstat.org/publications/jse/v3n3/datasets.dawson.html). Este conjunto de dados foi processado por mim e transformado em um arquivo [csv](https://www.dropbox.com/s/vk8jf0wyczqxkvv/survival_titanic.csv?dl=0), que é muito mais fácil de tratar que um arquivo texto. Informações sobre ele podem ser lidas [aqui](https://www.dropbox.com/s/xpjw74khyqx9ww4/survival_titanic.README.txt?dl=0). \n",
    "\n",
    "Embora muitas outras informações existam sobre os passageiros, aqui vamos trabalhar com apenas quatro:\n",
    "\n",
    "1) Se o passageiro sobreviveu;  \n",
    "2) A classe do seu bilhete (primeira, segunda ou terceira) ou se ele era membro da tripulação;  \n",
    "3) O sexo do passageiro;  \n",
    "4) E se ele era um adulto ou uma criança.  \n",
    "\n",
    "Os dados estão organizados da seguinte maneira:\n",
    "\n",
    "|Coluna|Descrição|Valores|\n",
    "| :-: | :-: | :-: |\n",
    "|0|Classe| 0 = tripulação, 1 = primeira, 2 = segunda, 3 = terceira|\n",
    "|1|Idade|1 = adulto, 0 = criança|\n",
    "|2|Sexo|1 = masculino, 0 = feminino|\n",
    "|3|Sobreviveu?|1 = sim, 0 = não|\n",
    "\n",
    "\n",
    "O seguinte trecho de código carrega os dados que serão usados para responder as questões a seguir:\n"
   ]
  },
  {
   "cell_type": "code",
   "execution_count": 2,
   "metadata": {
    "deletable": false,
    "editable": false,
    "nbgrader": {
     "checksum": "ef6d12e0615d630764d33b9cdae39fb8",
     "grade": false,
     "grade_id": "cell3c2-a00",
     "locked": true,
     "schema_version": 1,
     "solution": false
    }
   },
   "outputs": [],
   "source": [
    "import pandas as pd\n",
    "df = pd.read_csv('survival_titanic.csv')\n",
    "X = df.values"
   ]
  },
  {
   "cell_type": "markdown",
   "metadata": {
    "deletable": false,
    "editable": false,
    "nbgrader": {
     "checksum": "ae5c1da17e56b8b8040d9f31330b411d",
     "grade": false,
     "grade_id": "cell3c3-a00",
     "locked": true,
     "schema_version": 1,
     "solution": false
    }
   },
   "source": [
    "__a)__ Verifique qual classe possui uma taxa de sobrevivência maior, para isso, implemente uma função _survivalRatePerClass(X, classe)_ com esse mesmo nome e parêmetros que, dado a tabela X e um número (0,1,2,3) representando a classe, retorna a proporção de pessoas daquela classe que sobreviveram com uma precisão de 5 casas decimais. \n",
    "\n",
    "__Dica:__  \n",
    "a função _round(var, n)_ retorna o valor da variável var com uma precisão de n casas decimais."
   ]
  },
  {
   "cell_type": "code",
   "execution_count": 8,
   "metadata": {
    "deletable": false,
    "nbgrader": {
     "checksum": "a41a09bfe7df49198b3f04c3751becdb",
     "grade": false,
     "grade_id": "cell31-a00",
     "locked": false,
     "schema_version": 1,
     "solution": true
    }
   },
   "outputs": [
    {
     "name": "stdout",
     "output_type": "stream",
     "text": [
      "0 0.23955\n",
      "1 0.62462\n",
      "2 0.41404\n",
      "3 0.25212\n"
     ]
    }
   ],
   "source": [
    "# YOUR CODE HERE\n",
    "\n",
    "def survivalRatePerClass(X, classe):\n",
    "    X_C = [p for p in X if p[0] == classe]\n",
    "    rate = sum(p[3] for p in X_C)/len(X_C)\n",
    "    return round(rate, 5)\n",
    "\n",
    "for i in range(0, 4):\n",
    "    print(i, survivalRatePerClass(X, i))"
   ]
  },
  {
   "cell_type": "code",
   "execution_count": 8,
   "metadata": {
    "deletable": false,
    "editable": false,
    "nbgrader": {
     "checksum": "5ecedb68ce5b5a931aae2d4c89090831",
     "grade": true,
     "grade_id": "cell3t1-a00",
     "locked": true,
     "points": 1,
     "schema_version": 1,
     "solution": false
    }
   },
   "outputs": [],
   "source": [
    "from nose.tools import assert_equal\n",
    "\n",
    "assert_equal(survivalRatePerClass(X, 0), 0.23955)"
   ]
  },
  {
   "cell_type": "code",
   "execution_count": null,
   "metadata": {
    "deletable": false,
    "editable": false,
    "nbgrader": {
     "checksum": "def56cf4686f3054601f712a6f319388",
     "grade": true,
     "grade_id": "cell3t2-a00",
     "locked": true,
     "points": 1,
     "schema_version": 1,
     "solution": false
    }
   },
   "outputs": [],
   "source": []
  },
  {
   "cell_type": "markdown",
   "metadata": {
    "deletable": false,
    "editable": false,
    "nbgrader": {
     "checksum": "cad08dab8aca4b6da5d82c6846c44967",
     "grade": false,
     "grade_id": "cell3c4-a00",
     "locked": true,
     "schema_version": 1,
     "solution": false
    }
   },
   "source": [
    "__b)__ Verifique qual classe possui uma taxa de sobrevivência maior de acordo com a idade e sexo dos passageiros. Para isso, implemente uma função _survivalRatePerClassAndColumn(X, classe, coluna)_ com esse mesmo nome e parêmetros que, dado a tabela X, um número (0,1,2,3) representando a classe e um número (1,2) representando respectivamente as colunas que representam a idade e o sexo dos passageiros, retorna a proporção de pessoas daquela classe que sobreviveram com uma precisão de 5 casas decimais. Nesse caso, retorne uma tupla do tipo (<proporção de sobreviventes crianças da classe>, <proporção de sobreviventes adultos da classe>) quando a coluna for a 1 e (<proporção de sobreviventes mulheres da classe>, <proporção de sobreviventes homens da classe>)  quando a coluna for a 2.\n",
    "\n",
    "__Dica:__  \n",
    "a função _round(var, n)_ retorna o valor da variável var com uma precisão de n casas decimais."
   ]
  },
  {
   "cell_type": "code",
   "execution_count": 9,
   "metadata": {
    "deletable": false,
    "nbgrader": {
     "checksum": "c59da2917185da0ac3c21081a65ac013",
     "grade": false,
     "grade_id": "cell32-a00",
     "locked": false,
     "schema_version": 1,
     "solution": true
    }
   },
   "outputs": [
    {
     "name": "stdout",
     "output_type": "stream",
     "text": [
      "(None, 0.23955)\n",
      "(1.0, 0.61755)\n",
      "(0.86957, 0.22274)\n"
     ]
    }
   ],
   "source": [
    "# YOUR CODE HERE\n",
    "def survivalRatePerClassAndColumn(X, classe, coluna):\n",
    "    X_C0 = [p for p in X if p[0] == classe and p[coluna]==0]\n",
    "    X_C1 = [p for p in X if p[0] == classe and p[coluna]==1]\n",
    "    sur_0, sur_1 = (None,None)\n",
    "    rSur_0, rSur_1 = (None, None)\n",
    "    if(X_C0):\n",
    "        sur_0 = sum(p[3] for p in X_C0)/len(X_C0)\n",
    "        rSur_0 = round(sur_0, 5)\n",
    "    if(X_C1):\n",
    "        sur_1 = sum(p[3] for p in X_C1)/len(X_C1)\n",
    "        rSur_1 = round(sur_1, 5)\n",
    "        \n",
    "    return rSur_0, rSur_1\n",
    "\n",
    "print(survivalRatePerClassAndColumn(X, 0, 1))\n",
    "print(survivalRatePerClassAndColumn(X, 1, 1))\n",
    "print(survivalRatePerClassAndColumn(X, 0, 2))"
   ]
  },
  {
   "cell_type": "code",
   "execution_count": 22,
   "metadata": {
    "deletable": false,
    "editable": false,
    "nbgrader": {
     "checksum": "85615c34d17779d533e3d6b2699f263f",
     "grade": true,
     "grade_id": "cell3t3-a00",
     "locked": true,
     "points": 1,
     "schema_version": 1,
     "solution": false
    }
   },
   "outputs": [],
   "source": [
    "from nose.tools import assert_equal\n",
    "\n",
    "#classe 0 (criança, adulto)\n",
    "assert_equal(survivalRatePerClassAndColumn(X, 0, 1), (None, 0.23955))\n",
    "#classe 1 (criança, adulto)\n",
    "assert_equal(survivalRatePerClassAndColumn(X, 1, 1), (1.0, 0.61755))\n",
    "#classe 0 (mulher, homem)\n",
    "assert_equal(survivalRatePerClassAndColumn(X, 0, 2), (0.86957, 0.22274))"
   ]
  },
  {
   "cell_type": "code",
   "execution_count": null,
   "metadata": {
    "deletable": false,
    "editable": false,
    "nbgrader": {
     "checksum": "da5920ddca575b6573a1b56524737c86",
     "grade": true,
     "grade_id": "cell3t4-a00",
     "locked": true,
     "points": 1,
     "schema_version": 1,
     "solution": false
    }
   },
   "outputs": [],
   "source": []
  },
  {
   "cell_type": "markdown",
   "metadata": {
    "deletable": false,
    "editable": false,
    "nbgrader": {
     "checksum": "1c231df443ef155464fdc8962fa19bab",
     "grade": false,
     "grade_id": "cell3c5-a00",
     "locked": true,
     "schema_version": 1,
     "solution": false
    }
   },
   "source": [
    "__c)__ Após brincar com as funções criadas, faça uma breve análise sobre os resultados encontrados, relacionando-os ao Paradoxo de Simpson visto em sala de aula."
   ]
  },
  {
   "cell_type": "markdown",
   "metadata": {
    "deletable": false,
    "nbgrader": {
     "checksum": "93501c98feb80ab84270fd8bd61c8848",
     "grade": true,
     "grade_id": "cell33-a00",
     "locked": false,
     "points": 1,
     "schema_version": 1,
     "solution": true
    }
   },
   "source": [
    "Os resultados encontrados nos mostram que só verificar um tipo de estatística nos dados não é o suficiente. O Paradoxo de Simpson fica explicitado quando olhamos apenas para a função survivalRatePerClass(), que averigua a sobrevivência por classe, mas sem olhar a porcentagem de sobrevivência dentre grupos menores, como homens, mulheres e crianças (que é feita olhando as colunas separadamente), e sem considerar a proporção destes grupos por entre as classes."
   ]
  }
 ],
 "metadata": {
  "kernelspec": {
   "display_name": "Python 3",
   "language": "python",
   "name": "python3"
  },
  "language_info": {
   "codemirror_mode": {
    "name": "ipython",
    "version": 3
   },
   "file_extension": ".py",
   "mimetype": "text/x-python",
   "name": "python",
   "nbconvert_exporter": "python",
   "pygments_lexer": "ipython3",
   "version": "3.6.5"
  }
 },
 "nbformat": 4,
 "nbformat_minor": 2
}
