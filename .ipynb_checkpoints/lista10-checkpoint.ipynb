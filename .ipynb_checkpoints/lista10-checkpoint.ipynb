{
 "cells": [
  {
   "cell_type": "markdown",
   "metadata": {
    "deletable": false,
    "editable": false,
    "nbgrader": {
     "checksum": "fbbe004c6d8d1bc6823f45ee807b6633",
     "grade": false,
     "grade_id": "cellc-a00",
     "locked": true,
     "schema_version": 1,
     "solution": false
    }
   },
   "source": [
    "# Aula 10 - Aprendizado de Máquina"
   ]
  },
  {
   "cell_type": "markdown",
   "metadata": {
    "deletable": false,
    "editable": false,
    "nbgrader": {
     "checksum": "6e9217ab115653ebd893fe41f87c9e76",
     "grade": false,
     "grade_id": "cell1c1-a00",
     "locked": true,
     "schema_version": 1,
     "solution": false
    }
   },
   "source": [
    "# Exercício 01:\n",
    "\n",
    "Na aula 10 vimos o `PosModel`, um modelo simples para prever em qual posição uma pessoa jogaria na NBA dado o seu peso e altura. Os exercícios abaixo referem-se a esse modelo.\n"
   ]
  },
  {
   "cell_type": "code",
   "execution_count": 65,
   "metadata": {
    "deletable": false,
    "editable": false,
    "nbgrader": {
     "checksum": "bd538d92f32d035ee5d901f70c5fb986",
     "grade": false,
     "grade_id": "cell1c1code-a00",
     "locked": true,
     "schema_version": 1,
     "solution": false
    }
   },
   "outputs": [],
   "source": [
    "class PosModel:\n",
    "\n",
    "    def __init__(self):\n",
    "        self.tG = 0\n",
    "        self.tC = 0\n",
    "        self.n_train = 0\n",
    "        self.hits_train = 0\n",
    "        self.n_test = 0\n",
    "        self.hits_test = 0\n",
    "        \n",
    "    def getSize(self, features):\n",
    "        return features[0]*features[1]\n",
    "    \n",
    "    def getMinSize(self, x):\n",
    "        return min([self.getSize(xi) for xi in x])\n",
    "    \n",
    "    def getMaxSize(self, x):\n",
    "        return max([self.getSize(xi) for xi in x])    \n",
    "\n",
    "    def getNumberOfHits(self, tG, tC, x, y):\n",
    "        hits = 0\n",
    "        n = len(y)\n",
    "        for i in np.arange(n):\n",
    "            pos = 'F'\n",
    "            size = self.getSize(x[i])\n",
    "            if size < tG:\n",
    "                pos = 'G'\n",
    "            elif size > tC:\n",
    "                pos = 'C'\n",
    "            if(pos == y[i]):\n",
    "                hits = hits + 1\n",
    "        return hits\n",
    "\n",
    "    def train(self, x_train, y_train):\n",
    "        self.n_train = len(y_train)\n",
    "        minvalue = self.getMinSize(x_train)\n",
    "        maxvalue = self.getMaxSize(x_train)\n",
    "        #grid search   \n",
    "        #for tg in np.arange(60*150,90*300,100):\n",
    "        for tG in np.linspace(minvalue, maxvalue, 100):\n",
    "            for tC in np.linspace(tG,maxvalue,100):\n",
    "                hits = self.getNumberOfHits(tG, tC, x_train, y_train)\n",
    "                if hits > self.hits_train:\n",
    "                    self.hits_train = hits\n",
    "                    self.tG = tG\n",
    "                    self.tC = tC\n",
    "                    \n",
    "    def test(self, x_test, y_test): \n",
    "        self.n_test = len(y_test)\n",
    "        self.hits_test = self.getNumberOfHits(self.tG, self.tC, x_test, y_test)\n",
    "        return self.hits_test/self.n_test"
   ]
  },
  {
   "cell_type": "markdown",
   "metadata": {
    "deletable": false,
    "editable": false,
    "nbgrader": {
     "checksum": "311d1753c54a8b571a94f263cbd06f7c",
     "grade": false,
     "grade_id": "cell1c2-a00",
     "locked": true,
     "schema_version": 1,
     "solution": false
    }
   },
   "source": [
    "__a)__ O modelo foi avaliado usando a acurácia simples. Modifique-o para que ele também possa exibir resultados referentes a:\n",
    "\n",
    "- Matriz de confusão;\n",
    "- Precisão;\n",
    "- Revocação;\n",
    "- F1 *score*;\n",
    "    "
   ]
  },
  {
   "cell_type": "code",
   "execution_count": 71,
   "metadata": {
    "deletable": false,
    "nbgrader": {
     "checksum": "d5b17dfe5dbb5f5f796319a5a5ae73ec",
     "grade": true,
     "grade_id": "cell11-a00",
     "locked": false,
     "points": 4,
     "schema_version": 1,
     "solution": true
    }
   },
   "outputs": [
    {
     "name": "stdout",
     "output_type": "stream",
     "text": [
      "acurácia no conjunto de treino: 0.8070175438596491\n",
      "acurácia no conjunto de teste: 0.7852760736196319\n",
      "matriz de confusão: \n",
      " [[174  28   0]\n",
      " [ 19 185   7]\n",
      " [  0  47  45]]\n",
      "precisão: [0.8613861386138614, 0.8767772511848341, 0.4891304347826087]\n",
      "revocação: [0.9015544041450777, 0.7115384615384616, 0.8653846153846154]\n",
      "f1 score: [0.881012658227848, 0.7855626326963906, 0.625]\n"
     ]
    }
   ],
   "source": [
    "# YOUR CODE HERE\n",
    "from sklearn.metrics import confusion_matrix\n",
    "import pandas as pd\n",
    "import numpy as np\n",
    "import random\n",
    "\n",
    "class PosModel:\n",
    "\n",
    "    def __init__(self):\n",
    "        self.tG = 0\n",
    "        self.tC = 0\n",
    "        self.n_train = 0\n",
    "        self.hits_train = 0\n",
    "        self.n_test = 0\n",
    "        self.hits_test = 0\n",
    "        \n",
    "    def getSize(self, features):\n",
    "        return features[0]*features[1]\n",
    "    \n",
    "    def getMinSize(self, x):\n",
    "        return min([self.getSize(xi) for xi in x])\n",
    "    \n",
    "    def getMaxSize(self, x):\n",
    "        return max([self.getSize(xi) for xi in x])    \n",
    "\n",
    "    def getNumberOfHits(self, tG, tC, x, y):\n",
    "        hits = 0\n",
    "        n = len(y)\n",
    "        for i in np.arange(n):\n",
    "            pos = 'F'\n",
    "            size = self.getSize(x[i])\n",
    "            if size < tG:\n",
    "                pos = 'G'\n",
    "            elif size > tC:\n",
    "                pos = 'C'\n",
    "            if(pos == y[i]):\n",
    "                hits = hits + 1\n",
    "        return hits\n",
    "\n",
    "    def train(self, x_train, y_train):\n",
    "        self.n_train = len(y_train)\n",
    "        minvalue = self.getMinSize(x_train)\n",
    "        maxvalue = self.getMaxSize(x_train)\n",
    "        #grid search   \n",
    "        #for tg in np.arange(60*150,90*300,100):\n",
    "        for tG in np.linspace(minvalue, maxvalue, 100):\n",
    "            for tC in np.linspace(tG,maxvalue,100):\n",
    "                hits = self.getNumberOfHits(tG, tC, x_train, y_train)\n",
    "                if hits > self.hits_train:\n",
    "                    self.hits_train = hits\n",
    "                    self.tG = tG\n",
    "                    self.tC = tC\n",
    "                    \n",
    "    def test(self, x_test, y_test): \n",
    "        self.n_test = len(y_test)\n",
    "        self.hits_test = self.getNumberOfHits(self.tG, self.tC, x_test, y_test)\n",
    "        return self.hits_test/self.n_test\n",
    "    \n",
    "    def predict(self, x):\n",
    "        pred = []\n",
    "        for i in x:\n",
    "            pos = 'F'\n",
    "            size = self.getSize(i)\n",
    "            if size < self.tG:\n",
    "                pos = 'G'\n",
    "            elif size > self.tC:\n",
    "                pos = 'C'\n",
    "            pred.append(pos)\n",
    "        return pred\n",
    "    \n",
    "    def confusionMatrix(self, y_test, y_pred): \n",
    "        return confusion_matrix(y_test, y_pred, labels=['G', 'F', 'C'])\n",
    "        \n",
    "    def precision(self, y_test, y_pred):\n",
    "        matrix = self.confusionMatrix(y_test, y_pred)\n",
    "        prec_classes = []\n",
    "        for i in range(matrix.shape[0]):\n",
    "            prec_classes.append(matrix[i][i] / sum(matrix[i]))\n",
    "        \n",
    "        return prec_classes\n",
    "\n",
    "    def recall(self, y_test, y_pred):\n",
    "        matrix = self.confusionMatrix(y_test, y_pred)\n",
    "        rec_classes = []\n",
    "        for i in range(matrix.shape[1]):\n",
    "            rec_classes.append(matrix[i][i]/sum([matrix[j][i] for j in range(matrix.shape[0])]))\n",
    "        return rec_classes\n",
    "    \n",
    "    def f1_score(self, y_test, y_pred):\n",
    "        p = self.precision(y_test, y_pred)\n",
    "        r = self.recall(y_test, y_pred)\n",
    "        return [(2*x*y)/(x+y) for x, y in zip(p, r)]\n",
    "    \n",
    "def split_data(data, prob):\n",
    "    \"\"\"split data into fractions [prob, 1 - prob]\"\"\"\n",
    "    results = [], []\n",
    "    for row in data:\n",
    "        results[0 if random.random() < prob else 1].append(row)\n",
    "    return results\n",
    "\n",
    "def train_test_split(x, y, test_pct):\n",
    "    data = zip(x, y)                              # pair corresponding values  \n",
    "    train, test = split_data(data, 1 - test_pct)  # split the dataset of pairs\n",
    "    x_train, y_train = zip(*train)                # magical un-zip trick\n",
    "    x_test, y_test = zip(*test)\n",
    "    return x_train, x_test, y_train, y_test\n",
    "\n",
    "df = pd.read_csv(\"./data/nba_ht_wt.csv\")\n",
    "data = df.values\n",
    "ys = data[:,1]        #posicoes\n",
    "xs = data[:,2:4]      #altura e peso\n",
    "x_train, x_test, y_train, y_test = train_test_split(xs, ys, 0.33)\n",
    "    \n",
    "model = PosModel()\n",
    "model.train(x_train, y_train)\n",
    "print(\"acurácia no conjunto de treino:\", model.hits_train/model.n_train)\n",
    "print(\"acurácia no conjunto de teste:\", model.test(x_test, y_test))\n",
    "\n",
    "pred = model.predict(xs)\n",
    "\n",
    "print('matriz de confusão: \\n', model.confusionMatrix(ys, pred))\n",
    "print('precisão:', model.precision(ys, pred))\n",
    "print('revocação:', model.recall(ys, pred))\n",
    "print('f1 score:', model.f1_score(ys, pred))"
   ]
  },
  {
   "cell_type": "markdown",
   "metadata": {
    "deletable": false,
    "editable": false,
    "nbgrader": {
     "checksum": "9068a8d6e14ba77f6871b84433e5eed1",
     "grade": false,
     "grade_id": "cell1c3-a00",
     "locked": true,
     "schema_version": 1,
     "solution": false
    }
   },
   "source": [
    "__b)__ (**opcional**) Talvez você tenha pensado em uma maneira melhor de prever as posições dos jogadores a partir da sua altura e peso. Caso isso seja verdade, crie o seu próprio modelo e o compare com o `PosModel`.\n",
    "\n"
   ]
  },
  {
   "cell_type": "code",
   "execution_count": null,
   "metadata": {
    "deletable": false,
    "nbgrader": {
     "checksum": "d2fe3f273d262ea4fdc26fb213497f83",
     "grade": true,
     "grade_id": "cell12-a00",
     "locked": false,
     "points": 0,
     "schema_version": 1,
     "solution": true
    }
   },
   "outputs": [],
   "source": [
    "# YOUR CODE HERE\n",
    "raise NotImplementedError()\n"
   ]
  },
  {
   "cell_type": "markdown",
   "metadata": {
    "deletable": false,
    "editable": false,
    "nbgrader": {
     "checksum": "e9637b4c27c5923916ea05239ff7b928",
     "grade": false,
     "grade_id": "cell1c4-a00",
     "locked": true,
     "schema_version": 1,
     "solution": false
    }
   },
   "source": [
    "__c)__ Considerando que o seu modelo é preciso o suficiente, aplique-o sobre outros conjuntos de dados para descobrir em quais posições as pessoas jogariam na NBA, ou seja, dado um conjunto de pessoas, com as suas respectivas alturas e pesos, quantos seriam armadores, alas e pivôs? Responda a essa pergunta para os seguintes conjuntos de dados:\n",
    "\n",
    "- [Jogadores de hockey da NHL](https://www.dropbox.com/s/mbqrji2376qz6v8/nhl_ht_wt.csv?dl=0);\n",
    "- [Jogadores de futebol da Premier League (liga inglesa)](https://www.dropbox.com/s/i5ysl5lhqlgsxv7/epl_2015_ht_wt.csv?dl=0);\n",
    "- [Pessoas do conjunto de dados `Davis`](https://www.dropbox.com/s/xtexorbiu23wxlo/Davis.csv?dl=0).\n",
    "\n"
   ]
  },
  {
   "cell_type": "code",
   "execution_count": 78,
   "metadata": {
    "deletable": false,
    "nbgrader": {
     "checksum": "6b9b83954fec1a0f2cab717e4cd716e9",
     "grade": true,
     "grade_id": "cell13-a00",
     "locked": false,
     "points": 0,
     "schema_version": 1,
     "solution": true
    }
   },
   "outputs": [
    {
     "name": "stdout",
     "output_type": "stream",
     "text": [
      "G: 295\n",
      "F: 418\n",
      "C: 4\n"
     ]
    }
   ],
   "source": [
    "# YOUR CODE HERE\n",
    "import collections\n",
    "import pandas as pd\n",
    "import numpy as np\n",
    "import random\n",
    "\n",
    "df = pd.read_csv(\"./data/nhl_ht_wt.csv\")\n",
    "data = df.values\n",
    "xs = data[:,3:5]      \n",
    "x_train, x_test, y_train, y_test = train_test_split(xs, ys, 0.33)\n",
    "\n",
    "model = PosModel()\n",
    "model.train(x_train, y_train)\n",
    "\n",
    "predict = model.predict(xs)\n",
    "count = collections.Counter(predict)\n",
    "print('G:', count['G'])\n",
    "print('F:', count['F'])\n",
    "print('C:', count['C'])"
   ]
  },
  {
   "cell_type": "code",
   "execution_count": null,
   "metadata": {},
   "outputs": [],
   "source": []
  }
 ],
 "metadata": {
  "kernelspec": {
   "display_name": "Python 3",
   "language": "python",
   "name": "python3"
  },
  "language_info": {
   "codemirror_mode": {
    "name": "ipython",
    "version": 3
   },
   "file_extension": ".py",
   "mimetype": "text/x-python",
   "name": "python",
   "nbconvert_exporter": "python",
   "pygments_lexer": "ipython3",
   "version": "3.6.5"
  }
 },
 "nbformat": 4,
 "nbformat_minor": 2
}
